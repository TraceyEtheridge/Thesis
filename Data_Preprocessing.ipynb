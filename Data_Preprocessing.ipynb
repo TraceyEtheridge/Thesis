{
 "cells": [
  {
   "cell_type": "code",
   "execution_count": 1,
   "id": "419c18d2",
   "metadata": {},
   "outputs": [],
   "source": [
    "import pandas as pd\n",
    "import numpy as np\n",
    "import regex as re\n",
    "import spacy\n",
    "from spacy.lang.en.stop_words import STOP_WORDS\n",
    "from spacy.lang.en import English\n",
    "#from spacy.tokenizer import Tokenizer\n",
    "from tqdm import tqdm\n",
    "import contractions\n",
    "import string\n",
    "from nltk.tokenize import word_tokenize # must use this for collocations, spacy tokeniser seems incompatible when calcualting pmi score\n",
    "from unidecode import unidecode\n"
   ]
  },
  {
   "cell_type": "raw",
   "id": "36e4b77f-7b83-40a4-abf6-5074b6bbbd16",
   "metadata": {},
   "source": [
    "import os\n",
    "#os.environ['TF_XLA_FLAGS'] = '--tf_xla_enable_xla_devices'\n",
    "import tensorflow as tf\n",
    "print(\"Num GPUs Available: \", len(tf.config.list_physical_devices('GPU')))\n",
    "print(\"GPUs: \", len(tf.config.experimental.list_physical_devices('GPU')))\n",
    "os.getcwd()"
   ]
  },
  {
   "cell_type": "code",
   "execution_count": 2,
   "id": "4f847e73",
   "metadata": {},
   "outputs": [
    {
     "name": "stdout",
     "output_type": "stream",
     "text": [
      "<class 'pandas.core.frame.DataFrame'>\n",
      "RangeIndex: 369047 entries, 0 to 369046\n",
      "Data columns (total 7 columns):\n",
      " #   Column      Non-Null Count   Dtype         \n",
      "---  ------      --------------   -----         \n",
      " 0   author      181799 non-null  object        \n",
      " 1   date        369047 non-null  datetime64[ns]\n",
      " 2   domain      369047 non-null  object        \n",
      " 3   title       368962 non-null  object        \n",
      " 4   url         369047 non-null  object        \n",
      " 5   content     369047 non-null  object        \n",
      " 6   topic_area  369047 non-null  object        \n",
      "dtypes: datetime64[ns](1), object(6)\n",
      "memory usage: 19.7+ MB\n",
      "None\n"
     ]
    },
    {
     "data": {
      "text/html": [
       "<div>\n",
       "<style scoped>\n",
       "    .dataframe tbody tr th:only-of-type {\n",
       "        vertical-align: middle;\n",
       "    }\n",
       "\n",
       "    .dataframe tbody tr th {\n",
       "        vertical-align: top;\n",
       "    }\n",
       "\n",
       "    .dataframe thead th {\n",
       "        text-align: right;\n",
       "    }\n",
       "</style>\n",
       "<table border=\"1\" class=\"dataframe\">\n",
       "  <thead>\n",
       "    <tr style=\"text-align: right;\">\n",
       "      <th></th>\n",
       "      <th>author</th>\n",
       "      <th>date</th>\n",
       "      <th>domain</th>\n",
       "      <th>title</th>\n",
       "      <th>url</th>\n",
       "      <th>content</th>\n",
       "      <th>topic_area</th>\n",
       "    </tr>\n",
       "  </thead>\n",
       "  <tbody>\n",
       "    <tr>\n",
       "      <th>0</th>\n",
       "      <td>Thomas Hughes</td>\n",
       "      <td>2020-01-02</td>\n",
       "      <td>marketbeat</td>\n",
       "      <td>Three Industrial Giants You Should Own In 2020</td>\n",
       "      <td>https://www.marketbeat.com/originals/three-ind...</td>\n",
       "      <td>With the end of the year just around the corne...</td>\n",
       "      <td>business</td>\n",
       "    </tr>\n",
       "    <tr>\n",
       "      <th>1</th>\n",
       "      <td>Thomas Hughes</td>\n",
       "      <td>2020-01-03</td>\n",
       "      <td>marketbeat</td>\n",
       "      <td>Labor Stocks Are Going To Break Out In 2020</td>\n",
       "      <td>https://www.marketbeat.com/originals/labor-sto...</td>\n",
       "      <td>The labor markets were one of the most closely...</td>\n",
       "      <td>business</td>\n",
       "    </tr>\n",
       "    <tr>\n",
       "      <th>2</th>\n",
       "      <td>Steve Anderson</td>\n",
       "      <td>2020-01-03</td>\n",
       "      <td>marketbeat</td>\n",
       "      <td>Tesla (TSLA) Breaks Shipment Record, Beats Est...</td>\n",
       "      <td>https://www.marketbeat.com/originals/teal-brea...</td>\n",
       "      <td>It could be forgiven, that some might think th...</td>\n",
       "      <td>business</td>\n",
       "    </tr>\n",
       "  </tbody>\n",
       "</table>\n",
       "</div>"
      ],
      "text/plain": [
       "            author       date      domain  \\\n",
       "0    Thomas Hughes 2020-01-02  marketbeat   \n",
       "1    Thomas Hughes 2020-01-03  marketbeat   \n",
       "2  Steve Anderson  2020-01-03  marketbeat   \n",
       "\n",
       "                                               title  \\\n",
       "0     Three Industrial Giants You Should Own In 2020   \n",
       "1        Labor Stocks Are Going To Break Out In 2020   \n",
       "2  Tesla (TSLA) Breaks Shipment Record, Beats Est...   \n",
       "\n",
       "                                                 url  \\\n",
       "0  https://www.marketbeat.com/originals/three-ind...   \n",
       "1  https://www.marketbeat.com/originals/labor-sto...   \n",
       "2  https://www.marketbeat.com/originals/teal-brea...   \n",
       "\n",
       "                                             content topic_area  \n",
       "0  With the end of the year just around the corne...   business  \n",
       "1  The labor markets were one of the most closely...   business  \n",
       "2  It could be forgiven, that some might think th...   business  "
      ]
     },
     "execution_count": 2,
     "metadata": {},
     "output_type": "execute_result"
    }
   ],
   "source": [
    "df = pd.read_csv('./data/covid19_articles_20201231.csv')\n",
    "\n",
    "# Date to datetime\n",
    "df['date'] = pd.to_datetime(df['date'])\n",
    "\n",
    "print(df.info())\n",
    "df.head(3)"
   ]
  },
  {
   "cell_type": "markdown",
   "id": "5ad55feb-61c1-43c8-bf96-411c739bde7e",
   "metadata": {},
   "source": [
    "### Drop Article Functions\n",
    "* Drop duplicates\n",
    "* Drop long articles\n",
    "* Drop articles that are annual reports"
   ]
  },
  {
   "cell_type": "code",
   "execution_count": 3,
   "id": "e45bb78c-c564-4358-9715-3b1fce3c740a",
   "metadata": {},
   "outputs": [],
   "source": [
    "def drop_articles(df):\n",
    "    \n",
    "    df = df.copy()\n",
    "    \n",
    "    # Drop duplicates\n",
    "    num_articles_pre_drop = len(df)\n",
    "    df = df.drop_duplicates(subset='content')\n",
    "    print(f'no. articles dropped: {num_articles_pre_drop - len(df)} duplicates')\n",
    "    \n",
    "    # Drop long articles\n",
    "    num_articles_pre_drop = len(df)\n",
    "    df = df[df['content'].str.len() < 50000]\n",
    "    print(f'no. articles dropped: {num_articles_pre_drop - len(df)} long articles')\n",
    "    \n",
    "    # Drop short articles\n",
    "    num_articles_pre_drop = len(df)\n",
    "    df = df[df['content'].str.len() > 50]\n",
    "    print(f'no. articles dropped: {num_articles_pre_drop - len(df)} short articles')\n",
    "    \n",
    "    # Drop articles with annual report as title\n",
    "    num_articles_pre_drop = len(df)\n",
    "    df = df[~df['title'].str.contains(\"Annual Report | Half-yearly financial report | half-year report\", na=False)]\n",
    "    print(f'no. articles dropped: {num_articles_pre_drop - len(df)} annual reports')\n",
    "    \n",
    "    # Drop earnings conference call transcripts\n",
    "    num_articles_pre_drop = len(df)\n",
    "    df = df[~df['title'].str.contains(\"earnings conference call | transcript\", na=False)]\n",
    "    print(f'no. articles dropped: {num_articles_pre_drop - len(df)} earnings call transcripts')\n",
    "    \n",
    "    print('no. of articles: ', len(df))\n",
    "    \n",
    "    return df"
   ]
  },
  {
   "cell_type": "code",
   "execution_count": 4,
   "id": "09ffd888",
   "metadata": {},
   "outputs": [
    {
     "name": "stdout",
     "output_type": "stream",
     "text": [
      "no. articles dropped: 127 duplicates\n",
      "no. articles dropped: 3095 long articles\n",
      "no. articles dropped: 9 short articles\n",
      "no. articles dropped: 139 annual reports\n",
      "no. articles dropped: 477 earnings call transcripts\n",
      "no. of articles:  365200\n"
     ]
    }
   ],
   "source": [
    "test = drop_articles(df)"
   ]
  },
  {
   "cell_type": "markdown",
   "id": "3f34333e",
   "metadata": {},
   "source": [
    "### Cleaning Functions\n",
    "\n",
    "TO DO\n",
    "* Normalise plurals - maybe - https://stackoverflow.com/questions/32404666/python-generating-the-plural-noun-of-a-singular-noun/41830129\n",
    "* Make code more efficient - tokens.split pass into function rather than doing in every function"
   ]
  },
  {
   "cell_type": "code",
   "execution_count": 5,
   "id": "3d263e86",
   "metadata": {},
   "outputs": [],
   "source": [
    "def strip_text(text):\n",
    "    \"\"\"\n",
    "    : remove new line and trailing leading whitespace\n",
    "    \"\"\"\n",
    "    text = text.strip()\n",
    "    text = text.replace('\\n',' ')\n",
    "\n",
    "    return text\n",
    "\n",
    "def is_number(text):\n",
    "    \"\"\"\n",
    "    :utility function to test if text is a number\n",
    "    \"\"\"\n",
    "    try:\n",
    "        float(text) if '.' in text else int(text)\n",
    "        return True\n",
    "    except ValueError:\n",
    "        return False\n",
    "\n",
    "def remove_numbers(text):\n",
    "    \"\"\"\n",
    "    :remove numbers, percentages, dollar values\n",
    "    \"\"\"\n",
    "    \n",
    "    regex_percent = re.compile(r'[\\-\\+]?[\\d]+\\.?\\d*[%]+\\.?') # e.g. 3%, -3.8%\n",
    "    regex_number_fullstop = re.compile(r'\\d+[\\.]') # e.g. 2019.\n",
    "    regex_number_fullstop_2 = re.compile(r'\\d+\\.\\d+\\.') # e.g. 2019.28.\n",
    "    regex_dollar_number = re.compile(r'[\\$]+[\\d,]+\\.?\\d*') # e.g. $2 or $2.4567\n",
    "    regex_thousands = re.compile(r'\\d+\\,\\d+') # e.g. 4,000 or 4,000.00\n",
    "    regex_thousands_2 = re.compile(r'\\d+\\,\\d+\\W') # e.g. 4,000 or 4,000.00\n",
    "    \n",
    "    percent = regex_percent.findall(text)\n",
    "    number_fullstop = regex_number_fullstop.findall(text)\n",
    "    number_fullstop_2 = regex_number_fullstop_2.findall(text)\n",
    "    dollar_number = regex_dollar_number.findall(text)\n",
    "    thousands = regex_thousands.findall(text)\n",
    "    thousands_2 = regex_thousands_2.findall(text)\n",
    "\n",
    "    word_removals = percent + number_fullstop + number_fullstop_2 + dollar_number + thousands + thousands_2\n",
    "\n",
    "    tokens = text.split(\" \")\n",
    "    \n",
    "    # remove integers and floats\n",
    "    tokens_filtered = [word for word in tokens if not is_number(word)]\n",
    "    # remove percentages\n",
    "    tokens_filtered = [word for word in tokens_filtered if word not in word_removals]\n",
    "    \n",
    "    text_clean = (\" \").join(tokens_filtered)\n",
    "    \n",
    "    return text_clean\n",
    "\n",
    "def remove_emails_tags(text):\n",
    "    \"\"\"\n",
    "    : remove emails and tags (e.g @sleepingbeauty)\n",
    "    \"\"\"\n",
    "    # Add a space before commas to seperate from preceeding word\n",
    "    text = re.sub(\",\", \" ,\", text)\n",
    "    \n",
    "    regex_email = re.compile(r'[\\w\\.-]+@[\\w\\.-]+.') # email with character at end, e.g. space\n",
    "    regex_email2 = re.compile(r'[\\w\\.-]+@[\\w\\.-]+') # email with no character at end\n",
    "    regex_tag = re.compile(r'@[\\w\\.-]+') # tags e.g @sleepingbeauty\n",
    "    regex_tag2 = re.compile(r'\\S+@[\\w\\.-]+.') # tags plus character e.g (@sleepingbeauty)\n",
    "    email = regex_email.findall(text)\n",
    "    email2 = regex_email2.findall(text)\n",
    "    tag = regex_tag.findall(text)\n",
    "    tag2 = regex_tag2.findall(text)\n",
    "    word_removals = email + email2 + tag + tag2\n",
    "    \n",
    "    tokens = text.split(\" \")\n",
    "    # Remove if email\n",
    "    tokens_filtered = [word for word in tokens if word not in word_removals]\n",
    "    \n",
    "    text_clean = (\" \").join(tokens_filtered)\n",
    "    \n",
    "    return text_clean\n",
    "\n",
    "def remove_contraction_possesive_apostrophes(text):\n",
    "    \"\"\"\n",
    "    :remove contraction e.g. can't, won't, she'll -> cant, and possesive apostrophes +s e.g The president's dog -> president\n",
    "    note: not completely correct as removes 's from e.g. that's which is a contraction rather that possessive, but this is not seen as an issue\n",
    "    \"\"\"\n",
    "    \n",
    "    #regex_contraction = re.compile(r\"[a-zA-Z]+'[a-rt-zA-RT-Z]+|[a-zA-Z]+’[a-rt-zA-RT-Z]+\")\n",
    "    #contraction = regex_contraction.findall(text)\n",
    "    \n",
    "    regex_possessive = re.compile(r\"[a-zA-Z]+'[sS]+|[a-zA-Z]+’[sS]+\")\n",
    "    possessive = regex_possessive.findall(text)\n",
    "    \n",
    "    tokens = text.split(\" \")\n",
    "    \n",
    "    # remove contractions\n",
    "    #tokens_filtered = [word if word not in contraction else word.replace(\"'\", \"\").replace(\"’\",\"\") for word in tokens]\n",
    "    # replace 's\n",
    "    tokens_filtered = [word if word not in possessive else word.replace(\"'s\", \"\").replace(\"’s\",\"\").replace(\"'S\",\"\").replace(\"’S\",\"\") for word in tokens]\n",
    "    \n",
    "    text_clean = (\" \").join(tokens_filtered)\n",
    "    \n",
    "    return text_clean\n",
    "\n",
    "def expand_contractions(text):\n",
    "    \n",
    "    try:\n",
    "        expanded_text = contractions.fix(text)\n",
    "    except:\n",
    "        expanded_text = text\n",
    "        \n",
    "    return expanded_text\n",
    "\n",
    "def remove_punctuation(text):\n",
    "    \"\"\"\n",
    "    :remove english punctuation (note: does not remove non english punctuation, e.g german version of \")\n",
    "    \"\"\"\n",
    "    return text.translate(str.maketrans('', '', string.punctuation))\n",
    "\n",
    "def remove_long_words(text):\n",
    "    \"\"\"\n",
    "    :remove words that are likely not english or html references\n",
    "    \"\"\"\n",
    "    tokens = text.split(\" \")\n",
    "    tokens_filtered = [word for word in tokens if len(word) < 20 ]\n",
    "    text_clean = (\" \").join(tokens_filtered)\n",
    "    \n",
    "    return text_clean\n",
    "\n",
    "def lowercase_text(text):\n",
    "    \"\"\"\n",
    "    :convert text to lowercase\n",
    "    \"\"\"\n",
    "    return text.lower()\n",
    "\n",
    "def remove_stopwords(text):\n",
    "    \"\"\"\n",
    "    :remove stopwords\n",
    "    \"\"\"\n",
    "    stop_word_list = spacy.lang.en.stop_words.STOP_WORDS\n",
    "    tokens = text.split(\" \")\n",
    "    tokens_filtered = [word for word in tokens if word not in stop_word_list]\n",
    "    tokens_filtered = [word for word in tokens_filtered if word != \" \"]\n",
    "    tokens_filtered = [word for word in tokens_filtered if word != \"\"]\n",
    "    # Remove single char words\n",
    "    tokens_filtered = [word for word in tokens_filtered if len(word) > 1]\n",
    "    text_clean = (\" \").join(tokens_filtered)\n",
    "    return text_clean\n",
    "    \n",
    "def remove_accents_non_english_char(text):\n",
    "    \"\"\"\n",
    "    :remove accents and non english characters (includes non english punctuation)\n",
    "    \"\"\"\n",
    "    #text = unidecode(text, \"utf-8\")\n",
    "    text = unidecode(text)\n",
    "    text = text.replace('\\n',' ')\n",
    "\n",
    "    return text\n",
    "    "
   ]
  },
  {
   "cell_type": "code",
   "execution_count": 6,
   "id": "2540aa01-20af-4942-a626-6e5d33384c48",
   "metadata": {},
   "outputs": [],
   "source": [
    "#expand_contractions(\"they're theyre Theyre wont won't Steve's, he's\")"
   ]
  },
  {
   "cell_type": "code",
   "execution_count": 7,
   "id": "73b9b572-ba57-405f-b61a-14a4d3b3c5b0",
   "metadata": {},
   "outputs": [
    {
     "data": {
      "text/plain": [
       "'It could be forgiven, that some might think that Tesla (NASDAQ: TSLA) was little more than a big pile of pie-in-the-sky nonsense. Yet it seems, these days, that we hear a lot of positive buzz around this maker of electric vehicles that implores we take this company seriously. One more brick in the wall of credibility has fallen into place, as recently, Tesla reported its delivery and production numbers for the fourth quarter of 2019. The news is shockingly good, as evidenced by key phrases like “record-breaking.” Production Is Off and Running The key number for the fourth quarter at Tesla was 112,000, which is how many vehicles were delivered worldwide for the period. This not only beat Wall Street estimates by 6,000 vehicles—estimates said 106,000 would go out the door—but it also beat a goal set up by Musk earlier in the year. Interestingly, if Tesla had matched the street estimates, it still would have met Musk\\'s own goal, so it\\'s a surprise for both entities. Tesla noted that, in 2019, it delivered a grand total of around 367,500 vehicles, a move which represents a 50% increase from 2018\\'s figures. Good news by any stretch, and sufficient to drive not only a two percent price increase, but part of an increase of 39% overall for the last year. It\\'s given some of those gains back as of this writing, but it\\'s still handily off yesterday\\'s close of 430.26. A Watched Pot That\\'s Boiling Pretty Hard It\\'s not surprising that Tesla\\'s delivery figures are watched closely. They\\'re considered the best way to figure out Tesla\\'s sales numbers—which is reasonable enough; obviously they aren\\'t selling vehicles they\\'re not delivering, unexpected cancellations aside—and the numbers spotted so far have been substantial. document.write(\\'<a style=\"text-decoration:none;font-weight:normal;color:#696969;\" target=\"_blank\" rel=\"nofollow\" href=\"https://www.ame\\' + \\'ricanconsumernews.net/scripts/click.aspx?NativeDisplayAdID=517&ImpressionID=0&UserID=0&Placement=PlaceOnArticlePage\">\\');A Wall Street legend has just made a rather large discovery…\\n\\nFor the past several months, he’s been tracking Warren Buffett’s top 25 holdings…\\n\\nAnd what he found was surprising Tesla was expected to deliver 87,900 of its Model 3 vehicles, as well as 9,800 of its Model S and 9,300 of its Model X, according to word from FactSet. Yet Tesla announced sound if approximate defeats on all those fronts, noting that it shipped 92,550 Model 3 vehicles, along with 19,450 Model S and Model X vehicles. While there\\'s some wiggle room for defeat in that last quote—why they didn\\'t say how many of each was shipped rather than putting the two together in their own bloc is unclear—it would mean a serious win in one category or the other. If, for example, its Model X sales faltered and they only got 4,000 out the door, that would mean they shipped 15,450 Model S units, or better than 50% overestimates. Additionally, the production numbers at Tesla are looking sharp as well. While the company was setting production records back in the third quarter of 2019, they were actually delivering more cars than they produced. Yet the company has put a clear focus on production, putting largely to rest concerns that Tesla\\'s total manufacturing capability would leave it a niche product. Tesla Continues to Build a Charge As good as the numbers have been around Tesla lately, the buzz has been even better. Just after Christmas, we saw Wedbush Securities hike its price target from $270 to $370 a share. Meeting that price target, meanwhile, would require a substantial drop in the current share price. The last few weeks have been enough to take the wind out of predictions from Credit Suisse analyst Dan Levy, who suggesting a potential 40 percent drop in the stock price to come While that was based on the appearance of extra competition in the field—and not out of line, either, as Ford (NYSE: F) recently noted that reservations for the upcoming Mach-E electric Mustang were full—the production and delivery numbers emerging from Tesla suggests it\\'s in position to effectively take on some competition. There\\'s no doubt that Tesla has been gaining a lot of ground lately. It\\'s already beaten short sellers on at least one notable occasion, and with bull cases suggesting the stock still has room to run over even its current levels, the idea that Tesla is stymied in its push to get more electric vehicles into the market seems flawed at best. What\\'s more, with Tesla having some unexpected advantages in its arsenal, like its rapid improvements in battery technology, there\\'s the possibility that the company could diversify and give itself a couple of extra revenue streams, a point that seldom goes amiss in the face of increased competition. People seem interested in electric vehicles, and right now, Tesla is leading the way in their provision. Competition is likely to follow—these figures are too substantial not to suggest that others want a piece of the pie—but with that diversification potential on hand, Tesla might well be able to hold out and see the levels that only the most ardent bulls can see right now.   5 Oil Stocks That May Not Survive the Current Crisis What would you think of the long-term prospects of a business that paid you to buy their products? That’s an oversimplification of what occurred to the May futures contract for oil on April 20. The price for that contract sold for a negative price for the first time in history.\\n\\nThe crisis befalling the oil companies at this time can best be described as “only the strongest survive.” There’s just no way the oil companies can possibly handle month after month of rock-bottom oil prices.\\n\\nThe problem is almost comically simple to understand. There is a massively reduced demand for oil as millions of Americans are following mitigation orders ranging from social distancing guidelines to more restrictive shelter in place orders. At the same time, the market is trying to absorb the oversupply of oil that came from Russia and Saudi Arabia.\\n\\nHowever, when the year started, things looked like it might be business as usual for oil producers. The U.S. economy was humming along and there was talk that the second half of the year might finally bring the boost to oil prices that many companies badly needed.\\n\\nHowever, since the middle of February, the bottom has dropped out of the market in general, and oil prices have been one of the main sectors to feel the impact.\\n\\nInitially, investors tried to remain optimistic. A month ago, investors thought that the economy might be reopening sooner rather than later. However, the exact timing of the reopening is about as fluid as a barrel of oil. And with it looking more likely that there will be more demand destruction at least through May, there’s very little to prop up the stock of any oil companies.\\n\\nAnd that means that, in all likelihood, there will not be room left for some oil companies. We’ve highlighted five oil stocks that have a strong probability of not surviving the chaos surrounding the coronavirus and our nation’s response. View the \"5 Oil Stocks That May Not Survive the Current Crisis\". Complete the form below to receive the latest headlines and analysts\\' recommendations for your stocks with our free daily email newsletter:'"
      ]
     },
     "execution_count": 7,
     "metadata": {},
     "output_type": "execute_result"
    }
   ],
   "source": [
    "df['content'][2]"
   ]
  },
  {
   "cell_type": "code",
   "execution_count": 8,
   "id": "ac9c0947",
   "metadata": {},
   "outputs": [
    {
     "name": "stdout",
     "output_type": "stream",
     "text": [
      "it could be forgiven  that some might think that tesla nasdaq tsla was little more than a big pile of pieinthesky nonsense yet it seems  these days  that we hear a lot of positive buzz around this maker of electric vehicles that implores we take this company seriously one more brick in the wall of credibility has fallen into place  as recently  tesla reported its delivery and production numbers for the fourth quarter of the news is shockingly good  as evidenced by key phrases like recordbreaking production is off and running the key number for the fourth quarter at tesla was which is how many vehicles were delivered worldwide for the period this not only beat wall street estimates by vehiclesestimates said would go out the doorbut it also beat a goal set up by musk earlier in the year interestingly  if tesla had matched the street estimates  it still would have met musk own goal  so it is a surprise for both entities tesla noted that  in  it delivered a grand total of around vehicles  a move which represents a increase from 2018s figures good news by any stretch  and sufficient to drive not only a two percent price increase  but part of an increase of overall for the last year it is given some of those gains back as of this writing  but it is still handily off yesterday close of a watched pot that is boiling pretty hard it is not surprising that tesla delivery figures are watched closely they are considered the best way to figure out tesla sales numberswhich is reasonable enough obviously they are not selling vehicles they are not delivering  unexpected cancellations asideand the numbers spotted so far have been substantial documentwritea targetblank relnofollow hrefhttpswwwame  wall street legend has just made a rather large discovery  for the past several months  he is been tracking warren buffett top holdings  and what he found was surprising tesla was expected to deliver of its model vehicles  as well as of its model s and of its model x  according to word from factset yet tesla announced sound if approximate defeats on all those fronts  noting that it shipped model vehicles  along with model s and model x vehicles while there is some wiggle room for defeat in that last quotewhy they did not say how many of each was shipped rather than putting the two together in their own bloc is unclearit would mean a serious win in one category or the other if  for example  its model x sales faltered and they only got out the door  that would mean they shipped model s units  or better than overestimates additionally  the production numbers at tesla are looking sharp as well while the company was setting production records back in the third quarter of  they were actually delivering more cars than they produced yet the company has put a clear focus on production  putting largely to rest concerns that tesla total manufacturing capability would leave it a niche product tesla continues to build a charge as good as the numbers have been around tesla lately  the buzz has been even better just after christmas  we saw wedbush securities hike its price target from to a share meeting that price target  meanwhile  would require a substantial drop in the current share price the last few weeks have been enough to take the wind out of predictions from credit suisse analyst dan levy  who suggesting a potential percent drop in the stock price to come while that was based on the appearance of extra competition in the fieldand not out of line  either  as ford nyse f recently noted that reservations for the upcoming mache electric mustang were fullthe production and delivery numbers emerging from tesla suggests it is in position to effectively take on some competition there is no doubt that tesla has been gaining a lot of ground lately it is already beaten short sellers on at least one notable occasion  and with bull cases suggesting the stock still has room to run over even its current levels  the idea that tesla is stymied in its push to get more electric vehicles into the market seems flawed at best what is more  with tesla having some unexpected advantages in its arsenal  like its rapid improvements in battery technology  there is the possibility that the company could diversify and give itself a couple of extra revenue streams  a point that seldom goes amiss in the face of increased competition people seem interested in electric vehicles  and right now  tesla is leading the way in their provision competition is likely to followthese figures are too substantial not to suggest that others want a piece of the piebut with that diversification potential on hand  tesla might well be able to hold out and see the levels that only the most ardent bulls can see right now   oil stocks that may not survive the current crisis what would you think of the longterm prospects of a business that paid you to buy their products that is an oversimplification of what occurred to the may futures contract for oil on april the price for that contract sold for a negative price for the first time in history  the crisis befalling the oil companies at this time can best be described as only the strongest survive there is just no way the oil companies can possibly handle month after month of rockbottom oil prices  the problem is almost comically simple to understand there is a massively reduced demand for oil as millions of americans are following mitigation orders ranging from social distancing guidelines to more restrictive shelter in place orders at the same time  the market is trying to absorb the oversupply of oil that came from russia and saudi arabia  however  when the year started  things looked like it might be business as usual for oil producers the yous economy was humming along and there was talk that the second half of the year might finally bring the boost to oil prices that many companies badly needed  however  since the middle of february  the bottom has dropped out of the market in general  and oil prices have been one of the main sectors to feel the impact  initially  investors tried to remain optimistic a month ago  investors thought that the economy might be reopening sooner rather than later however  the exact timing of the reopening is about as fluid as a barrel of oil and with it looking more likely that there will be more demand destruction at least through may  there is very little to prop up the stock of any oil companies  and that means that  in all likelihood  there will not be room left for some oil companies we have highlighted five oil stocks that have a strong probability of not surviving the chaos surrounding the coronavirus and our nation response view the oil stocks that may not survive the current crisis complete the form below to receive the latest headlines and analysts recommendations for your stocks with our free daily email newsletter\n"
     ]
    }
   ],
   "source": [
    "test = strip_text(df['content'][2])\n",
    "test = remove_numbers(test)\n",
    "test = remove_emails_tags(test)\n",
    "test = expand_contractions(test)\n",
    "test = remove_contraction_possesive_apostrophes(test)\n",
    "test = remove_accents_non_english_char(test)\n",
    "test = remove_punctuation(test)\n",
    "test = remove_numbers(test)\n",
    "test = remove_long_words(test)\n",
    "test = lowercase_text(test)\n",
    "print(test)"
   ]
  },
  {
   "cell_type": "code",
   "execution_count": 9,
   "id": "492c99ba-6927-4fff-a748-1f207ec9cb4e",
   "metadata": {},
   "outputs": [
    {
     "data": {
      "text/plain": [
       "'forgiven think tesla nasdaq tsla little big pile pieinthesky nonsense days hear lot positive buzz maker electric vehicles implores company seriously brick wall credibility fallen place recently tesla reported delivery production numbers fourth quarter news shockingly good evidenced key phrases like recordbreaking production running key number fourth quarter tesla vehicles delivered worldwide period beat wall street estimates vehiclesestimates said doorbut beat goal set musk earlier year interestingly tesla matched street estimates met musk goal surprise entities tesla noted delivered grand total vehicles represents increase 2018s figures good news stretch sufficient drive percent price increase increase overall year given gains writing handily yesterday close watched pot boiling pretty hard surprising tesla delivery figures watched closely considered best way figure tesla sales numberswhich reasonable obviously selling vehicles delivering unexpected cancellations asideand numbers spotted far substantial documentwritea targetblank relnofollow hrefhttpswwwame wall street legend large discovery past months tracking warren buffett holdings found surprising tesla expected deliver model vehicles model model according word factset tesla announced sound approximate defeats fronts noting shipped model vehicles model model vehicles wiggle room defeat quotewhy shipped putting bloc unclearit mean win category example model sales faltered got door mean shipped model units better overestimates additionally production numbers tesla looking sharp company setting production records quarter actually delivering cars produced company clear focus production putting largely rest concerns tesla total manufacturing capability leave niche product tesla continues build charge good numbers tesla lately buzz better christmas saw wedbush securities hike price target share meeting price target require substantial drop current share price weeks wind predictions credit suisse analyst dan levy suggesting potential percent drop stock price come based appearance extra competition fieldand line ford nyse recently noted reservations upcoming mache electric mustang fullthe production delivery numbers emerging tesla suggests position effectively competition doubt tesla gaining lot ground lately beaten short sellers notable occasion bull cases suggesting stock room run current levels idea tesla stymied push electric vehicles market flawed best tesla having unexpected advantages arsenal like rapid improvements battery technology possibility company diversify couple extra revenue streams point seldom goes amiss face increased competition people interested electric vehicles right tesla leading way provision competition likely followthese figures substantial suggest want piece piebut diversification potential hand tesla able hold levels ardent bulls right oil stocks survive current crisis think longterm prospects business paid buy products oversimplification occurred futures contract oil april price contract sold negative price time history crisis befalling oil companies time best described strongest survive way oil companies possibly handle month month rockbottom oil prices problem comically simple understand massively reduced demand oil millions americans following mitigation orders ranging social distancing guidelines restrictive shelter place orders time market trying absorb oversupply oil came russia saudi arabia year started things looked like business usual oil producers yous economy humming talk second half year finally bring boost oil prices companies badly needed middle february dropped market general oil prices main sectors feel impact initially investors tried remain optimistic month ago investors thought economy reopening sooner later exact timing reopening fluid barrel oil looking likely demand destruction little prop stock oil companies means likelihood room left oil companies highlighted oil stocks strong probability surviving chaos surrounding coronavirus nation response view oil stocks survive current crisis complete form receive latest headlines analysts recommendations stocks free daily email newsletter'"
      ]
     },
     "execution_count": 9,
     "metadata": {},
     "output_type": "execute_result"
    }
   ],
   "source": [
    "test = remove_stopwords(test)\n",
    "test"
   ]
  },
  {
   "cell_type": "markdown",
   "id": "bf89d7a6",
   "metadata": {},
   "source": [
    "### Combined Function"
   ]
  },
  {
   "cell_type": "code",
   "execution_count": 10,
   "id": "f75fc43d",
   "metadata": {},
   "outputs": [],
   "source": [
    "def data_preprocessing(df):\n",
    "    df = df.copy()\n",
    "    df['content_processed'] = ''\n",
    "    col_index = df.columns.get_loc('content_processed')\n",
    "        \n",
    "    for idx, content in tqdm(enumerate(df['content'])):\n",
    "        #print(idx)\n",
    "        #print(idx, 'content: \\n',content, '\\n')\n",
    "        text = strip_text(content)\n",
    "        text = remove_numbers(text)\n",
    "        #print('numbers: \\n', text, '\\n')\n",
    "        text = remove_emails_tags(text)\n",
    "        #print('emails: \\n',text, '\\n')\n",
    "        text = expand_contractions(text)\n",
    "        text = remove_contraction_possesive_apostrophes(text)\n",
    "        text = remove_accents_non_english_char(text)\n",
    "        text = remove_punctuation(text)\n",
    "        text = remove_numbers(text)\n",
    "        text = remove_long_words(text)\n",
    "        text = lowercase_text(text)\n",
    "        text = remove_stopwords(text)\n",
    "\n",
    "        df.iat[idx, col_index] = text\n",
    "        #if idx % 50000 == 0:\n",
    "         #   print(f'{idx} records processed')\n",
    "    \n",
    "    return df\n",
    "    "
   ]
  },
  {
   "cell_type": "markdown",
   "id": "253df704",
   "metadata": {},
   "source": [
    "# Complete Preprocessing - Step 1 - Cleaning"
   ]
  },
  {
   "cell_type": "code",
   "execution_count": 19,
   "id": "bfdf8fd0",
   "metadata": {},
   "outputs": [
    {
     "name": "stdout",
     "output_type": "stream",
     "text": [
      "no. articles dropped: 127 duplicates\n",
      "no. articles dropped: 3095 long articles\n",
      "no. articles dropped: 9 short articles\n",
      "no. articles dropped: 139 annual reports\n"
     ]
    },
    {
     "name": "stderr",
     "output_type": "stream",
     "text": [
      "18it [00:00, 172.83it/s]"
     ]
    },
    {
     "name": "stdout",
     "output_type": "stream",
     "text": [
      "no. articles dropped: 477 earnings call transcripts\n",
      "no. of articles:  365200\n"
     ]
    },
    {
     "name": "stderr",
     "output_type": "stream",
     "text": [
      "365200it [34:56, 174.20it/s]\n"
     ]
    }
   ],
   "source": [
    "complete_preprocessing = True\n",
    "\n",
    "if complete_preprocessing:\n",
    "    # ~ 30 mins to run\n",
    "    df_processed = drop_articles(df)\n",
    "    df_processed = data_preprocessing(df_processed)\n",
    "    df_processed.to_pickle('./data/df_processed.pickle')\n",
    "else:\n",
    "    df_processed = pd.read_pickle('./data/df_processed.pickle')"
   ]
  },
  {
   "cell_type": "code",
   "execution_count": 20,
   "id": "c4d838e4-5df8-4945-9fce-6a3d06d70cda",
   "metadata": {},
   "outputs": [
    {
     "name": "stdout",
     "output_type": "stream",
     "text": [
      "365200\n"
     ]
    },
    {
     "data": {
      "text/html": [
       "<div>\n",
       "<style scoped>\n",
       "    .dataframe tbody tr th:only-of-type {\n",
       "        vertical-align: middle;\n",
       "    }\n",
       "\n",
       "    .dataframe tbody tr th {\n",
       "        vertical-align: top;\n",
       "    }\n",
       "\n",
       "    .dataframe thead th {\n",
       "        text-align: right;\n",
       "    }\n",
       "</style>\n",
       "<table border=\"1\" class=\"dataframe\">\n",
       "  <thead>\n",
       "    <tr style=\"text-align: right;\">\n",
       "      <th></th>\n",
       "      <th>author</th>\n",
       "      <th>date</th>\n",
       "      <th>domain</th>\n",
       "      <th>title</th>\n",
       "      <th>url</th>\n",
       "      <th>content</th>\n",
       "      <th>topic_area</th>\n",
       "      <th>content_processed</th>\n",
       "    </tr>\n",
       "  </thead>\n",
       "  <tbody>\n",
       "    <tr>\n",
       "      <th>0</th>\n",
       "      <td>Thomas Hughes</td>\n",
       "      <td>2020-01-02</td>\n",
       "      <td>marketbeat</td>\n",
       "      <td>Three Industrial Giants You Should Own In 2020</td>\n",
       "      <td>https://www.marketbeat.com/originals/three-ind...</td>\n",
       "      <td>With the end of the year just around the corne...</td>\n",
       "      <td>business</td>\n",
       "      <td>end year corner past time think positioning fo...</td>\n",
       "    </tr>\n",
       "    <tr>\n",
       "      <th>369046</th>\n",
       "      <td>NaN</td>\n",
       "      <td>2020-12-31</td>\n",
       "      <td>marketscreener</td>\n",
       "      <td>FTSE 100 wraps up worst year since 2008 financ...</td>\n",
       "      <td>https://www.marketscreener.com/quote/index/FTS...</td>\n",
       "      <td>The FTSE 100 lost 1.5%, with consumer stocks, ...</td>\n",
       "      <td>business</td>\n",
       "      <td>ftse lost consumer stocks mainly unilever diag...</td>\n",
       "    </tr>\n",
       "  </tbody>\n",
       "</table>\n",
       "</div>"
      ],
      "text/plain": [
       "               author       date          domain  \\\n",
       "0       Thomas Hughes 2020-01-02      marketbeat   \n",
       "369046            NaN 2020-12-31  marketscreener   \n",
       "\n",
       "                                                    title  \\\n",
       "0          Three Industrial Giants You Should Own In 2020   \n",
       "369046  FTSE 100 wraps up worst year since 2008 financ...   \n",
       "\n",
       "                                                      url  \\\n",
       "0       https://www.marketbeat.com/originals/three-ind...   \n",
       "369046  https://www.marketscreener.com/quote/index/FTS...   \n",
       "\n",
       "                                                  content topic_area  \\\n",
       "0       With the end of the year just around the corne...   business   \n",
       "369046  The FTSE 100 lost 1.5%, with consumer stocks, ...   business   \n",
       "\n",
       "                                        content_processed  \n",
       "0       end year corner past time think positioning fo...  \n",
       "369046  ftse lost consumer stocks mainly unilever diag...  "
      ]
     },
     "execution_count": 20,
     "metadata": {},
     "output_type": "execute_result"
    }
   ],
   "source": [
    "print(len(df_processed))\n",
    "df_processed.head(1).append(df_processed.tail(1))"
   ]
  },
  {
   "cell_type": "code",
   "execution_count": 21,
   "id": "da74cbe6-8d65-4a65-8333-2736aabedb4c",
   "metadata": {},
   "outputs": [
    {
     "data": {
      "text/plain": [
       "'end year corner past time think positioning for2020 comes earnings power industrial sector going market leader like money clear industrial sector mean sp industrial sector represented etf xli yes energy sector expected post eps growth double industrials investors news grain salt energy sector xle consensus eps growth estimate falling year industrial sector expected grow year 2nd fastest pace sp contracting year means energy sector earnings twoyear basis industrial rise energy turn good investment earnings basis industrials better choice bet boeing boeing ba far largest holding industrial sector spdr investment recommend time outweighs holding honeywell hon nearly basis points xli best choice investors today 737max scandal raging unlikely boeing recent news ousting ceo dennis muilenberg muilenberg charge boeing key 737max crisis board decided company best interest find documentwritea targetblank relnofollow hrefhttpswwwame notoriously anti technology wall street legend recent discover shocking buffett current favorite companies going hot new technology tune billion decades antitechwhat making buffett going new technology america biggest companies race implement stocks xli portfolio looking bullish want highlight today uniquely set thanks trade war caterpillar cat deere company de cummins inc cmi seen business deteriorate trade war issuing downgrades missing estimates phase deal sight change deal signed details known expect flurry analysts upgrades stocks sector cummins inc cummins inc maker engines components heavy industrial trucks company suffering softening demands trucks think looking share price price cummins risen nearly hitting august looks ready continue rising outlook growth impact phase deal outlook reason cummins cummins solid dividend payer prolific buyer stock great way capitalize industry today prices stock yields close 14year history distribution increases xli pays aobut buybacks board announced billion buybacks slated deere company china key growth deere company iconic maker tractors recently downgraded outlook trade war company says lingering trade tensions played big roll decision makes phase deal particular importance idea phase deal signed trade china reinvigorate growth globally china segment business looking earnings picture deere company 2020s best eps growers despite recent downgrade guidance consensus estimate eps increase like cummins deere company dividend payer attractive yield little low today prices safe payout ratio year earnings leaves plenty room increase caterpillar dividend aristocrat capital gains shares caterpillar second half stock months easily match gain business struggling year impact tariffs great feared addition caterpillar ceo says businesses significant potential upside technical basis stock forming bullish flag pattern flagpole pattern confirms traders expect stock rise stock new alltime high dividend caterpillar dividend aristocrat years distribution increases belt yield today prices low payout ratio stocks benefit dovish federal reserve quaint correction labeled tech wreck like distant memory investors like distant memory thought federal reserve raising interest rates end federal reserve raised benchmark federal funds rate trade dispute china dragging increasing pressure fed lower interest rates interest rates lower stocks generally rise investors option growth july doves got wish know fed dropped rates october market soared record highs january early february midfebruary market fallen dramatically fed juiced market time cutting rates levels seen financial crisis know sure yous economy opened stocks good investment stock smart investment time stocks perform interest rates falling prepared presentation stocks stand benefit lowinterest rates unique economic conditions brought covid19 pandemic view stocks benefit dovish federal reserve complete form receive latest headlines analysts recommendations stocks free daily email newsletter'"
      ]
     },
     "execution_count": 21,
     "metadata": {},
     "output_type": "execute_result"
    }
   ],
   "source": [
    "df_processed['content_processed'][0]"
   ]
  },
  {
   "cell_type": "code",
   "execution_count": 22,
   "id": "7562e479-aaad-4e4e-b877-8f89d8592f4a",
   "metadata": {},
   "outputs": [
    {
     "data": {
      "text/plain": [
       "'ann friend mentor 50s exclaimed coffee end january know amazon sold medical masks going upstate weekend better luck looked quizzically time world health organization announced newly named disease covid19 known 2019ncov caused virus sarscov2 simply coronavirus public health emergency international concern pheic announcement delayed days masks reserved people symptoms ann intellectual easily head panic mode helped law career immensely later ceo business leader moment mind masks prudent thing purchase despite lack indication needed effectively ann hedging idea messages received media friends better conservative overly prepared worst given potential consequences underprepared immediately struck despite trained epidemiology medicine entirely sure advise ann time messages received articles read consistent uncertainty coronavirus terms projected ordinary citizens minimize risk decisions day despite uncertainty emotions come play things trickier comes public health risks sending wrong message devasting anxiety hand immense psychological toll thousands unnecessary deaths thing clear messaging coronavirus far far ideal suggests uncertainty public health emergency wrench devastating consequences harnessed appropriately coronavirus moving target epidemics canadian watched curiosity canadian airports decided january screen travelers coronavirus effectiveness screening debatable yous mandated changed mere day later messaging place thought necessary oops initially concerned information data coronavirus emergency institution reliant host assumptions accuracy data china country exactly known transparency noting government purposely misled public gradually concerned finally january labelling coronavirus pheic implies seriousness set measures taken countries far wide italy iran korea spain reporting high concentration cases wednesday february people died worldwide coronavirus december infected globally perspective sars epidemic began november infected people led deaths period months today core messages remain unclear instance refused officially advise travel china yous state department advisory earlier month weeks received mixed messaging humanhuman transmission clear disturbingly occur symptomatic rare epidemiologists trouble deciding bad reason traditional data point epidemiology r0 value average number people infected person expected transmit disease limited predictability doctors public health professionals taken social media remind world flu kills attempt dissuade fears covid19 severe ability send affected persons intensive care like sars kill young healthy hosts opposed vulnerable affected flu accounts higher case fatality rate proportion virus die percent rate lower07 percentoutside china hubei province compared flu case fatality rate percent whiplash points uncomfortable thing knows bad covid19 damage eventually lead know postmortems sars ebola approachedboth epidemics provided opportunity bodies like centers disease control learn cdc provided report ebola response released report outbreak communication immediately sarsthat waiting long sound alarm disastrous know early predictions based assuming china transparent honest situational assessment understand case recently spoke kathryn bertram johns hopkins center communication programs jhu ccp pointed extended parallel process model helpful starting point examine public health messaging epidemic considers rational reactions emotional reactions primarily fear help determine best course action behavior rational end ask efficacythis refers effectiveness solution instance wearing face mask avoiding travel china perceptions individuals institute solution effectively emotional end ask severityhow severe individuals infected susceptibility likely contract lies issue perceived threat rests largely information receive experts threat high decisions protective action told threat low trivial motivated protect resources epidemic underway uncertainty create fertile ground mixed messages inconsistency breed mistrust fear reflecting conversation ann reminded annie duke book thinking bets makes persuasive argument individuals required decisions based having incomplete information duke uses analogy poker decisions based uncertain future good decision despite uncertainty rests use right process come decision individuals benefit thinking situations chosen way felt similar choice choose differently memories play role arguably public health rely collective memory coronavirus epidemics like sars likens decisions bets given information available memories past decisions panned acknowledging outcome chance best choice likely provide benefit future selves bertram underscores core risk communication principles applied media covering epidemic communicate communicate known clearly provide simple action items individuals things like handwashing similarly public health stakeholders communicate known coordinate messages help ensure consistency importantly acknowledge views messaging change quickly thankfully recently media organizations choosing express uncertainty recent oped new york times underscores principles people react rationally greater resilience fullblown crisis prepared intellectually emotionally authors urge consider term pandemic comfortable effectively presents hopeful view organizations played poker global scaleand chips playing belonged entire communities decisions messages matter balance best bet consequences underestimating severity pandemic worse overestimating alternative brings mind dog meme fine lead distrust potentially thousands unnecessary deaths despite finally conceding covid19 continues poses grave threat world qualify longdreaded disease briefing yesterday remained vague hesitant domestic messaging virus contained spreading continues inconsistent suggested finally accept covid19 unstoppable clearly chips'"
      ]
     },
     "execution_count": 22,
     "metadata": {},
     "output_type": "execute_result"
    }
   ],
   "source": [
    "df_processed['content_processed'][8106]"
   ]
  },
  {
   "cell_type": "code",
   "execution_count": 23,
   "id": "04de5cd7-cfe5-41ef-989c-3a914edb612f",
   "metadata": {},
   "outputs": [
    {
     "data": {
      "text/plain": [
       "'ann friend mentor 50s exclaimed coffee end january know amazon sold medical masks going upstate weekend better luck looked quizzically time world health organization announced newly named disease covid19 known 2019ncov caused virus sarscov2 simply coronavirus public health emergency international concern pheic announcement delayed days masks reserved people symptoms ann intellectual easily head panic mode helped law career immensely later ceo business leader moment mind masks prudent thing purchase despite lack indication needed effectively ann hedging idea messages received media friends better conservative overly prepared worst given potential consequences underprepared immediately struck despite trained epidemiology medicine entirely sure advise ann time messages received articles read consistent uncertainty coronavirus terms projected ordinary citizens minimize risk decisions day despite uncertainty emotions come play things trickier comes public health risks sending wrong message devasting anxiety hand immense psychological toll thousands unnecessary deaths thing clear messaging coronavirus far far ideal suggests uncertainty public health emergency wrench devastating consequences harnessed appropriately coronavirus moving target epidemics canadian watched curiosity canadian airports decided january screen travelers coronavirus effectiveness screening debatable yous mandated changed mere day later messaging place thought necessary oops initially concerned information data coronavirus emergency institution reliant host assumptions accuracy data china country exactly known transparency noting government purposely misled public gradually concerned finally january labelling coronavirus pheic implies seriousness set measures taken countries far wide italy iran korea spain reporting high concentration cases wednesday february people died worldwide coronavirus december infected globally perspective sars epidemic began november infected people led deaths period months today core messages remain unclear instance refused officially advise travel china yous state department advisory earlier month weeks received mixed messaging humanhuman transmission clear disturbingly occur symptomatic rare epidemiologists trouble deciding bad reason traditional data point epidemiology r0 value average number people infected person expected transmit disease limited predictability doctors public health professionals taken social media remind world flu kills attempt dissuade fears covid19 severe ability send affected persons intensive care like sars kill young healthy hosts opposed vulnerable affected flu accounts higher case fatality rate proportion virus die percent rate lower07 percentoutside china hubei province compared flu case fatality rate percent whiplash points uncomfortable thing knows bad covid19 damage eventually lead know postmortems sars ebola approachedboth epidemics provided opportunity bodies like centers disease control learn cdc provided report ebola response released report outbreak communication immediately sarsthat waiting long sound alarm disastrous know early predictions based assuming china transparent honest situational assessment understand case recently spoke kathryn bertram johns hopkins center communication programs jhu ccp pointed extended parallel process model helpful starting point examine public health messaging epidemic considers rational reactions emotional reactions primarily fear help determine best course action behavior rational end ask efficacythis refers effectiveness solution instance wearing face mask avoiding travel china perceptions individuals institute solution effectively emotional end ask severityhow severe individuals infected susceptibility likely contract lies issue perceived threat rests largely information receive experts threat high decisions protective action told threat low trivial motivated protect resources epidemic underway uncertainty create fertile ground mixed messages inconsistency breed mistrust fear reflecting conversation ann reminded annie duke book thinking bets makes persuasive argument individuals required decisions based having incomplete information duke uses analogy poker decisions based uncertain future good decision despite uncertainty rests use right process come decision individuals benefit thinking situations chosen way felt similar choice choose differently memories play role arguably public health rely collective memory coronavirus epidemics like sars likens decisions bets given information available memories past decisions panned acknowledging outcome chance best choice likely provide benefit future selves bertram underscores core risk communication principles applied media covering epidemic communicate communicate known clearly provide simple action items individuals things like handwashing similarly public health stakeholders communicate known coordinate messages help ensure consistency importantly acknowledge views messaging change quickly thankfully recently media organizations choosing express uncertainty recent oped new york times underscores principles people react rationally greater resilience fullblown crisis prepared intellectually emotionally authors urge consider term pandemic comfortable effectively presents hopeful view organizations played poker global scaleand chips playing belonged entire communities decisions messages matter balance best bet consequences underestimating severity pandemic worse overestimating alternative brings mind dog meme fine lead distrust potentially thousands unnecessary deaths despite finally conceding covid19 continues poses grave threat world qualify longdreaded disease briefing yesterday remained vague hesitant domestic messaging virus contained spreading continues inconsistent suggested finally accept covid19 unstoppable clearly chips'"
      ]
     },
     "execution_count": 23,
     "metadata": {},
     "output_type": "execute_result"
    }
   ],
   "source": [
    "strip_text(df_processed['content_processed'][8106])"
   ]
  },
  {
   "cell_type": "code",
   "execution_count": 25,
   "id": "19570778-f65d-41de-89ea-9745674d8992",
   "metadata": {},
   "outputs": [
    {
     "data": {
      "text/html": [
       "<div>\n",
       "<style scoped>\n",
       "    .dataframe tbody tr th:only-of-type {\n",
       "        vertical-align: middle;\n",
       "    }\n",
       "\n",
       "    .dataframe tbody tr th {\n",
       "        vertical-align: top;\n",
       "    }\n",
       "\n",
       "    .dataframe thead th {\n",
       "        text-align: right;\n",
       "    }\n",
       "</style>\n",
       "<table border=\"1\" class=\"dataframe\">\n",
       "  <thead>\n",
       "    <tr style=\"text-align: right;\">\n",
       "      <th></th>\n",
       "      <th>author</th>\n",
       "      <th>date</th>\n",
       "      <th>domain</th>\n",
       "      <th>title</th>\n",
       "      <th>url</th>\n",
       "      <th>content</th>\n",
       "      <th>topic_area</th>\n",
       "      <th>content_processed</th>\n",
       "    </tr>\n",
       "  </thead>\n",
       "  <tbody>\n",
       "  </tbody>\n",
       "</table>\n",
       "</div>"
      ],
      "text/plain": [
       "Empty DataFrame\n",
       "Columns: [author, date, domain, title, url, content, topic_area, content_processed]\n",
       "Index: []"
      ]
     },
     "execution_count": 25,
     "metadata": {},
     "output_type": "execute_result"
    }
   ],
   "source": [
    "df_processed[df_processed['content_processed'].str.contains('\\n')]"
   ]
  },
  {
   "cell_type": "markdown",
   "id": "1092f19e-5e27-4da9-9959-950272668c0a",
   "metadata": {},
   "source": [
    "## Colocations\n",
    "\n",
    "Process:\n",
    "* find collocations\n",
    "* determine cutoff (at least 50 times present, top 1000 bigrams?)\n",
    "* search all text and combine bigrams into one word with _ seperator e.g. supply_chain\n",
    "\n",
    "TO DO\n",
    "* When converting bigrams, convert highest ranking bigrams first, e.g. a problem is president_donald and donald_trump are both found colocations, but my converting process takes the first words found and so while donald_trump is a better bigram, president_donald is the one that is formed"
   ]
  },
  {
   "cell_type": "code",
   "execution_count": 26,
   "id": "0d5dde2a-aa91-44d6-94ca-bdc5596b9baf",
   "metadata": {},
   "outputs": [],
   "source": [
    "import nltk\n",
    "#nltk.download('punkt')\n",
    "from nltk.collocations import *\n",
    "from nltk.tokenize import word_tokenize"
   ]
  },
  {
   "cell_type": "code",
   "execution_count": 27,
   "id": "f5496c61-709b-484d-83b7-ea7d0afe3291",
   "metadata": {},
   "outputs": [],
   "source": [
    "def tokenise_dataframe(df):\n",
    "\n",
    "    df = df.copy()\n",
    "    df['tokens'] = \"\"\n",
    "    col_index = df.columns.get_loc(\"tokens\")\n",
    "    \n",
    "    for idx, article in enumerate(df['content_processed']):\n",
    "        tokens = word_tokenize(article)\n",
    "        df.iat[idx, col_index] = list(tokens)\n",
    "    \n",
    "    return df\n",
    "    \n",
    "def find_colocations(tokens, min_freq=1000, n_bigrams=2000):\n",
    "    \n",
    "    bigram_measures = nltk.collocations.BigramAssocMeasures()\n",
    "    #trigram_measures = nltk.collocations.TrigramAssocMeasures()\n",
    "    \n",
    "    #finder_bigram = BigramCollocationFinder.from_words(tokens)\n",
    "    #finder_trigram = TrigramCollocationFinder.from_words(tokens)\n",
    "\n",
    "    finder_bigram = BigramCollocationFinder.from_documents(tokens)\n",
    "    #finder_trigram = TrigramCollocationFinder.from_documents(tokens)\n",
    "    \n",
    "    finder_bigram.apply_freq_filter(min_freq) # minimum number of occurances to be included\n",
    "    bigrams = finder_bigram.nbest(bigram_measures.pmi, n_bigrams)\n",
    "    df_bigrams_freq = pd.DataFrame(finder_bigram.ngram_fd.items(), columns=['bigram', 'freq'])\n",
    "\n",
    "    return bigrams, df_bigrams_freq"
   ]
  },
  {
   "cell_type": "code",
   "execution_count": 28,
   "id": "547e8e95-bc34-4036-8799-ebcf7526a286",
   "metadata": {},
   "outputs": [],
   "source": [
    "test_token = tokenise_dataframe(df_processed[:1000])\n",
    "test_bigrams, test_df_bigrams_freq = find_colocations(test_token['tokens'])"
   ]
  },
  {
   "cell_type": "code",
   "execution_count": 29,
   "id": "c19a6367-de68-46ea-851f-177724fb5a1c",
   "metadata": {},
   "outputs": [
    {
     "data": {
      "text/plain": [
       "[]"
      ]
     },
     "execution_count": 29,
     "metadata": {},
     "output_type": "execute_result"
    }
   ],
   "source": [
    "test_bigrams[:5]"
   ]
  },
  {
   "cell_type": "raw",
   "id": "bc198769-e7df-4fc4-b50a-6495b3e6f50d",
   "metadata": {},
   "source": [
    "print(('supply', 'chain') in test_bigrams)\n",
    "print(test_bigrams.index(('supply', 'chain')))\n",
    "test_bigrams.index(('supply', 'chains'))"
   ]
  },
  {
   "cell_type": "code",
   "execution_count": 30,
   "id": "943bfdd6-02fd-42f9-a48a-706e4da0f313",
   "metadata": {},
   "outputs": [],
   "source": [
    "def create_bigrams_article(text, bigrams):\n",
    "    \"\"\"\n",
    "    :convert bigrams to one word for an individual article\n",
    "    used within create_bigrams function\n",
    "    \"\"\"\n",
    "\n",
    "    tokens = text.split(\" \")\n",
    "    tokens_with_bigrams = []\n",
    "    idx = 0\n",
    "    while idx < len(tokens) -1:\n",
    "        if (tokens[idx], tokens[idx+1]) in bigrams:\n",
    "            bigram = str(tokens[idx]) + '_' + str(tokens[idx+1])\n",
    "            tokens_with_bigrams.append(bigram)\n",
    "            idx += 2\n",
    "        else:\n",
    "            tokens_with_bigrams.append(tokens[idx])\n",
    "            idx += 1\n",
    "    if (tokens[-2], tokens[-1]) not in bigrams:\n",
    "        tokens_with_bigrams.append(tokens[-1])\n",
    "\n",
    "    text_clean = (\" \").join(tokens_with_bigrams)\n",
    "    \n",
    "    return text_clean\n",
    "        \n",
    "def create_bigrams(df, min_freq=1000, n_bigrams=2000):\n",
    "    \"\"\"\n",
    "    :convert bigrams to one word for entire df\n",
    "    \"\"\"\n",
    "    \n",
    "    df = df.copy()\n",
    "    col_index = df.columns.get_loc('content_processed')\n",
    "    \n",
    "    df_tokenised = tokenise_dataframe(df)\n",
    "    print('df tokenised')\n",
    "    tokens = df_tokenised['tokens']\n",
    "    \n",
    "    bigrams, df_bigrams_freq = find_colocations(tokens, min_freq, n_bigrams)\n",
    "    print('bigrams found')\n",
    "            \n",
    "    for idx, content in tqdm(enumerate(df['content_processed'])):\n",
    "        text = create_bigrams_article(content, bigrams)\n",
    "        df.iat[idx, col_index] = text\n",
    "        #if idx % 50000 == 0:\n",
    "         #   print(f'{idx} records processed')\n",
    "            \n",
    "    return bigrams, df, df_bigrams_freq"
   ]
  },
  {
   "cell_type": "markdown",
   "id": "eb25d1ad-4c4f-4f9e-86b8-d0f8b73035a6",
   "metadata": {},
   "source": [
    "# Complete Preprocessing - Step 2 - Colocations"
   ]
  },
  {
   "cell_type": "code",
   "execution_count": 31,
   "id": "143d110b-b34a-4b3f-8389-c5db4a871a3c",
   "metadata": {},
   "outputs": [
    {
     "name": "stdout",
     "output_type": "stream",
     "text": [
      "df tokenised\n"
     ]
    },
    {
     "name": "stderr",
     "output_type": "stream",
     "text": [
      "3it [00:00, 28.01it/s]"
     ]
    },
    {
     "name": "stdout",
     "output_type": "stream",
     "text": [
      "bigrams found\n"
     ]
    },
    {
     "name": "stderr",
     "output_type": "stream",
     "text": [
      "365200it [2:33:49, 39.57it/s]\n"
     ]
    }
   ],
   "source": [
    "complete_preprocessing = True\n",
    "\n",
    "if complete_preprocessing:\n",
    "    # ~ 2.5 hours to run\n",
    "    df_processed = pd.read_pickle('./data/df_processed.pickle')\n",
    "    bigrams, df_processed_bigrams, df_bigrams_freq = create_bigrams(df_processed)\n",
    "    df_processed_bigrams.to_pickle('./data/df_processed_bigrams.pickle')\n",
    "    \n",
    "    df_bigrams = pd.DataFrame(bigrams, columns=['bigram_w1', 'bigram_w2'])\n",
    "    df_bigrams['freq'] = ''\n",
    "    for idx in range(len(df_bigrams)):\n",
    "        bigram_check = (df_bigrams['bigram_w1'][idx], df_bigrams['bigram_w2'][idx])\n",
    "        freq = df_bigrams_freq[df_bigrams_freq['bigram'] == bigram_check]['freq'].values[0]\n",
    "        df_bigrams.loc[idx, 'freq'] = freq\n",
    "    df_bigrams.to_csv('./data/bigrams.csv', index=False)\n",
    "    df_bigrams_freq.to_csv('./data/df_bigrams_freq.csv', index=False)\n",
    "    \n",
    "else:\n",
    "    df_processed_bigrams = pd.read_pickle('./data/df_processed_bigrams.pickle')\n",
    "    df_bigrams = pd.read_csv('./data/bigrams.csv')\n",
    "    df_bigrams_freq = pd.read_csv('./data/df_bigrams_freq.csv')"
   ]
  },
  {
   "cell_type": "code",
   "execution_count": 32,
   "id": "24febccb-ce75-4668-969f-cf46deb90f12",
   "metadata": {},
   "outputs": [
    {
     "data": {
      "text/html": [
       "<div>\n",
       "<style scoped>\n",
       "    .dataframe tbody tr th:only-of-type {\n",
       "        vertical-align: middle;\n",
       "    }\n",
       "\n",
       "    .dataframe tbody tr th {\n",
       "        vertical-align: top;\n",
       "    }\n",
       "\n",
       "    .dataframe thead th {\n",
       "        text-align: right;\n",
       "    }\n",
       "</style>\n",
       "<table border=\"1\" class=\"dataframe\">\n",
       "  <thead>\n",
       "    <tr style=\"text-align: right;\">\n",
       "      <th></th>\n",
       "      <th>bigram</th>\n",
       "      <th>freq</th>\n",
       "    </tr>\n",
       "  </thead>\n",
       "  <tbody>\n",
       "    <tr>\n",
       "      <th>0</th>\n",
       "      <td>(end, year)</td>\n",
       "      <td>13063</td>\n",
       "    </tr>\n",
       "    <tr>\n",
       "      <th>1</th>\n",
       "      <td>(time, think)</td>\n",
       "      <td>1302</td>\n",
       "    </tr>\n",
       "    <tr>\n",
       "      <th>2</th>\n",
       "      <td>(market, leader)</td>\n",
       "      <td>1328</td>\n",
       "    </tr>\n",
       "    <tr>\n",
       "      <th>3</th>\n",
       "      <td>(energy, sector)</td>\n",
       "      <td>1788</td>\n",
       "    </tr>\n",
       "    <tr>\n",
       "      <th>4</th>\n",
       "      <td>(expected, grow)</td>\n",
       "      <td>2723</td>\n",
       "    </tr>\n",
       "    <tr>\n",
       "      <th>...</th>\n",
       "      <td>...</td>\n",
       "      <td>...</td>\n",
       "    </tr>\n",
       "    <tr>\n",
       "      <th>8615</th>\n",
       "      <td>(15year, perspective)</td>\n",
       "      <td>2571</td>\n",
       "    </tr>\n",
       "    <tr>\n",
       "      <th>8616</th>\n",
       "      <td>(presidentelect, joe)</td>\n",
       "      <td>1878</td>\n",
       "    </tr>\n",
       "    <tr>\n",
       "      <th>8617</th>\n",
       "      <td>(content, december)</td>\n",
       "      <td>1172</td>\n",
       "    </tr>\n",
       "    <tr>\n",
       "      <th>8618</th>\n",
       "      <td>(unaltered, december)</td>\n",
       "      <td>1232</td>\n",
       "    </tr>\n",
       "    <tr>\n",
       "      <th>8619</th>\n",
       "      <td>(december, utc)</td>\n",
       "      <td>1232</td>\n",
       "    </tr>\n",
       "  </tbody>\n",
       "</table>\n",
       "<p>8608 rows × 2 columns</p>\n",
       "</div>"
      ],
      "text/plain": [
       "                     bigram   freq\n",
       "0               (end, year)  13063\n",
       "1             (time, think)   1302\n",
       "2          (market, leader)   1328\n",
       "3          (energy, sector)   1788\n",
       "4          (expected, grow)   2723\n",
       "...                     ...    ...\n",
       "8615  (15year, perspective)   2571\n",
       "8616  (presidentelect, joe)   1878\n",
       "8617    (content, december)   1172\n",
       "8618  (unaltered, december)   1232\n",
       "8619        (december, utc)   1232\n",
       "\n",
       "[8608 rows x 2 columns]"
      ]
     },
     "execution_count": 32,
     "metadata": {},
     "output_type": "execute_result"
    }
   ],
   "source": [
    "df_bigrams_freq[df_bigrams_freq['freq'] < 50000]"
   ]
  },
  {
   "cell_type": "code",
   "execution_count": 33,
   "id": "1b052a21-1eff-4d4f-ab0a-5a09b40beed9",
   "metadata": {},
   "outputs": [
    {
     "data": {
      "text/html": [
       "<div>\n",
       "<style scoped>\n",
       "    .dataframe tbody tr th:only-of-type {\n",
       "        vertical-align: middle;\n",
       "    }\n",
       "\n",
       "    .dataframe tbody tr th {\n",
       "        vertical-align: top;\n",
       "    }\n",
       "\n",
       "    .dataframe thead th {\n",
       "        text-align: right;\n",
       "    }\n",
       "</style>\n",
       "<table border=\"1\" class=\"dataframe\">\n",
       "  <thead>\n",
       "    <tr style=\"text-align: right;\">\n",
       "      <th></th>\n",
       "      <th>bigram</th>\n",
       "      <th>freq</th>\n",
       "    </tr>\n",
       "  </thead>\n",
       "  <tbody>\n",
       "    <tr>\n",
       "      <th>137</th>\n",
       "      <td>(supply, chains)</td>\n",
       "      <td>9493</td>\n",
       "    </tr>\n",
       "  </tbody>\n",
       "</table>\n",
       "</div>"
      ],
      "text/plain": [
       "               bigram  freq\n",
       "137  (supply, chains)  9493"
      ]
     },
     "execution_count": 33,
     "metadata": {},
     "output_type": "execute_result"
    }
   ],
   "source": [
    "df_bigrams_freq[df_bigrams_freq['bigram'] == ('supply', 'chains')]"
   ]
  },
  {
   "cell_type": "code",
   "execution_count": 34,
   "id": "1c499e3d-9d79-4f2e-84e9-502333ddfbc9",
   "metadata": {},
   "outputs": [
    {
     "data": {
      "text/plain": [
       "<AxesSubplot:>"
      ]
     },
     "execution_count": 34,
     "metadata": {},
     "output_type": "execute_result"
    },
    {
     "data": {
      "image/png": "[encoded data removed]",
      "text/plain": [
       "<Figure size 432x288 with 1 Axes>"
      ]
     },
     "metadata": {
      "needs_background": "light"
     },
     "output_type": "display_data"
    }
   ],
   "source": [
    "#df_bigrams_freq['freq'].hist()\n",
    "df_bigrams_freq[df_bigrams_freq['freq'] < 5000]['freq'].hist()"
   ]
  },
  {
   "cell_type": "code",
   "execution_count": 35,
   "id": "ba6fba04-60b1-48dd-b2cf-db9b702e01ee",
   "metadata": {},
   "outputs": [
    {
     "name": "stdout",
     "output_type": "stream",
     "text": [
      "365200\n"
     ]
    },
    {
     "data": {
      "text/html": [
       "<div>\n",
       "<style scoped>\n",
       "    .dataframe tbody tr th:only-of-type {\n",
       "        vertical-align: middle;\n",
       "    }\n",
       "\n",
       "    .dataframe tbody tr th {\n",
       "        vertical-align: top;\n",
       "    }\n",
       "\n",
       "    .dataframe thead th {\n",
       "        text-align: right;\n",
       "    }\n",
       "</style>\n",
       "<table border=\"1\" class=\"dataframe\">\n",
       "  <thead>\n",
       "    <tr style=\"text-align: right;\">\n",
       "      <th></th>\n",
       "      <th>author</th>\n",
       "      <th>date</th>\n",
       "      <th>domain</th>\n",
       "      <th>title</th>\n",
       "      <th>url</th>\n",
       "      <th>content</th>\n",
       "      <th>topic_area</th>\n",
       "      <th>content_processed</th>\n",
       "    </tr>\n",
       "  </thead>\n",
       "  <tbody>\n",
       "    <tr>\n",
       "      <th>0</th>\n",
       "      <td>Thomas Hughes</td>\n",
       "      <td>2020-01-02</td>\n",
       "      <td>marketbeat</td>\n",
       "      <td>Three Industrial Giants You Should Own In 2020</td>\n",
       "      <td>https://www.marketbeat.com/originals/three-ind...</td>\n",
       "      <td>With the end of the year just around the corne...</td>\n",
       "      <td>business</td>\n",
       "      <td>end year corner past time think positioning fo...</td>\n",
       "    </tr>\n",
       "    <tr>\n",
       "      <th>369046</th>\n",
       "      <td>NaN</td>\n",
       "      <td>2020-12-31</td>\n",
       "      <td>marketscreener</td>\n",
       "      <td>FTSE 100 wraps up worst year since 2008 financ...</td>\n",
       "      <td>https://www.marketscreener.com/quote/index/FTS...</td>\n",
       "      <td>The FTSE 100 lost 1.5%, with consumer stocks, ...</td>\n",
       "      <td>business</td>\n",
       "      <td>ftse lost consumer stocks mainly unilever diag...</td>\n",
       "    </tr>\n",
       "  </tbody>\n",
       "</table>\n",
       "</div>"
      ],
      "text/plain": [
       "               author       date          domain  \\\n",
       "0       Thomas Hughes 2020-01-02      marketbeat   \n",
       "369046            NaN 2020-12-31  marketscreener   \n",
       "\n",
       "                                                    title  \\\n",
       "0          Three Industrial Giants You Should Own In 2020   \n",
       "369046  FTSE 100 wraps up worst year since 2008 financ...   \n",
       "\n",
       "                                                      url  \\\n",
       "0       https://www.marketbeat.com/originals/three-ind...   \n",
       "369046  https://www.marketscreener.com/quote/index/FTS...   \n",
       "\n",
       "                                                  content topic_area  \\\n",
       "0       With the end of the year just around the corne...   business   \n",
       "369046  The FTSE 100 lost 1.5%, with consumer stocks, ...   business   \n",
       "\n",
       "                                        content_processed  \n",
       "0       end year corner past time think positioning fo...  \n",
       "369046  ftse lost consumer stocks mainly unilever diag...  "
      ]
     },
     "execution_count": 35,
     "metadata": {},
     "output_type": "execute_result"
    }
   ],
   "source": [
    "print(len(df_processed_bigrams))\n",
    "df_processed_bigrams.head(1).append(df_processed_bigrams.tail(1))"
   ]
  },
  {
   "cell_type": "code",
   "execution_count": 36,
   "id": "75d74047-61b8-422a-856e-3db3e49aa988",
   "metadata": {},
   "outputs": [
    {
     "data": {
      "text/html": [
       "<div>\n",
       "<style scoped>\n",
       "    .dataframe tbody tr th:only-of-type {\n",
       "        vertical-align: middle;\n",
       "    }\n",
       "\n",
       "    .dataframe tbody tr th {\n",
       "        vertical-align: top;\n",
       "    }\n",
       "\n",
       "    .dataframe thead th {\n",
       "        text-align: right;\n",
       "    }\n",
       "</style>\n",
       "<table border=\"1\" class=\"dataframe\">\n",
       "  <thead>\n",
       "    <tr style=\"text-align: right;\">\n",
       "      <th></th>\n",
       "      <th>author</th>\n",
       "      <th>date</th>\n",
       "      <th>domain</th>\n",
       "      <th>title</th>\n",
       "      <th>url</th>\n",
       "      <th>content</th>\n",
       "      <th>topic_area</th>\n",
       "      <th>content_processed</th>\n",
       "    </tr>\n",
       "  </thead>\n",
       "  <tbody>\n",
       "    <tr>\n",
       "      <th>4</th>\n",
       "      <td>Alden Wicker</td>\n",
       "      <td>2020-01-06</td>\n",
       "      <td>instyle</td>\n",
       "      <td>Red Carpet Sustainability After Coronavirus Sh...</td>\n",
       "      <td>https://www.instyle.com/fashion/red-carpet-cor...</td>\n",
       "      <td>When the coronavirus pandemic is over and life...</td>\n",
       "      <td>consumer</td>\n",
       "      <td>coronavirus pandemic life returns normal celeb...</td>\n",
       "    </tr>\n",
       "    <tr>\n",
       "      <th>13</th>\n",
       "      <td>Thomas Hughes</td>\n",
       "      <td>2020-01-08</td>\n",
       "      <td>marketbeat</td>\n",
       "      <td>Constellation Brands Star Is Rising, Revenue A...</td>\n",
       "      <td>https://www.marketbeat.com/originals/constelll...</td>\n",
       "      <td>The analysts turned cautious on Constellation ...</td>\n",
       "      <td>business</td>\n",
       "      <td>analysts turned cautious constellation brands ...</td>\n",
       "    </tr>\n",
       "    <tr>\n",
       "      <th>21</th>\n",
       "      <td>Thomas Hughes</td>\n",
       "      <td>2020-01-09</td>\n",
       "      <td>marketbeat</td>\n",
       "      <td>Tesla Bull Says Its Time To Take Profits, Tesl...</td>\n",
       "      <td>https://www.marketbeat.com/originals/tesla-bul...</td>\n",
       "      <td>Analysts at Argus think the stock could go to ...</td>\n",
       "      <td>business</td>\n",
       "      <td>analysts argus think stock months set wall_str...</td>\n",
       "    </tr>\n",
       "    <tr>\n",
       "      <th>161</th>\n",
       "      <td>Chris Markoch</td>\n",
       "      <td>2020-01-21</td>\n",
       "      <td>marketbeat</td>\n",
       "      <td>Why Bad News May be Good News for Boeing</td>\n",
       "      <td>https://www.marketbeat.com/originals/why-bad-n...</td>\n",
       "      <td>There is a saying that bad news comes in three...</td>\n",
       "      <td>business</td>\n",
       "      <td>saying bad news comes threes case boeing nyseb...</td>\n",
       "    </tr>\n",
       "    <tr>\n",
       "      <th>252</th>\n",
       "      <td>NaN</td>\n",
       "      <td>2020-01-22</td>\n",
       "      <td>cnbc</td>\n",
       "      <td>Yuan, Australian dollar struggle to wipe off c...</td>\n",
       "      <td>https://www.cnbc.com/2020/01/22/forex-markets-...</td>\n",
       "      <td>The yuan dipped and the Australian dollar hit ...</td>\n",
       "      <td>finance</td>\n",
       "      <td>yuan dipped australian dollar hit sixweek low ...</td>\n",
       "    </tr>\n",
       "    <tr>\n",
       "      <th>...</th>\n",
       "      <td>...</td>\n",
       "      <td>...</td>\n",
       "      <td>...</td>\n",
       "      <td>...</td>\n",
       "      <td>...</td>\n",
       "      <td>...</td>\n",
       "      <td>...</td>\n",
       "      <td>...</td>\n",
       "    </tr>\n",
       "    <tr>\n",
       "      <th>368597</th>\n",
       "      <td>NaN</td>\n",
       "      <td>2020-12-30</td>\n",
       "      <td>marketscreener</td>\n",
       "      <td>Canstar Resources : Closes $1.29 Million Flow-...</td>\n",
       "      <td>https://www.marketscreener.com/quote/stock/CAN...</td>\n",
       "      <td>(via TheNewswire) Toronto, Ontario -TheNewswir...</td>\n",
       "      <td>business</td>\n",
       "      <td>thenewswire toronto ontario thenewswire decemb...</td>\n",
       "    </tr>\n",
       "    <tr>\n",
       "      <th>368722</th>\n",
       "      <td>hakuna matata solutions</td>\n",
       "      <td>2020-12-31</td>\n",
       "      <td>chatbotslife</td>\n",
       "      <td>Manufacturing Industry 4.0 — How IoT Is revolu...</td>\n",
       "      <td>https://www.chatbotslife.com/manufacturing-ind...</td>\n",
       "      <td>Manufacturing Industry 4.0 — How IoT Is revolu...</td>\n",
       "      <td>ai</td>\n",
       "      <td>manufacturing industry iot revolutionizing bus...</td>\n",
       "    </tr>\n",
       "    <tr>\n",
       "      <th>368727</th>\n",
       "      <td>Analysis by Luke McGee, CNN</td>\n",
       "      <td>2020-12-31</td>\n",
       "      <td>cnn</td>\n",
       "      <td>2020 was a terrible year for Europe. 2021 is u...</td>\n",
       "      <td>https://www.cnn.com/2020/12/31/europe/eu-bad-2...</td>\n",
       "      <td>You'd struggle to find anyone in Europe who w...</td>\n",
       "      <td>general</td>\n",
       "      <td>struggle find europe unhappy covid19 brexit in...</td>\n",
       "    </tr>\n",
       "    <tr>\n",
       "      <th>368769</th>\n",
       "      <td>https://www.theguardian.com/profile/kaamil-ahmed</td>\n",
       "      <td>2020-12-31</td>\n",
       "      <td>theguardian</td>\n",
       "      <td>UK pledges an extra £47m in aid as agencies wa...</td>\n",
       "      <td>https://www.theguardian.com/global-development...</td>\n",
       "      <td>The government has promised £47m in extra emer...</td>\n",
       "      <td>general</td>\n",
       "      <td>government promised ps47m extra emergency aid ...</td>\n",
       "    </tr>\n",
       "    <tr>\n",
       "      <th>368917</th>\n",
       "      <td>NaN</td>\n",
       "      <td>2020-12-31</td>\n",
       "      <td>marketscreener</td>\n",
       "      <td>Magic Software Enterprises : Supply-Chain Risk...</td>\n",
       "      <td>https://www.marketscreener.com/quote/stock/MAG...</td>\n",
       "      <td>Synopsis: The aftershocks of the ongoing pande...</td>\n",
       "      <td>business</td>\n",
       "      <td>synopsis aftershocks ongoing pandemic obvious ...</td>\n",
       "    </tr>\n",
       "  </tbody>\n",
       "</table>\n",
       "<p>7190 rows × 8 columns</p>\n",
       "</div>"
      ],
      "text/plain": [
       "                                                  author       date  \\\n",
       "4                                           Alden Wicker 2020-01-06   \n",
       "13                                         Thomas Hughes 2020-01-08   \n",
       "21                                         Thomas Hughes 2020-01-09   \n",
       "161                                        Chris Markoch 2020-01-21   \n",
       "252                                                  NaN 2020-01-22   \n",
       "...                                                  ...        ...   \n",
       "368597                                               NaN 2020-12-30   \n",
       "368722                           hakuna matata solutions 2020-12-31   \n",
       "368727                       Analysis by Luke McGee, CNN 2020-12-31   \n",
       "368769  https://www.theguardian.com/profile/kaamil-ahmed 2020-12-31   \n",
       "368917                                               NaN 2020-12-31   \n",
       "\n",
       "                domain                                              title  \\\n",
       "4              instyle  Red Carpet Sustainability After Coronavirus Sh...   \n",
       "13          marketbeat  Constellation Brands Star Is Rising, Revenue A...   \n",
       "21          marketbeat  Tesla Bull Says Its Time To Take Profits, Tesl...   \n",
       "161         marketbeat           Why Bad News May be Good News for Boeing   \n",
       "252               cnbc  Yuan, Australian dollar struggle to wipe off c...   \n",
       "...                ...                                                ...   \n",
       "368597  marketscreener  Canstar Resources : Closes $1.29 Million Flow-...   \n",
       "368722    chatbotslife  Manufacturing Industry 4.0 — How IoT Is revolu...   \n",
       "368727             cnn  2020 was a terrible year for Europe. 2021 is u...   \n",
       "368769     theguardian  UK pledges an extra £47m in aid as agencies wa...   \n",
       "368917  marketscreener  Magic Software Enterprises : Supply-Chain Risk...   \n",
       "\n",
       "                                                      url  \\\n",
       "4       https://www.instyle.com/fashion/red-carpet-cor...   \n",
       "13      https://www.marketbeat.com/originals/constelll...   \n",
       "21      https://www.marketbeat.com/originals/tesla-bul...   \n",
       "161     https://www.marketbeat.com/originals/why-bad-n...   \n",
       "252     https://www.cnbc.com/2020/01/22/forex-markets-...   \n",
       "...                                                   ...   \n",
       "368597  https://www.marketscreener.com/quote/stock/CAN...   \n",
       "368722  https://www.chatbotslife.com/manufacturing-ind...   \n",
       "368727  https://www.cnn.com/2020/12/31/europe/eu-bad-2...   \n",
       "368769  https://www.theguardian.com/global-development...   \n",
       "368917  https://www.marketscreener.com/quote/stock/MAG...   \n",
       "\n",
       "                                                  content topic_area  \\\n",
       "4       When the coronavirus pandemic is over and life...   consumer   \n",
       "13      The analysts turned cautious on Constellation ...   business   \n",
       "21      Analysts at Argus think the stock could go to ...   business   \n",
       "161     There is a saying that bad news comes in three...   business   \n",
       "252     The yuan dipped and the Australian dollar hit ...    finance   \n",
       "...                                                   ...        ...   \n",
       "368597  (via TheNewswire) Toronto, Ontario -TheNewswir...   business   \n",
       "368722  Manufacturing Industry 4.0 — How IoT Is revolu...         ai   \n",
       "368727   You'd struggle to find anyone in Europe who w...    general   \n",
       "368769  The government has promised £47m in extra emer...    general   \n",
       "368917  Synopsis: The aftershocks of the ongoing pande...   business   \n",
       "\n",
       "                                        content_processed  \n",
       "4       coronavirus pandemic life returns normal celeb...  \n",
       "13      analysts turned cautious constellation brands ...  \n",
       "21      analysts argus think stock months set wall_str...  \n",
       "161     saying bad news comes threes case boeing nyseb...  \n",
       "252     yuan dipped australian dollar hit sixweek low ...  \n",
       "...                                                   ...  \n",
       "368597  thenewswire toronto ontario thenewswire decemb...  \n",
       "368722  manufacturing industry iot revolutionizing bus...  \n",
       "368727  struggle find europe unhappy covid19 brexit in...  \n",
       "368769  government promised ps47m extra emergency aid ...  \n",
       "368917  synopsis aftershocks ongoing pandemic obvious ...  \n",
       "\n",
       "[7190 rows x 8 columns]"
      ]
     },
     "execution_count": 36,
     "metadata": {},
     "output_type": "execute_result"
    }
   ],
   "source": [
    "df_processed_bigrams[df_processed_bigrams['content_processed'].str.contains(\"supply_chains\")]"
   ]
  },
  {
   "cell_type": "code",
   "execution_count": 37,
   "id": "3385aced-fb0b-4fdf-bd24-a704b70423b8",
   "metadata": {},
   "outputs": [
    {
     "data": {
      "text/html": [
       "<div>\n",
       "<style scoped>\n",
       "    .dataframe tbody tr th:only-of-type {\n",
       "        vertical-align: middle;\n",
       "    }\n",
       "\n",
       "    .dataframe tbody tr th {\n",
       "        vertical-align: top;\n",
       "    }\n",
       "\n",
       "    .dataframe thead th {\n",
       "        text-align: right;\n",
       "    }\n",
       "</style>\n",
       "<table border=\"1\" class=\"dataframe\">\n",
       "  <thead>\n",
       "    <tr style=\"text-align: right;\">\n",
       "      <th></th>\n",
       "      <th>bigram_w1</th>\n",
       "      <th>bigram_w2</th>\n",
       "      <th>freq</th>\n",
       "    </tr>\n",
       "  </thead>\n",
       "  <tbody>\n",
       "    <tr>\n",
       "      <th>0</th>\n",
       "      <td>chizu</td>\n",
       "      <td>nomiyama</td>\n",
       "      <td>1270</td>\n",
       "    </tr>\n",
       "    <tr>\n",
       "      <th>1</th>\n",
       "      <td>19173000470for</td>\n",
       "      <td>youscan</td>\n",
       "      <td>1322</td>\n",
       "    </tr>\n",
       "    <tr>\n",
       "      <th>2</th>\n",
       "      <td>bnp</td>\n",
       "      <td>paribas</td>\n",
       "      <td>1137</td>\n",
       "    </tr>\n",
       "    <tr>\n",
       "      <th>3</th>\n",
       "      <td>1100uk</td>\n",
       "      <td>3200email</td>\n",
       "      <td>1467</td>\n",
       "    </tr>\n",
       "    <tr>\n",
       "      <th>4</th>\n",
       "      <td>executiveus</td>\n",
       "      <td>1100uk</td>\n",
       "      <td>1467</td>\n",
       "    </tr>\n",
       "    <tr>\n",
       "      <th>5</th>\n",
       "      <td>researchjesse</td>\n",
       "      <td>maidamedia</td>\n",
       "      <td>1466</td>\n",
       "    </tr>\n",
       "    <tr>\n",
       "      <th>6</th>\n",
       "      <td>societe</td>\n",
       "      <td>generale</td>\n",
       "      <td>1023</td>\n",
       "    </tr>\n",
       "    <tr>\n",
       "      <th>7</th>\n",
       "      <td>preparatory</td>\n",
       "      <td>squats</td>\n",
       "      <td>1484</td>\n",
       "    </tr>\n",
       "    <tr>\n",
       "      <th>8</th>\n",
       "      <td>rheumatoid</td>\n",
       "      <td>arthritis</td>\n",
       "      <td>1217</td>\n",
       "    </tr>\n",
       "    <tr>\n",
       "      <th>9</th>\n",
       "      <td>abu</td>\n",
       "      <td>dhabi</td>\n",
       "      <td>1763</td>\n",
       "    </tr>\n",
       "    <tr>\n",
       "      <th>10</th>\n",
       "      <td>adhanom</td>\n",
       "      <td>ghebreyesus</td>\n",
       "      <td>1889</td>\n",
       "    </tr>\n",
       "    <tr>\n",
       "      <th>11</th>\n",
       "      <td>sri</td>\n",
       "      <td>lanka</td>\n",
       "      <td>1542</td>\n",
       "    </tr>\n",
       "    <tr>\n",
       "      <th>12</th>\n",
       "      <td>densely</td>\n",
       "      <td>populated</td>\n",
       "      <td>1223</td>\n",
       "    </tr>\n",
       "    <tr>\n",
       "      <th>13</th>\n",
       "      <td>monica</td>\n",
       "      <td>rho</td>\n",
       "      <td>1484</td>\n",
       "    </tr>\n",
       "    <tr>\n",
       "      <th>14</th>\n",
       "      <td>synthesis</td>\n",
       "      <td>summation</td>\n",
       "      <td>1905</td>\n",
       "    </tr>\n",
       "    <tr>\n",
       "      <th>15</th>\n",
       "      <td>jc</td>\n",
       "      <td>penney</td>\n",
       "      <td>1998</td>\n",
       "    </tr>\n",
       "    <tr>\n",
       "      <th>16</th>\n",
       "      <td>exxon</td>\n",
       "      <td>mobil</td>\n",
       "      <td>1273</td>\n",
       "    </tr>\n",
       "    <tr>\n",
       "      <th>17</th>\n",
       "      <td>puerto</td>\n",
       "      <td>rico</td>\n",
       "      <td>2163</td>\n",
       "    </tr>\n",
       "    <tr>\n",
       "      <th>18</th>\n",
       "      <td>mikel</td>\n",
       "      <td>arteta</td>\n",
       "      <td>1119</td>\n",
       "    </tr>\n",
       "    <tr>\n",
       "      <th>19</th>\n",
       "      <td>ole</td>\n",
       "      <td>gunnar</td>\n",
       "      <td>2081</td>\n",
       "    </tr>\n",
       "  </tbody>\n",
       "</table>\n",
       "</div>"
      ],
      "text/plain": [
       "         bigram_w1    bigram_w2  freq\n",
       "0            chizu     nomiyama  1270\n",
       "1   19173000470for      youscan  1322\n",
       "2              bnp      paribas  1137\n",
       "3           1100uk    3200email  1467\n",
       "4      executiveus       1100uk  1467\n",
       "5    researchjesse   maidamedia  1466\n",
       "6          societe     generale  1023\n",
       "7      preparatory       squats  1484\n",
       "8       rheumatoid    arthritis  1217\n",
       "9              abu        dhabi  1763\n",
       "10         adhanom  ghebreyesus  1889\n",
       "11             sri        lanka  1542\n",
       "12         densely    populated  1223\n",
       "13          monica          rho  1484\n",
       "14       synthesis    summation  1905\n",
       "15              jc       penney  1998\n",
       "16           exxon        mobil  1273\n",
       "17          puerto         rico  2163\n",
       "18           mikel       arteta  1119\n",
       "19             ole       gunnar  2081"
      ]
     },
     "execution_count": 37,
     "metadata": {},
     "output_type": "execute_result"
    }
   ],
   "source": [
    "df_bigrams[:20]"
   ]
  },
  {
   "cell_type": "code",
   "execution_count": 38,
   "id": "a387a6b0-40db-4c03-ad63-0afa4d164cee",
   "metadata": {},
   "outputs": [
    {
     "data": {
      "text/html": [
       "<div>\n",
       "<style scoped>\n",
       "    .dataframe tbody tr th:only-of-type {\n",
       "        vertical-align: middle;\n",
       "    }\n",
       "\n",
       "    .dataframe tbody tr th {\n",
       "        vertical-align: top;\n",
       "    }\n",
       "\n",
       "    .dataframe thead th {\n",
       "        text-align: right;\n",
       "    }\n",
       "</style>\n",
       "<table border=\"1\" class=\"dataframe\">\n",
       "  <thead>\n",
       "    <tr style=\"text-align: right;\">\n",
       "      <th></th>\n",
       "      <th>bigram_w1</th>\n",
       "      <th>bigram_w2</th>\n",
       "      <th>freq</th>\n",
       "    </tr>\n",
       "  </thead>\n",
       "  <tbody>\n",
       "    <tr>\n",
       "      <th>956</th>\n",
       "      <td>supply</td>\n",
       "      <td>chains</td>\n",
       "      <td>9493</td>\n",
       "    </tr>\n",
       "    <tr>\n",
       "      <th>989</th>\n",
       "      <td>supply</td>\n",
       "      <td>chain</td>\n",
       "      <td>23592</td>\n",
       "    </tr>\n",
       "  </tbody>\n",
       "</table>\n",
       "</div>"
      ],
      "text/plain": [
       "    bigram_w1 bigram_w2   freq\n",
       "956    supply    chains   9493\n",
       "989    supply     chain  23592"
      ]
     },
     "execution_count": 38,
     "metadata": {},
     "output_type": "execute_result"
    }
   ],
   "source": [
    "df_bigrams[df_bigrams['bigram_w1'] == 'supply']"
   ]
  },
  {
   "cell_type": "code",
   "execution_count": 39,
   "id": "c749aef0-02d9-41f9-9f1c-f9ae7d92b476",
   "metadata": {},
   "outputs": [
    {
     "data": {
      "text/html": [
       "<div>\n",
       "<style scoped>\n",
       "    .dataframe tbody tr th:only-of-type {\n",
       "        vertical-align: middle;\n",
       "    }\n",
       "\n",
       "    .dataframe tbody tr th {\n",
       "        vertical-align: top;\n",
       "    }\n",
       "\n",
       "    .dataframe thead th {\n",
       "        text-align: right;\n",
       "    }\n",
       "</style>\n",
       "<table border=\"1\" class=\"dataframe\">\n",
       "  <thead>\n",
       "    <tr style=\"text-align: right;\">\n",
       "      <th></th>\n",
       "      <th>bigram_w1</th>\n",
       "      <th>bigram_w2</th>\n",
       "      <th>freq</th>\n",
       "    </tr>\n",
       "  </thead>\n",
       "  <tbody>\n",
       "  </tbody>\n",
       "</table>\n",
       "</div>"
      ],
      "text/plain": [
       "Empty DataFrame\n",
       "Columns: [bigram_w1, bigram_w2, freq]\n",
       "Index: []"
      ]
     },
     "execution_count": 39,
     "metadata": {},
     "output_type": "execute_result"
    }
   ],
   "source": [
    "df_bigrams[df_bigrams['freq'] <= 100]"
   ]
  },
  {
   "cell_type": "code",
   "execution_count": 40,
   "id": "56c9a851-d83b-4701-a910-2ac658eeb458",
   "metadata": {},
   "outputs": [
    {
     "data": {
      "text/html": [
       "<div>\n",
       "<style scoped>\n",
       "    .dataframe tbody tr th:only-of-type {\n",
       "        vertical-align: middle;\n",
       "    }\n",
       "\n",
       "    .dataframe tbody tr th {\n",
       "        vertical-align: top;\n",
       "    }\n",
       "\n",
       "    .dataframe thead th {\n",
       "        text-align: right;\n",
       "    }\n",
       "</style>\n",
       "<table border=\"1\" class=\"dataframe\">\n",
       "  <thead>\n",
       "    <tr style=\"text-align: right;\">\n",
       "      <th></th>\n",
       "      <th>bigram_w1</th>\n",
       "      <th>bigram_w2</th>\n",
       "      <th>freq</th>\n",
       "    </tr>\n",
       "  </thead>\n",
       "  <tbody>\n",
       "    <tr>\n",
       "      <th>668</th>\n",
       "      <td>settle</td>\n",
       "      <td>barrel</td>\n",
       "      <td>1000</td>\n",
       "    </tr>\n",
       "  </tbody>\n",
       "</table>\n",
       "</div>"
      ],
      "text/plain": [
       "    bigram_w1 bigram_w2  freq\n",
       "668    settle    barrel  1000"
      ]
     },
     "execution_count": 40,
     "metadata": {},
     "output_type": "execute_result"
    }
   ],
   "source": [
    "df_bigrams[(df_bigrams['freq'] >= 700) & (df_bigrams['freq'] <= 1000)]"
   ]
  },
  {
   "cell_type": "code",
   "execution_count": 42,
   "id": "cd275643-d05d-4651-abb7-88d6f60435a8",
   "metadata": {},
   "outputs": [
    {
     "data": {
      "text/html": [
       "<div>\n",
       "<style scoped>\n",
       "    .dataframe tbody tr th:only-of-type {\n",
       "        vertical-align: middle;\n",
       "    }\n",
       "\n",
       "    .dataframe tbody tr th {\n",
       "        vertical-align: top;\n",
       "    }\n",
       "\n",
       "    .dataframe thead th {\n",
       "        text-align: right;\n",
       "    }\n",
       "</style>\n",
       "<table border=\"1\" class=\"dataframe\">\n",
       "  <thead>\n",
       "    <tr style=\"text-align: right;\">\n",
       "      <th></th>\n",
       "      <th>bigram</th>\n",
       "      <th>freq</th>\n",
       "    </tr>\n",
       "  </thead>\n",
       "  <tbody>\n",
       "    <tr>\n",
       "      <th>0</th>\n",
       "      <td>(end, year)</td>\n",
       "      <td>13063</td>\n",
       "    </tr>\n",
       "    <tr>\n",
       "      <th>1</th>\n",
       "      <td>(time, think)</td>\n",
       "      <td>1302</td>\n",
       "    </tr>\n",
       "    <tr>\n",
       "      <th>2</th>\n",
       "      <td>(market, leader)</td>\n",
       "      <td>1328</td>\n",
       "    </tr>\n",
       "    <tr>\n",
       "      <th>3</th>\n",
       "      <td>(energy, sector)</td>\n",
       "      <td>1788</td>\n",
       "    </tr>\n",
       "    <tr>\n",
       "      <th>4</th>\n",
       "      <td>(expected, grow)</td>\n",
       "      <td>2723</td>\n",
       "    </tr>\n",
       "    <tr>\n",
       "      <th>...</th>\n",
       "      <td>...</td>\n",
       "      <td>...</td>\n",
       "    </tr>\n",
       "    <tr>\n",
       "      <th>8615</th>\n",
       "      <td>(15year, perspective)</td>\n",
       "      <td>2571</td>\n",
       "    </tr>\n",
       "    <tr>\n",
       "      <th>8616</th>\n",
       "      <td>(presidentelect, joe)</td>\n",
       "      <td>1878</td>\n",
       "    </tr>\n",
       "    <tr>\n",
       "      <th>8617</th>\n",
       "      <td>(content, december)</td>\n",
       "      <td>1172</td>\n",
       "    </tr>\n",
       "    <tr>\n",
       "      <th>8618</th>\n",
       "      <td>(unaltered, december)</td>\n",
       "      <td>1232</td>\n",
       "    </tr>\n",
       "    <tr>\n",
       "      <th>8619</th>\n",
       "      <td>(december, utc)</td>\n",
       "      <td>1232</td>\n",
       "    </tr>\n",
       "  </tbody>\n",
       "</table>\n",
       "<p>8620 rows × 2 columns</p>\n",
       "</div>"
      ],
      "text/plain": [
       "                     bigram   freq\n",
       "0               (end, year)  13063\n",
       "1             (time, think)   1302\n",
       "2          (market, leader)   1328\n",
       "3          (energy, sector)   1788\n",
       "4          (expected, grow)   2723\n",
       "...                     ...    ...\n",
       "8615  (15year, perspective)   2571\n",
       "8616  (presidentelect, joe)   1878\n",
       "8617    (content, december)   1172\n",
       "8618  (unaltered, december)   1232\n",
       "8619        (december, utc)   1232\n",
       "\n",
       "[8620 rows x 2 columns]"
      ]
     },
     "execution_count": 42,
     "metadata": {},
     "output_type": "execute_result"
    }
   ],
   "source": [
    "df_bigrams_freq"
   ]
  },
  {
   "cell_type": "code",
   "execution_count": 43,
   "id": "90818fac-2e0b-42f1-b960-c80c27f4ca26",
   "metadata": {},
   "outputs": [
    {
     "data": {
      "text/html": [
       "<div>\n",
       "<style scoped>\n",
       "    .dataframe tbody tr th:only-of-type {\n",
       "        vertical-align: middle;\n",
       "    }\n",
       "\n",
       "    .dataframe tbody tr th {\n",
       "        vertical-align: top;\n",
       "    }\n",
       "\n",
       "    .dataframe thead th {\n",
       "        text-align: right;\n",
       "    }\n",
       "</style>\n",
       "<table border=\"1\" class=\"dataframe\">\n",
       "  <thead>\n",
       "    <tr style=\"text-align: right;\">\n",
       "      <th></th>\n",
       "      <th>bigram</th>\n",
       "      <th>freq</th>\n",
       "    </tr>\n",
       "  </thead>\n",
       "  <tbody>\n",
       "    <tr>\n",
       "      <th>403</th>\n",
       "      <td>(supply, chain)</td>\n",
       "      <td>23592</td>\n",
       "    </tr>\n",
       "  </tbody>\n",
       "</table>\n",
       "</div>"
      ],
      "text/plain": [
       "              bigram   freq\n",
       "403  (supply, chain)  23592"
      ]
     },
     "execution_count": 43,
     "metadata": {},
     "output_type": "execute_result"
    }
   ],
   "source": [
    "df_bigrams_freq[df_bigrams_freq['bigram'] == ('supply', 'chain')]"
   ]
  },
  {
   "cell_type": "markdown",
   "id": "0ac2a5c8",
   "metadata": {},
   "source": [
    "### Strip company names out of text\n",
    "Just an idea to come back to because otherwise they may form significance for topic"
   ]
  },
  {
   "cell_type": "code",
   "execution_count": 255,
   "id": "7b82beb1",
   "metadata": {},
   "outputs": [
    {
     "name": "stdout",
     "output_type": "stream",
     "text": [
      "With the end of the year just around the corner, it’s past time to think about positioning for2020. When it comes to earnings power in 2020, the Industrial sector is going to be the market leader and that is where I like my money to be. To be clear, when I say Industrial Sector I mean the S&P 500 Industrial Sector as represented by the ETF (XLI). Yes, the Energy Sector is expected to post EPS growth double that of the Industrials but investors should take that news with a grain of salt. The Energy Sector’s (XLE) consensus EPS growth estimate for 2020 is 21% but only after falling -28% this year. The Industrial Sector is expected to grow by 15% next year (2nd fastest pace for the S&P 500) after contracting only -3% this year. That means the Energy Sector’s earnings will still be down on a two-year basis while the Industrial’s will rise. Energy may yet turn out to be a good investment for 2020 but, on an earnings basis, the Industrials are a much better choice. Don’t Bet On Boeing Boeing (BA) is by far the largest holding within the Industrial Sector SPDR but not an investment I recommend at this time. At just over 8% it outweighs the #2 holding, Honeywell (HON), by nearly 200 basis points and that is why the XLI is not the best choice for investors today. With the 737-Max scandal still raging it is unlikely Boeing will back in 2020. The most recent news on that front is the ousting of CEO Dennis Muilenberg. Muilenberg has been in charge of Boeing since 2015 and key to the 737-Max crisis, the board decided it was in the company’s best interest to find someone else. document.write('<a style=\"text-decoration:none;font-weight:normal;color:#696969;\" target=\"_blank\" rel=\"nofollow\" href=\"https://www.ame' + 'ricanconsumernews.net/scripts/click.aspx?NativeDisplayAdID=584&ImpressionID=0&UserID=0&Placement=PlaceOnArticlePage\">');Buffett is notoriously “anti technology.” Which is why this Wall Street Legend's recent discover is so shocking:\n",
      "21 of Buffett’s 25 current favorite companies are going “all in” one hot new technology… To the tune of $1.7 billion! ...After decades of being anti-tech...what is making Buffett going all in now? And what is this new technology that America's biggest companies are in a race to implement? There are several stocks within the XLI portfolio on the move and looking bullish. The three I want to highlight today are uniquely set up for 2020 and we can give thanks to the trade war for that. Caterpillar (CAT), Deere & Company (DE), and Cummins Inc (CMI) have all seen their business deteriorate due to the trade war issuing downgrades and missing estimates. Now, with the Phase One Deal in sight, that is all about to change. Once the deal is signed and the details are well known we can expect to see a flurry of analysts upgrades for these stocks and this sector. Cummins Inc, On The Move Cummins Inc is a maker of engines and components for heavy industrial trucks. The company has been suffering due to softening demands for those trucks but you wouldn’t think so looking at the share price. The price of Cummins has risen nearly 30% since hitting a bottom last August and looks ready to continue rising in 2020. The outlook for growth, and the impact of the Phase One Deal on that outlook, are only part of the reason Cummins is on the move. Cummins is also a solid dividend payer and a prolific buyer of its own stock so a great way to capitalize on this industry. At today’s prices, the stock yields close to 3% and has a 14-year  history of distribution increases. The XLI only pays aobut 1.9%. As for buybacks, the board just announced another $2 billion in buybacks slated for 2020. Deere & Company, China Is The Key To Growth Deere & Company, that iconic maker of tractors, recently downgraded its outlook for 2020 due to the trade war. The company says lingering trade tensions played a big roll in the decision which makes the Phase One Deal of particular importance. The idea is that, once the Phase One Deal is signed, trade with China will reinvigorate growth globally, not just in the China segment of the business. Looking at the earnings picture, Deere & Company will be one of 2020’s best EPS growers despite the recent downgrade to guidance. The consensus estimate for EPS is $11.02, a 27% increase from 2019. Like Cummins, Deere & Company is a dividend payer and an attractive one at that. The yield is a little low, only 1.75% at today’s prices, but it is a safe 1.75%. The payout ratio is only 27% of next year’s earnings which also leaves plenty of room for an increase. Caterpillar, A Dividend Aristocrat For Capital Gains In 2020 Shares of Caterpillar have been on the move in the second half of 2019 too. The stock is up more than 31% in the last four months and may easily match that gain in 2020. While the business has been struggling this year, the impact of tariffs has not been as great as feared. In addition, Caterpillar’s CEO says many of its businesses have “significant potential upside.” On a technical basis, the stock is forming a Bullish Flag Pattern with a $36 flag-pole. If, when, the pattern confirms traders can expect the stock to rise as much as or more than $36. Such a move would put the stock at a new all-time high. Regarding the dividend, Caterpillar is a Dividend Aristocrat with 26 years of distribution increases under its belt. The yield at today's prices is about 2.8% with a low 38% payout ratio. 6 Stocks That Will Benefit From a Dovish Federal Reserve The quaint correction that was labeled the “tech wreck” of 2018 seems like a distant memory to investors. What also seems like a distant memory is any thought of the Federal Reserve raising interest rates.\n",
      "\n",
      "At the end of 2018, the Federal Reserve had raised its benchmark federal funds rate. With the trade dispute with China dragging on, there was increasing pressure on the Fed to lower interest rates. When interest rates are lower, stocks will generally rise as investors have no other option for growth.\n",
      "\n",
      "In July 2019, the doves got their wish. But in a move that now seems to be a “what did they know move”, the Fed dropped rates again in October. The market soared to record highs in January and early February. Since mid-February however, the market has fallen dramatically, and the Fed juiced the market one more time by cutting rates down to levels not seen since the financial crisis.\n",
      "\n",
      "None of us know for sure when the U.S. economy will be opened up. And while stocks are still a good investment, not every stock is a smart investment at this time. But some stocks perform well when interest rates are falling and that’s why we’ve prepared this presentation.\n",
      "\n",
      "These six stocks stand to benefit from both low-interest rates and the unique economic conditions being brought on by the Covid-19 pandemic. View the \"6 Stocks That Will Benefit From a Dovish Federal Reserve\". Complete the form below to receive the latest headlines and analysts' recommendations for your stocks with our free daily email newsletter:\n"
     ]
    }
   ],
   "source": [
    "print(df['content'][0])"
   ]
  },
  {
   "cell_type": "code",
   "execution_count": null,
   "id": "5af18943",
   "metadata": {},
   "outputs": [],
   "source": []
  }
 ],
 "metadata": {
  "kernelspec": {
   "display_name": "Python 3 (ipykernel)",
   "language": "python",
   "name": "python3"
  },
  "language_info": {
   "codemirror_mode": {
    "name": "ipython",
    "version": 3
   },
   "file_extension": ".py",
   "mimetype": "text/x-python",
   "name": "python",
   "nbconvert_exporter": "python",
   "pygments_lexer": "ipython3",
   "version": "3.8.0"
  }
 },
 "nbformat": 4,
 "nbformat_minor": 5
}
