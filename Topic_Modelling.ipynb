{
 "cells": [
  {
   "cell_type": "code",
   "execution_count": 1,
   "id": "unauthorized-aquarium",
   "metadata": {},
   "outputs": [],
   "source": [
    "import pandas as pd\n",
    "#from top2vec import Top2Vec\n",
    "import os\n",
    "import collections\n",
    "import csv\n",
    "import logging\n",
    "import numpy as np\n",
    "import datetime as datetime\n",
    "import types\n",
    "\n",
    "from tensorflow.keras.layers import Input\n",
    "import tensorflow as tf\n",
    "from tensorflow.keras.models import Model\n",
    "from tensorflow.keras.layers import Input, Dense, Reshape, Embedding, Concatenate, dot\n",
    "from tensorflow.keras.preprocessing.sequence import skipgrams\n",
    "from tensorflow.keras.preprocessing import sequence\n",
    "from tensorflow.keras.losses import cosine_similarity\n",
    "from tensorflow.keras.callbacks import TensorBoard\n",
    "from tensorboard.plugins import projector\n"
   ]
  },
  {
   "cell_type": "code",
   "execution_count": 2,
   "id": "4ceedc04-9bdd-4e23-a29a-7f2ab5cf9047",
   "metadata": {},
   "outputs": [
    {
     "name": "stdout",
     "output_type": "stream",
     "text": [
      "/home/ubuntu/thesis_env2/bin/jupyter\n"
     ]
    }
   ],
   "source": [
    "!which jupyter"
   ]
  },
  {
   "cell_type": "code",
   "execution_count": 3,
   "id": "f23e4816-a2e1-498d-a2c2-736722c0607c",
   "metadata": {},
   "outputs": [
    {
     "name": "stdout",
     "output_type": "stream",
     "text": [
      "[PhysicalDevice(name='/physical_device:GPU:0', device_type='GPU')]\n",
      "Num GPUs Available:  1\n",
      "GPUs:  1\n"
     ]
    },
    {
     "data": {
      "text/plain": [
       "'/home/ubuntu/thesis/Thesis'"
      ]
     },
     "execution_count": 3,
     "metadata": {},
     "output_type": "execute_result"
    }
   ],
   "source": [
    "import os\n",
    "#os.environ['TF_XLA_FLAGS'] = '--tf_xla_enable_xla_devices'\n",
    "\n",
    "#tf.debugging.set_log_device_placement(True)\n",
    "\n",
    "physical_devices = tf.config.list_physical_devices('GPU')\n",
    "for gpu_instance in physical_devices: \n",
    "    tf.config.experimental.set_memory_growth(gpu_instance, True)\n",
    "print(physical_devices)\n",
    "#tf.config.set_visible_devices(physical_devices[0],'GPU')\n",
    "print(\"Num GPUs Available: \", len(tf.config.list_physical_devices('GPU')))\n",
    "print(\"GPUs: \", len(tf.config.experimental.list_physical_devices('GPU')))\n",
    "os.getcwd()\n"
   ]
  },
  {
   "cell_type": "code",
   "execution_count": 4,
   "id": "a640ae06-3300-4653-87ab-eb19f7f77932",
   "metadata": {},
   "outputs": [],
   "source": [
    "df = pd.read_pickle('./data/df_processed_bigrams.pickle')"
   ]
  },
  {
   "cell_type": "code",
   "execution_count": 5,
   "id": "north-billion",
   "metadata": {},
   "outputs": [
    {
     "name": "stdout",
     "output_type": "stream",
     "text": [
      "<class 'pandas.core.frame.DataFrame'>\n",
      "Int64Index: 365200 entries, 0 to 369046\n",
      "Data columns (total 8 columns):\n",
      " #   Column             Non-Null Count   Dtype         \n",
      "---  ------             --------------   -----         \n",
      " 0   author             181507 non-null  object        \n",
      " 1   date               365200 non-null  datetime64[ns]\n",
      " 2   domain             365200 non-null  object        \n",
      " 3   title              365115 non-null  object        \n",
      " 4   url                365200 non-null  object        \n",
      " 5   content            365200 non-null  object        \n",
      " 6   topic_area         365200 non-null  object        \n",
      " 7   content_processed  365200 non-null  object        \n",
      "dtypes: datetime64[ns](1), object(7)\n",
      "memory usage: 25.1+ MB\n"
     ]
    }
   ],
   "source": [
    "df.info()"
   ]
  },
  {
   "cell_type": "code",
   "execution_count": 6,
   "id": "c4027c53-341d-4e1c-a29e-ca3256529a83",
   "metadata": {},
   "outputs": [
    {
     "data": {
      "text/html": [
       "<div>\n",
       "<style scoped>\n",
       "    .dataframe tbody tr th:only-of-type {\n",
       "        vertical-align: middle;\n",
       "    }\n",
       "\n",
       "    .dataframe tbody tr th {\n",
       "        vertical-align: top;\n",
       "    }\n",
       "\n",
       "    .dataframe thead th {\n",
       "        text-align: right;\n",
       "    }\n",
       "</style>\n",
       "<table border=\"1\" class=\"dataframe\">\n",
       "  <thead>\n",
       "    <tr style=\"text-align: right;\">\n",
       "      <th></th>\n",
       "      <th>author</th>\n",
       "      <th>date</th>\n",
       "      <th>domain</th>\n",
       "      <th>title</th>\n",
       "      <th>url</th>\n",
       "      <th>content</th>\n",
       "      <th>topic_area</th>\n",
       "      <th>content_processed</th>\n",
       "    </tr>\n",
       "  </thead>\n",
       "  <tbody>\n",
       "    <tr>\n",
       "      <th>0</th>\n",
       "      <td>Thomas Hughes</td>\n",
       "      <td>2020-01-02</td>\n",
       "      <td>marketbeat</td>\n",
       "      <td>Three Industrial Giants You Should Own In 2020</td>\n",
       "      <td>https://www.marketbeat.com/originals/three-ind...</td>\n",
       "      <td>With the end of the year just around the corne...</td>\n",
       "      <td>business</td>\n",
       "      <td>end year corner past time think positioning fo...</td>\n",
       "    </tr>\n",
       "  </tbody>\n",
       "</table>\n",
       "</div>"
      ],
      "text/plain": [
       "          author       date      domain  \\\n",
       "0  Thomas Hughes 2020-01-02  marketbeat   \n",
       "\n",
       "                                            title  \\\n",
       "0  Three Industrial Giants You Should Own In 2020   \n",
       "\n",
       "                                                 url  \\\n",
       "0  https://www.marketbeat.com/originals/three-ind...   \n",
       "\n",
       "                                             content topic_area  \\\n",
       "0  With the end of the year just around the corne...   business   \n",
       "\n",
       "                                   content_processed  \n",
       "0  end year corner past time think positioning fo...  "
      ]
     },
     "execution_count": 6,
     "metadata": {},
     "output_type": "execute_result"
    }
   ],
   "source": [
    "df.head(1)"
   ]
  },
  {
   "cell_type": "code",
   "execution_count": 7,
   "id": "utility-formula",
   "metadata": {},
   "outputs": [],
   "source": [
    "# Note to do - need to add time element\n",
    "\n",
    "def log_newline(self, how_many_lines=1):\n",
    "    file_handler = None\n",
    "    if self.handlers:\n",
    "        file_handler = self.handlers[0]\n",
    "\n",
    "    # Switch formatter, output a blank line\n",
    "    file_handler.setFormatter(self.blank_formatter)\n",
    "    for i in range(how_many_lines):\n",
    "        self.info('')\n",
    "\n",
    "    # Switch back\n",
    "    file_handler.setFormatter(self.default_formatter)\n",
    "\n",
    "def logger_w2v():\n",
    "    \n",
    "    log_file = os.path.join('./data', 'word2vec.log')\n",
    "    print('log file location: ', log_file)\n",
    "    \n",
    "    log_format= '%(asctime)s - %(levelname)s - [%(module)s]\\t%(message)s'\n",
    "    formatter = logging.Formatter(fmt=(log_format))\n",
    "    \n",
    "    fhandler = logging.FileHandler(log_file)\n",
    "    fhandler.setFormatter(formatter)\n",
    "    \n",
    "    logger = logging.getLogger('word2vec')\n",
    "    logger.setLevel(logging.DEBUG)\n",
    "    logger.addHandler(fhandler)\n",
    "    logger.default_formatter = formatter\n",
    "    logger.blank_formatter = logging.Formatter(fmt=\"\")\n",
    "    logger.newline = types.MethodType(log_newline, logger)\n",
    "    \n",
    "    return logger\n",
    "    "
   ]
  },
  {
   "cell_type": "code",
   "execution_count": 18,
   "id": "mobile-coalition",
   "metadata": {},
   "outputs": [],
   "source": [
    "class Word2Vec:\n",
    "    \"\"\"\n",
    "    apply word2vec to text\n",
    "    \"\"\"\n",
    "\n",
    "    def __init__(self, logger, vocab_size, vector_dim, input_target, input_context,\n",
    "                 load_pretrained_weights, weights_file_name, train_model_flag, checkpoint_file):\n",
    "        \"\"\"\n",
    "        Args:\n",
    "            vocab size: integer of number of words to form vocabulary from\n",
    "            vector_dim: integer of number of dimensions per word\n",
    "            input_target: tensor representing target word\n",
    "            input_context: tensor representing context word\n",
    "        \"\"\"\n",
    "        self.logger = logger        \n",
    "        self.vocab_size = vocab_size\n",
    "        self.vector_dim = vector_dim\n",
    "        self.input_target = input_target\n",
    "        self.input_context = input_context\n",
    "        self.load_pretrained_weights = load_pretrained_weights\n",
    "        self.weights_file_name = weights_file_name\n",
    "        self.checkpoint_file = checkpoint_file\n",
    "        self.train_model_flag = train_model_flag\n",
    "        self.model = self.create_model()\n",
    "        \n",
    "    def build_dataset(self, words):\n",
    "        \"\"\"\n",
    "        :process raw inputs into a dataset\n",
    "\n",
    "        Args:\n",
    "            words: list of strings\n",
    "\n",
    "        Returns:\n",
    "            tuple:\n",
    "                data: list of integers representing words in words\n",
    "                count: list of count of most frequent words with size n_words\n",
    "                dictionary: dictionary of word to unique integer\n",
    "                reverse dictionary: dictionary of unique integer to word\n",
    "        \"\"\"\n",
    "        self.logger.info(\"Building dataset\")\n",
    "\n",
    "        count = [['UNK', -1]]\n",
    "        words = [item for sublist in words for item in sublist]\n",
    "        print(len(words))\n",
    "        count.extend(collections.Counter(words).most_common(self.vocab_size - 1))\n",
    "        dictionary = dict()\n",
    "        for word, _ in count:\n",
    "            dictionary[word] = len(dictionary)\n",
    "        data = list()\n",
    "        unk_count = 0        \n",
    "        for word in words:\n",
    "            if word in dictionary:\n",
    "                index = dictionary[word]\n",
    "            else:\n",
    "                index = 0  # dictionary['UNK']\n",
    "                unk_count += 1\n",
    "            data.append(index)\n",
    "        count[0][1] = unk_count\n",
    "        reversed_dictionary = dict(zip(dictionary.values(), dictionary.keys()))\n",
    "        self.dictionary = dictionary\n",
    "\n",
    "        # Save dictionary\n",
    "        dict_path = './data'\n",
    "        dict_file = 'dictionary.csv'\n",
    "        dict_file = os.path.join(dict_path,dict_file)\n",
    "        \n",
    "        with open(dict_file, 'w') as f:\n",
    "            for key in dictionary.keys():\n",
    "                f.write(\"%s,%s\\n\"%(key,dictionary[key]))\n",
    "\n",
    "        return data, count, dictionary, reversed_dictionary\n",
    "    \n",
    "    def get_training_data(self, data, window_size):\n",
    "        \"\"\"\n",
    "        :create text and label pairs for model training\n",
    "\n",
    "        Args:\n",
    "            data: list of integers representing words in words\n",
    "            window_size: integer of number of words around the target word that\n",
    "                         will be used to draw the context words from.\n",
    "\n",
    "        Returns:\n",
    "            tuple:\n",
    "                word_target: list of arrays representing target word in integer form\n",
    "                word_context: list of arrays representing context word in \n",
    "                              relation to target word in integer form\n",
    "                labels: list containing 1 for true context, 0 for false context\n",
    "                couples: list of pairs of word indexes aligned with labels\n",
    "        \"\"\"\n",
    "        # the probability of sampling the word i-th most common word \n",
    "        sampling_table = sequence.make_sampling_table(self.vocab_size)\n",
    "        \n",
    "        self.logger.info(\"finding training data with labels\")\n",
    "        couples, labels = skipgrams(data, self.vocab_size, window_size=window_size, \n",
    "                                    sampling_table=sampling_table)\n",
    "\n",
    "        print(len(couples))\n",
    "        self.logger.info(\"define target and context variables\")\n",
    "        #word_target, word_context = zip(*couples) cannot handle long lists\n",
    "        word_target = [c[0] for c in couples]\n",
    "        word_context = [c[1] for c in couples]\n",
    "        self.logger.info(\"converting to numpy arrays\")\n",
    "        word_target = np.array(word_target, dtype=\"int32\")\n",
    "        word_context = np.array(word_context, dtype=\"int32\")\n",
    "        labels = np.array(labels, dtype=\"int32\")\n",
    "        \n",
    "        self.logger.info(\"training data acquired\")\n",
    "\n",
    "        return word_target, word_context, labels\n",
    "    \n",
    "\n",
    "    def create_model(self):\n",
    "        \"\"\"\n",
    "        :keras functional API and embedding layers\n",
    "\n",
    "        Returns:\n",
    "            model: untrained word2vec model\n",
    "        \"\"\"\n",
    "        \n",
    "        # embedding layer\n",
    "        embedding = Embedding(self.vocab_size, self.vector_dim, input_length=1, name='embedding')\n",
    "\n",
    "        # embedding vectors\n",
    "        target = embedding(self.input_target)\n",
    "        target = Reshape((self.vector_dim, 1))(target)\n",
    "        context = embedding(self.input_context)\n",
    "        context = Reshape((self.vector_dim, 1))(context)\n",
    "\n",
    "        # dot product operation to get a similarity measure\n",
    "        dot_product = dot([target, context], axes=1, normalize=False)\n",
    "        dot_product = Reshape((1,))(dot_product)\n",
    "\n",
    "        # add the sigmoid output layer\n",
    "        output = Dense(1, activation='sigmoid')(dot_product)\n",
    "\n",
    "        # create the training model\n",
    "        self.model = Model(inputs=[self.input_target, self.input_context], outputs=output)\n",
    "\n",
    "        return self.model\n",
    "\n",
    "    def train_model(self, epochs, batch_size, word_target, word_context, labels):\n",
    "        \"\"\"\n",
    "        :trains word2vec model\n",
    "\n",
    "        Args:\n",
    "            model: word2vec model\n",
    "            epochs: integer of number of iterations to train model on\n",
    "            batch_size: integer of number of words to pass to epoch\n",
    "            word_target: list of arrays representing target word \n",
    "            word_context: list of arrays representing context word in relation \n",
    "                          to target word\n",
    "            labels: list containing 1 for true context, 0 for false context\n",
    "\n",
    "        Returns:\n",
    "            model: trained word2vec model\n",
    "        \"\"\"\n",
    "        optimizer = tf.keras.optimizers.Adam(learning_rate=1e-3)\n",
    "        #loss = tf.keras.losses.BinaryCrossentropy()\n",
    "        self.model.compile(loss='binary_crossentropy', optimizer=optimizer)\n",
    "\n",
    "        # tensorboard callback\n",
    "        current_time = datetime.datetime.now().strftime(\"%Y%m%d-%H%M%S\")\n",
    "        log_dir='tensorboard_log/' + current_time\n",
    "        summary_writer = tf.summary.create_file_writer(log_dir)\n",
    "\n",
    "        if self.load_pretrained_weights:\n",
    "            self.load_prior_weights()\n",
    "            if not self.train_model_flag:\n",
    "                return self.model\n",
    "\n",
    "        arr_1 = np.zeros((batch_size,))\n",
    "        arr_2 = np.zeros((batch_size,))\n",
    "        arr_3 = np.zeros((batch_size,))\n",
    "        \n",
    "        for i in range(epochs):\n",
    "            idx = np.random.choice(list(range(len(labels))), size=batch_size, replace=False)\n",
    "            arr_1[:] = np.array([word_target[i] for i in idx])\n",
    "            arr_2[:] = np.array([word_context[i] for i in idx])\n",
    "            arr_3[:] = np.array([labels[i] for i in idx])\n",
    "            loss = self.model.train_on_batch([arr_1, arr_2], arr_3)\n",
    "            with summary_writer.as_default():\n",
    "                tf.summary.scalar('loss', loss, step=i)\n",
    "            if (i+1) % 500 == 0:\n",
    "                print(\"Iteration {}, loss={}\".format(i+1, loss))\n",
    "            if (i+1) % 1000 == 0:\n",
    "                checkpoint_dir = './model/model_weights'\n",
    "                checkpoint_file = f\"cp-epoch-{i+1:010d}.h5\"\n",
    "                checkpoint_path = os.path.join(checkpoint_dir,checkpoint_file)\n",
    "                self.model.save_weights(checkpoint_path)\n",
    "                self.embedding_projector(log_dir)\n",
    "\n",
    "        return self.model\n",
    "    \n",
    "        def train_model_v2(self, epochs, dataset, labels):\n",
    "        \"\"\"\n",
    "        :trains word2vec model\n",
    "\n",
    "        Args:\n",
    "            model: word2vec model\n",
    "            epochs: integer of number of iterations to train model on\n",
    "            batch_size: integer of number of words to pass to epoch\n",
    "            word_target: list of arrays representing target word \n",
    "            word_context: list of arrays representing context word in relation \n",
    "                          to target word\n",
    "            labels: list containing 1 for true context, 0 for false context\n",
    "\n",
    "        Returns:\n",
    "            model: trained word2vec model\n",
    "        \"\"\"\n",
    "        optimizer = tf.keras.optimizers.Adam(learning_rate=1e-3)\n",
    "        #loss = tf.keras.losses.BinaryCrossentropy()\n",
    "        self.model.compile(loss='binary_crossentropy', optimizer=optimizer)\n",
    "\n",
    "        # tensorboard callback\n",
    "        current_time = datetime.datetime.now().strftime(\"%Y%m%d-%H%M%S\")\n",
    "        log_dir='tensorboard_log/' + current_time\n",
    "        summary_writer = tf.summary.create_file_writer(log_dir)\n",
    "\n",
    "        if self.load_pretrained_weights:\n",
    "            self.load_prior_weights()\n",
    "            if not self.train_model_flag:\n",
    "                return self.model\n",
    "                \n",
    "        for i in range(epochs):\n",
    "            for batch in dataset:\n",
    "                loss = self.model.train_on_batch(batch)\n",
    "            with summary_writer.as_default():\n",
    "                tf.summary.scalar('loss', loss, step=i)\n",
    "            if (i+1) % 500 == 0:\n",
    "                print(\"Iteration {}, loss={}\".format(i+1, loss))\n",
    "            if (i+1) % 1000 == 0:\n",
    "                checkpoint_dir = './model/model_weights'\n",
    "                checkpoint_file = f\"cp-epoch-{i+1:010d}.h5\"\n",
    "                checkpoint_path = os.path.join(checkpoint_dir,checkpoint_file)\n",
    "                self.model.save_weights(checkpoint_path)\n",
    "                self.embedding_projector(log_dir)\n",
    "\n",
    "        return self.model\n",
    "    \n",
    "    def embedding_projector(self, log_dir):\n",
    "        \"\"\"\n",
    "        :visualise embeddings in tensorboard\n",
    "        \"\"\"\n",
    "        # Save Labels separately on a line-by-line manner.\n",
    "        with open(os.path.join(log_dir, 'metadata.tsv'), \"w\") as f:\n",
    "            for subwords in self.dictionary.keys():\n",
    "                f.write(\"{}\\n\".format(subwords))\n",
    "            # Fill in the rest of the labels with \"unknown\"\n",
    "            for unknown in range(1, self.vocab_size - len(self.dictionary.keys())):\n",
    "                f.write(\"unknown #{}\\n\".format(unknown))\n",
    "\n",
    "        # Save the weights we want to analyse as a variable. \n",
    "        weights = tf.Variable(self.model.layers[2].get_weights()[0])\n",
    "        checkpoint_w = tf.train.Checkpoint(embedding=weights)\n",
    "        checkpoint_w.save(os.path.join(log_dir, \"embedding.ckpt\"))\n",
    "\n",
    "        # Set up config\n",
    "        config_tb = projector.ProjectorConfig()\n",
    "        embedding_tb = config_tb.embeddings.add()\n",
    "        embedding_tb.tensor_name = \"embedding/.ATTRIBUTES/VARIABLE_VALUE\"\n",
    "        embedding_tb.metadata_path = 'metadata.tsv'\n",
    "        projector.visualize_embeddings(log_dir, config_tb)\n",
    "        \n",
    "        \n",
    "    def load_prior_weights(self):\n",
    "        \"\"\"\n",
    "        :load prior weights if load_pretrained_weights = True in main file\n",
    "        \"\"\" \n",
    "        #abs_path = os.path.abspath(os.path.join(os.path.dirname( __file__ ), '..'))\n",
    "        #checkpoint_dir = os.path.join(abs_path, self.config['model']['model_dir'], self.config['model']['model_weights'])\n",
    "        #checkpoint_path = os.path.join(checkpoint_dir,self.checkpoint_file)\n",
    "        checkpoint_dir = './model/model_weights'\n",
    "        checkpoint_file = self.weights_file_name\n",
    "        checkpoint_path = os.path.join(checkpoint_dir,checkpoint_file)\n",
    "        self.model.load_weights(checkpoint_path)\n",
    "        self.logger.info('Loaded pre trained wweights from {}'.format(str(checkpoint_path)))"
   ]
  },
  {
   "cell_type": "code",
   "execution_count": 9,
   "id": "2095e19a-cbd5-4c6a-a56a-baaab4b8885b",
   "metadata": {},
   "outputs": [],
   "source": [
    "def get_word_vectors(model):\n",
    "    \n",
    "    embedding_weights = model.layers[2].get_weights()[0]\n",
    "    #word_embeddings = {w:embedding_weights[idx] for w, idx in dictionary.items()}\n",
    "    \n",
    "    return embedding_weights"
   ]
  },
  {
   "cell_type": "code",
   "execution_count": 10,
   "id": "8d47f05a-7d52-45fb-b11c-f90e2cfcab0e",
   "metadata": {},
   "outputs": [],
   "source": [
    "def tokenise_dataset(df):\n",
    "\n",
    "    tokens = df['content_processed'].str.split(\" \")\n",
    "\n",
    "    return tokens"
   ]
  },
  {
   "cell_type": "code",
   "execution_count": 11,
   "id": "thorough-disclaimer",
   "metadata": {},
   "outputs": [
    {
     "data": {
      "text/plain": [
       "['carpets',\n",
       " 'celebrities',\n",
       " 'coronavirus',\n",
       " 'life',\n",
       " 'normal',\n",
       " 'pandemic',\n",
       " 'premieres',\n",
       " 'red',\n",
       " 'returns',\n",
       " 'walk']"
      ]
     },
     "execution_count": 11,
     "metadata": {},
     "output_type": "execute_result"
    }
   ],
   "source": [
    "#words = df['content_processed'][:50000]\n",
    "words = tokenise_dataset(df)\n",
    "sorted(words[4][:10])"
   ]
  },
  {
   "cell_type": "code",
   "execution_count": 19,
   "id": "fifteen-deadline",
   "metadata": {},
   "outputs": [
    {
     "name": "stdout",
     "output_type": "stream",
     "text": [
      "log file location:  ./data/word2vec.log\n",
      "146734432\n"
     ]
    }
   ],
   "source": [
    "logger = logger_w2v()\n",
    "\n",
    "vocab_size = 10000\n",
    "vector_dim = 300\n",
    "input_target = Input((1,))\n",
    "input_context = Input((1,))\n",
    "load_pretrained_weights = False\n",
    "weights_file_name = f\"cp-epoch-0000001000-210808.h5\"\n",
    "checkpoint_file = None\n",
    "train_model_flag = True\n",
    "\n",
    "word2vec = Word2Vec(logger, vocab_size, vector_dim, input_target, input_context,\n",
    "                    load_pretrained_weights, weights_file_name, train_model_flag, checkpoint_file)\n",
    "\n",
    "data, count, dictionary, reversed_dictionary = word2vec.build_dataset(words)"
   ]
  },
  {
   "cell_type": "code",
   "execution_count": 20,
   "id": "greenhouse-philosophy",
   "metadata": {},
   "outputs": [
    {
     "name": "stdout",
     "output_type": "stream",
     "text": [
      "10000\n",
      "146734432\n"
     ]
    }
   ],
   "source": [
    "print(len(dictionary))\n",
    "print(len(data))\n",
    "#count\n",
    "#reversed_dictionary\n",
    "#dictionary"
   ]
  },
  {
   "cell_type": "code",
   "execution_count": 21,
   "id": "604f7f82-cfd5-480a-9026-6545190caa3c",
   "metadata": {},
   "outputs": [
    {
     "data": {
      "text/plain": [
       "[67, 9, 4277, 191, 12]"
      ]
     },
     "execution_count": 21,
     "metadata": {},
     "output_type": "execute_result"
    }
   ],
   "source": [
    "data[:5]"
   ]
  },
  {
   "cell_type": "code",
   "execution_count": 22,
   "id": "88665654-c69b-4f09-a25c-0c4aa510c968",
   "metadata": {
    "collapsed": true,
    "jupyter": {
     "outputs_hidden": true
    },
    "tags": []
   },
   "outputs": [
    {
     "data": {
      "text/plain": [
       "dict_keys(['UNK', 'said', 'company', 'new', 'million', 'coronavirus', 'people', 'covid19', 'market', 'year', 'pandemic', 'health', 'time', 'financial', 'business', 'quarter', 'including', 'government', 'yous', 'net', 'like', 'information', 'world', 'sales', 'march', 'cases', 'global', 'virus', 'months', 'income', 'data', 'week', 'trump', 'group', 'results', 'billion', 'share', 'public', 'china', 'work', 'home', 'report', 'years', 'period', 'companies', 'state', 'number', 'future', 'impact', 'need', 'june', 'country', 'measures', 'operating', 'total', 'growth', 'economic', 'stock', 'day', 'according', 'going', 'help', 'services', 'use', 'mr', 'current', 'second', 'end', 'support', 'shares', 'inc', 'revenue', 'forwardlooking_statements', 'reported', 'table', 'management', 'crisis', 'risk', 'days', 'expected', 'demand', 'operations', 'statements', 'industry', 'ended', 'economy', 'capital', 'uk', 'april', 'research', 'increase', 'investors', 'told', 'way', 'loss', 'news', 'continue', 'think', 'markets', 'cash', 'customers', 'president', 'patients', 'month', 'products', 'vaccine', 'compared', 'says', 'outbreak', 'businesses', 'workers', 'percent', 'announced', 'costs', 'rate', 'development', 'available', 'working', 'care', 'stocks', 'weeks', 'interest', 'national', 'today', 'countries', 'related', 'potential', 'lockdown', 'earnings', 'spread', 'analysis', 'high', 'based', 'investment', 'performance', 'recent', 'following', 'result', 'added', 'likely', 'july', 'production', 'include', 'know', 'right', 'good', 'city', 'plans', 'medical', 'international', 'change', 'read', 'technology', 'employees', 'early', 'additional', 'travel', 'online', 'want', 'plan', 'york', 'able', 'service', 'times', 'united_states', 'increased', 'price', 'long', 'annual', 'come', 'monday', 'bank', 'provide', 'factors', 'local', 'team', 'statement', 'changes', 'set', 'tax', 'testing', 'higher', 'events', 'assets', 'meeting', 'best', 'states', 'place', 'product', 'tuesday', 'important', 'past', 'free', 'debt', 'key', 'major', 'thursday', 'wednesday', 'far', 'significant', 'restrictions', 'open', 'ability', 'look', 'friday', 'lower', 'europe', 'close', 'reporting', 'rates', 'december', 'cost', 'return', 'strong', 'food', 'earlier', 'officials', 'limited', 'response', 'average', 'money', 'general', 'conditions', 'seen', 'system', 'expenses', 'certain', 'season', 'start', 'value', 'de', 'better', 'deal', 'prices', 'half', 'family', 'deaths', 'given', 'adjusted', 'order', 'possible', 'date', 'disease', 'currently', 'staff', 'big', 'american', 'recovery', 'different', 'making', 'life', 'safety', 'small', 'access', 'found', 'positive', 'study', 'things', 'fiscal', 'federal', 'august', 'program', 'release', 'energy', 'university', 'hit', 'oil', 'risks', 'case', 'test', 'level', 'record', 'control', 'common', 'despite', 'trade', 'having', 'office', 'nearly', 'pay', 'nongaap', 'taking', 'children', 'members', 'believe', 'school', 'remain', 'live', 'continued', 'equity', 'latest', 'large', 'shareholders', 'september', 'treatment', 'community', 'chinese', 'jobs', 'leading', 'coming', 'revenues', 'lot', 'chief', 'symptoms', 'decision', 'low', 'social', 'confirmed', 'taken', 'levels', 'reports', 'security', 'terms', 'fell', 'called', 'european', 'later', 'point', 'conference', 'infections', 'february', 'rose', 'digital', 'hospital', 'largest', 'director', 'emergency', 'fund', 'expectations', 'trading', 'ceo', 'activities', 'daily', 'expect', 'retail', 'position', 'exchange', 'credit', 'line', 'power', 'closed', 'stay', 'project', 'process', 'face', 'situation', 'person', 'profit', 'prior', 'segment', 'experience', 'approximately', 'dr', 'policy', 'ahead', 'political', 'recently', 'board', 'press_release', 'expense', 'update', 'find', 'january', 'solutions', 'officer', 'contact', 'americans', 'offer', 'strategy', 'focus', 'gold', 'sector', 'loans', 'agreement', 'source', 'biden', 'social_distancing', 'looking', 'securities', 'addition', 'buy', 'activity', 'needs', 'systems', 'means', 'includes', 'comes', 'came', 'included', 'got', 'job', 'index', 'provided', 'forecast', 'stores', 'amid', 'platform', 'asked', 'great', 'areas', 'video', 'department', 'details', 'away', 'efforts', 'late', 'getting', 'private', 'longterm', 'website', 'previous', 'students', 'held', 'review', 'safe', 'customer', 'election', 'capacity', 'hours', 'basis', 'administration', 'senior', 'rules', 'outside', 'portfolio', 'equipment', 'media', 'healthcare', 'cut', 'black', 'loan', 'clear', 'type', 'saying', 'schools', 'air', 'similar', 'series', 'effective', 'america', 'eu', 'infection', 'ago', 'took', 'visit', 'decline', 'rise', 'lost', 'corporate', 'guidance', 'subject', 'india', 'australia', 'players', 'losses', 'action', 'spending', 'commercial', 'forward', 'estimates', 'received', 'act', 'tests', 'concerns', 'led', 'campaign', 'little', 'began', 'biggest', 'associated', 'phase', 'benefits', 'party', 'london', 'resources', 'lead', 'police', 'authorities', 'started', 'funds', 'issues', 'investments', 'left', 'especially', 'payments', 'ensure', 'hard', 'manufacturing', 'sunday', 'november', 'fall', 'canada', 'event', 'opportunities', 'offering', 'covid', 'play', 'protect', 'effect', 'points', 'wrote', 'needed', 'human', 'numbers', 'note', 'previously', 'analysts', 'environment', 'negative', 'leaders', 'consumer', 'corporation', 'difficult', 'quickly', 'paid', 'remains', 'communities', 'law', 'millions', 'experts', 'required', 'supply', 'sp', 'issued', 'known', 'example', 'continues', 'infected', 'effects', 'head', 'ongoing', 'nation', 'twitter', 'meet', 'reduce', 'unemployment', 'house', 'overall', 'items', 'risks_uncertainties', 'thousands', 'notes', 'official', 'feel', 'consolidated', 'foreign', 'growing', 'application', 'daily_express', 'target', 'showed', 'funding', 'center', 'course', 'facilities', 'prime_minister', 'summer', 'follow', 'use_historic', 'today_pages', 'order_issues', 'download_newspaper', 'newspaper_archive', 'october', 'issue', 'hold', 'england', 'benefit', 'let', 'italy', 'chief_executive', 'outlook', 'particularly', 'primarily', 'hospitals', 'decrease', 'firm', 'allow', 'normal', 'tested', 'historic', 'women', 'insurance', 'challenges', 'area', 'allowed', 'distribution', 'leave', 'measure', 'partners', 'view', 'soon', 'highest', 'trying', 'sure', 'caused', 'gaap', 'drug', 'region', 'editing', 'existing', 'critical', 'japan', 'germany', 'delivery', 'provides', 'list', 'france', 'fact', 'california', 'white_house', 'claims', 'dividend', 'form', 'run', 'longer', 'estimated', 'quarantine', 'death', 'network', 'liquidity', 'shows', 'hong_kong', 'commission', 'thing', 'actual_results', 'executive', 'projects', 'opportunity', 'lives', 'dollar', 'role', 'sign', 'instead', 'saw', 'britain', 'adjusted_ebitda', 'warned', 'reopen', 'margin', 'regulatory', 'agency', 'banks', 'providing', 'la', 'approach', 'consumers', 'cash_flow', 'british', 'believes', 'affected', 'model', 'property', 'vote', 'morning', 'real', 'term', 'uncertainty', 'reopening', 'went', 'governments', 'finance', 'expects', 'advice', 'game', 'brands', 'cnn', 'vaccines', 'final', 'released', 'focused', 'sale', 'receive', 'rights', 'worldwide', 'quarterly', 'press', 'trial', 'asset', 'content', 'create', 'died', 'night', 'rest', 'history', 'families', 'actions', 'saturday', 'groups', 'bill', 'published', 'building', 'clinical', 'payment', 'minister', 'space', 'organization', 'beginning', 'acquisition', 'virtual', 'fourth', 'hope', 'fans', 'recorded', 'johnson', 'reduced', 'ms', 'member', 'special', 'adding', 'bring', 'forwardlooking', 'moment', 'ways', 'programs', 'essential', 'questions', 'reach', 'masks', 'education', 'leader', 'population', 'increasing', 'pressure', 'personal', 'drop', 'account', 'range', 'trends', 'rising', 'games', 'homes', 'contract', 'stop', 'technologies', 'relief', 'facility', 'necessary', 'gain', 'strategic', 'announcement', 'quality', 'approved', 'residents', 'patient', 'young', 'near', 'independent', 'airlines', 'fight', 'hedge_fund', 'legal', 'makes', 'address', 'trust', 'figures', 'continuing', 'planned', 'nhs', 'taxes', 'described', 'washington', 'purchase', 'liabilities', 'clients', 'popular', 'short', 'forced', 'south', 'significantly', 'actually', 'develop', 'contained', 'assumptions', 'question', 'greater', 'reuters', 'main', 'teams', 'brand', 'committee', 'anticipated', 'cities', 'corp', 'complete', 'prevent', 'maintain', 'facebook', 'holdings', 'seven', 'store', 'amazon', 'orders', 'interview', 'eur', 'ebitda', 'options', 'parts', 'starting', 'nasdaq', 'try', 'fully', 'analyst', 'app', 'avoid', 'mean', 'aid', 'spain', 'living', 'worth', 'single', 'core', 'consider', 'estimate', 'water', 'developed', 'considered', 'marketing', 'infrastructure', 'watch', 'sold', 'seeing', 'secretary', 'gains', 'filed', 'kind', 'words', 'huge', 'fed', 'lack', 'stimulus', 'industrial', 'united', 'industries', 'canadian', 'transmission', 'initial', 'royal', 'story', 'software', 'chairman', 'apple', 'multiple', 'evidence', 'improve', 'construction', 'deliver', 'novel', 'surge', 'florida', 'decreased', 'restaurants', 'driven', 'base', 'respectively', 'understand', 'shift', 'court', 'idea', 'running', 'material', 'hand', 'congress', 'progress', 'requirements', 'financing', 'tested_positive', 'post', 'helped', 'weekend', 'survey', 'partner', 'differ_materially', 'begin', 'policies', 'build', 'respect', 'guidelines', 'man', 'david', 'selling', 'investor', 'circumstances', 'decisions', 'tech', 'domestic', 'car', 'thought', 'effort', 'step', 'closing', 'approval', 'direct', 'light', 'republican', 'shut', 'turn', 'studies', 'protection', 'north', 'identified', 'developing', 'age', 'worst', 'brought', 'sent', 'county', 'john', 'democrats', 'sports', 'email', 'success', 'reflect', 'stage', 'size', 'manager', 'hedge_funds', 'democratic', 'planning', 'reached', 'track', 'ltd', 'reduction', 'problem', 'raised', 'offers', 'sell', 'severe', 'cdc', 'contain', 'probably', 'unprecedented', 'parents', 'central', 'sources', 'excluding', 'club', 'firms', 'race', 'grow', 'noted', 'created', 'ready', 'users', 'operational', 'particular', 'condition', 'texas', 'white', 'developments', 'percentage', 'agreed', 'body', 'moving', 'science', 'reason', 'host', 'recession', 'bad', 'outstanding', 'unit', 'drive', 'holiday', 'calls', 'social_media', 'followed', 'beijing', 'impacted', 'facing', 'russia', 'holding', 'specific', 'room', 'competition', 'diluted', 'challenge', 'nature', 'worked', 'securities_exchange', 'amounts', 'vice_president', 'accounts', 'mask', 'mark', 'association', 'president_donald', 'flights', 'designed', 'scheduled', 'volume', 'talks', 'researchers', 'love', 'option', 'win', 'real_estate', 'concern', 'happen', 'c', 'extended', 'problems', 'lockdowns', 'launched', 'revealed', 'mobile', 'present', 'cent', 'tv', 'individuals', 'thousand', 'couple', 'check', 'voters', 'helping', 'transaction', 'potentially', 'book', 'individual', 'dropped', 'posted', 'primary', 'regional', 'places', 'friends', 'letter', 'star', 'units', 'keeping', 'vulnerable', 'shared', 'attributable', 'changed', 'cuts', 'q1', 'properties', 'article', 'fda', 'spend', 'declined', 'french', 'section', 'site', 'figure', 'impacts', 'offered', 'matter', 'timing', 'class', 'launch', 'completed', 'largely', 'slow', 'entire', 'decided', 'force', 'fees', 'speaking', 'leadership', 'scale', 'trillion', 'war', 'majority', 'successful', 'affect', 'warning', 'ratio', 'parties', 'threat', 'scientists', 'supplies', 'presentation', 'lines', 'advanced', 'shown', 'signs', 'training', 'mining', 'institute', 'phone', 'old', 'steps', 'highly', 'proposed', 'west', 'active', 'require', 'budget', 'asia', 'strategies', 'applications', 'positions', 'committed', 'australian', 'wanted', 'wall_street', 'returned', 'goods', 'futures', 'sense', 'boost', 'voting', 'expert', 'spent', 'manage', 'vs', 'exposure', 'society', 'temporary', 'professor', 'street', 'email_address', 'environmental', 'resulting', 'ministry', 'epidemic', 'generally', 'pm', 'league', 'michael', 'banking', 'combined', 'board_directors', 'cancer', 'sectors', 'operate', 'organizations', 'remained', 'exercise', 'balance', 'goal', 'mexico', 'miss', 'learn', 'union', 'moved', 'dollars', 'fears', 'message', 'involved', 'delivered', 'housing', 'partnership', 'sick', 'supply_chain', 'football', 'returns', 'showing', 'charges', 'giving', 'felt', 'flu', 'inside', 'played', 'employee', 'participants', 'euro', 'adjustments', 'wuhan', 'doctors', 'locations', 'opening', 'immediately', 'devices', 'fear', 'identify', 'comprehensive', 'governor', 'works', 'cents', 'internet', 'minutes', 'limit', 'underlying', 'retailers', 'tell', 'directly', 'fashion', 'increases', 'currency', 'shopping', 'buying', 'materials', 'military', 'relating', 'takes', 'highlights', 'exposed', 'protests', 'economies', 'chance', 'privacy_notice', 'remote', 'protection_rights', 'brazil', 'south_korea', 'sending_newsletters', 'defined', 'airline', 'google', 'senate', 'council', 'improved', 'competitive', 'provider', 'brexit', 'notice', 'en', 'expansion', 'physical', 'raise', 'boris_johnson', 'trend', 'ask', 'regulations', 'comments', 'attention', 'signed', 'contributed', 'presented', 'combination', 'field', 'contracts', 'globally', 'seek', 'initiatives', 'represents', 'periods', 'college', 'experienced', 'worse', 'gained', 'round', 'prepared', 'wants', 'co', 'sites', 'mortgage', 'standard', 'add', 'design', 'exploration', 'candidate', 'challenging', 'professional', 'labor', 'coverage', 'green', 'talk', 'transactions', 'plant', 'serve', 'transport', 'true', 'rule', 'treasury', 'healthy', 'scheme', 'child', 'communications', 'german', 'vs_vs', 'emerging', 'bonds', 'projected', 'meaning', 'priority', 'extra', 'turned', 'restaurant', 'cover', 'updated', 'registered', 'learning', 'expand', 'massive', 'rally', 'queen', 'solution', 'acquisitions', 'confidence', 'suggested', 'connection', 'citizens', 'plus', 'euros', 'movement', 'nations', 'fuel', 'clinical_trials', 'trials', 'rating', 'struggling', 'rapid', 'reasons', 'produce', 'commitment', 'break', 'heart', 'que', 'hopes', 'unable', 'cnbc', 'package', 'kids', 'sustainable', 'innovation', 'proceeds', 'africa', 'hotel', 'smaller', 'b', 'won', 'damage', 'looks', 'mainly', 'fresh', 'leaving', 'failure', 'e', 'putting', 'peak', 'park', 'deep', 'passed', 'seeking', 'usually', 'simply', 'roughly', 'singapore', 'traditional', 'centre', 'passengers', 'generation', 'matters', 'gone', 'road', 'playing', 'foundation', 'actual', 'advance', 'concerned', 'providers', 'dividends', 'ecommerce', 'border', 'urged', 'insights', 'forecasts', 'platforms', 'achieve', 'automotive', 'weekly', 'tools', 'considering', 'responsible', 'met', 'volumes', 'relationship', 'men', 'y', 'regular', 'explained', 'employment', 'bond', 'unaudited', 'directors', 'bringing', 'page', 'bbc', 'standards', 'regions', 'interim', 'secure', 'returning', 'rent', 'typically', 'monthly', 'charge', 'prospects', 'workforce', 'gave', 'calling', 'managed', 'legislation', 'allowing', 'central_bank', 'blood', 'weather', 'spreading', 'supporting', 'larger', 'film', 'writing', 'scientific', 'medicine', 'decades', 'nyse', 'finally', 'mental', 'andor', 'driving', 'suggests', 'scenario', 'availability', 'ground', 'q2', 'balance_sheet', 'drivers', 'easy', 'thanks', 'ii', 'volatility', 'accounting', 'uncertainties', 'write', 'plc', 'owners', 'save', 'death_toll', 'extent', 'offices', 'increasingly', 'cash_equivalents', 'entertainment', 'el', 'player', 'innovative', 'filings', 'fewer', 'james', 'republicans', 'outbreaks', 'slightly', 'targets', 'fire', 'unique', 'appropriate', 'strength', 'claim', 'basic', 'remaining', 'goals', 'claimed', 'applicable', 'apply', 'immediate', 'transition', 'internal', 'institutions', 'technical', 'bit', 'improvement', 'discuss', 'push', 'delay', 'goes', 'recover', 'killed', 'cash_flows', 'land', 'suppliers', 'built', 'north_america', 'appeared', 'authority', 'programme', 'music', 'shortterm', 'stated', 'discussed', 'federal_reserve', 'session', 'comment', 'climate', 'spokesman', 'decade', 'listed', 'restructuring', 'smart', 'provision', 'pace', 'personnel', 'division', 'understanding', 'alternative', 'gives', 'chain', 'cloud', 'red', 'older', 'shareholder', 'drugs', 'candidates', 'kept', 'yen', 'widespread', 'practice', 'inventory', 'son', 'yield', 'appears', 'doses', 'allows', 'treat', 'relatively', 'faced', 'wait', 'transfer', 'versus', 'uses', 'fauci', 'creating', 'nationwide', 'original', 'asking', 'diseases', 'vehicles', 'certainly', 'click', 'suspended', 'gross', 'transportation', 'ending', 'implemented', 'centers', 'flight', 'delays', 'ban', 'inflation', 'imposed', 'reality', 'schedule', 'successfully', 'labour', 'maybe', 'relevant', 'speed', 'western', 'vehicle', 'changing', 'join', 'established', 'resume', 'grew', 'middle_east', 'sentiment', 'hotels', 'mind', 'opened', 'fast', 'invest', 'rapidly', 'district', 'generated', 'talking', 'gas', 'acquired', 'operation', 'declared', 'initially', 'provisions', 'practices', 'conducted', 'woman', 'investing', 'pass', 'face_masks', 'spring', 'paul', 'advantage', 'thank', 'comparable', 'reducing', 'respond', 'employers', 'zoom', 'download', 'output', 'effectively', 'officers', 'briefing', 'assistance', 'worried', 'poll', 'thinking', 'send', 'opinion', 'savings', 'document', 'agencies', 'falling', 'updates', 'indicated', 'failed', 'mass', 'traffic', 'meant', 'happened', 'interests', 'wear', 'clearly', 'paper', 'pipeline', 'subsidiaries', 'agreements', 'responsibility', 'feeling', 'yes', 'hands', 'choice', 'los_angeles', 'communication', 'christmas', 'disruption', 'structure', 'advertising', 'models', 'intended', 'enable', 'extend', 'request', 'introduced', 'hide_caption', 'placed', 'linked', 'supported', 'isolation', 'lose', 'compliance', 'student', 'career', 'possibility', 'expressed', 'fixed', 'disney', 'share_breakdown', 'wave', 'wife', 'channel', 'illness', 'detailed', 'difference', 'gatherings', 'tourism', 'mother', 'solid', 'indian', 'monitoring', 'scotland', 'paying', 'profits', 'segments', 'doctor', 'pretty', 'historical', 'subsequent', 'pfizer', 'located', 'm', 'gets', 'produced', 'purchases', 'temporarily', 'pushed', 'completely', 'processing', 'executives', 'capabilities', 'amortization', 'pharmaceutical', 'gdp', 'pricing', 'broader', 'entered', 'involve', 'extremely', 'code', 'follows', 'collaboration', 'stand', 'cars', 'version', 'safely', 'reading', 'natural', 'laws', 'jumped', 'proposal', 'dow_jones', 'lawmakers', 'reliance', 'uncertain', 'households', 'spoke', 'middle', 'moves', 'deals', 'substantial', 'assessment', 'stories', 'widely', 'beat', 'mayor', 'delayed', 'lease', 'culture', 'confident', 'sarscov2', 'retirement', 'compensation', 'pursuant', 'proxy', 'tough', 'portion', 'unlikely', 'helps', 'youk', 'consistent', 'drilling', 'handling', 'complex', 'enter', 'filing', 'intelligence', 'defense', 'regulation', 'shops', 'closely', 'instagram', 'electric', 'picture', 'plants', 'status', 'household', 'gross_profit', 'speech', 'momentum', 'giant', 'spike', 'pain', 'east', 'cells', 'operates', 'deposits', 'appear', 'meetings', 'variety', 'fever', 'shot', 'joined', 'united_kingdom', 'separate', 'wrong', 'managers', 'offset', 'moderna', 'usual', 'closures', 'italian', 'investor_relations', 'justice', 'paris', 'principal', 'un', 'losing', 'ultimately', 'form_10k', 'quick', 'island', 'robust', 'poor', 'determine', 'disruptions', 'quarters', 'sharp', 'happy', 'colleagues', 'item', 'african', 'tried', 'airport', 'hundreds', 'die', 'debate', 'viral', 'wearing', 'professionals', 'netflix', 'zealand', 'ordinary', 'finding', 'attend', 'select', 'purposes', 'match', 'purpose', 'clubs', 'expanded', 'northern', 'organic', 'written', 'generate', 'waiting', 'accordance', 'r', 'bloomberg', 'reserves', 'specifically', 'recovered', 'clean', 'solely_responsible', 'rebound', 'represent', 'delivering', 'storage', 'receiving', 'negotiations', 'benchmark', 'ones', 'fair_value', 'eligible', 'useful', 'deferred', 'joint', 'mission', 'stake', 'shall', 'improving', 'suggest', 'conduct', 'tesla', 'second_wave', 'location', 'requires', 'premier_league', 'prepare', 'winter', 'alongside', 'ordered', 'seat', 'extension', 'stress', 'networks', 'los', 'pick', 'cancelled', 'contained_distributed', 'father', 'public_unedited', 'owner', 'hear', 'conservative', 'strict', 'double', 'happening', 'occur', 'visitors', 'representing', 'investigation', 'profitability', 'ease', 'evening', 'liability', 'reasonable', 'premium', 'outcomes', 'perspective', 'microsoft', 'user', 'stronger', 'peter', 'margins', 'pension', 'photos', 'discussion', 'faster', 'documents', 'treatments', 'knowledge', 'zero', 'adverse', 'yesterday', 'battle', 'granted', 'bid', 'wealth', 'expertise', 'materially', 'vital', 'dedicated', 'asian', 'shutdown', 'looked', 'predict', 'tour', 'lending', 'insight', 'carry', 'mix', 'shop', 'stable', 'deadline', 'streaming', 'king', 'obligations', 'parent', 'numerous', 'ai', 'cuomo', 'postponed', 'features', 'spot', 'relative', 'usa', 'owned', 'served', 'setting', 'resulted', 'believed', 'rely', 'ag', 'targeted', 'collection', 'recognized', 'completion', 'politics', 'sec', 'publicly', 'joe_biden', 'crucial', 'simple', 'additionally', 'presence', 'straight', 'grade', 'eventually', 'advisory', 'cell', 'manufacturers', 'faces', 'contacts', 'covered', 'television', 'achieved', 'views', 'discussions', 'hour', 'chris', 'factor', 'european_union', 'procedures', 'initiative', 'path', 'founder', 'residential', 'preliminary', 'applied', 'economists', 'husband', 'treated', 'heard', 'title', 'reconciliation', 'emerged', 'consequences', 'reopened', 'antibodies', 'managing', 'determined', 'broad', 'asiapacific', 'globe', 'liverpool', 'staying', 'tweeted', 'estimates_forecasts', 'view_source', 'russian', 'count', 'fair', 'aircraft', 'types', 'values', 'distance', 'teachers', 'importance', 'raising', 'concerning', 'afternoon', 'southern', 'therapeutics', 'bigger', 'guests', 'fee', 'robert', 'spokesperson', 'deadly', 'agree', 'natural_gas', 'attachments_disclaimer', 'speak', 'llc', 'restricted', 'maintenance', 'reflects', 'relations', 'respiratory', 'et', 'pushing', 's', 'downturn', 'link', 'admitted', 'watching', 'consumption', 'japanese', 'kate', 'relationships', 'flexibility', 'projections', 'enterprise', 'georgia', 'named', 'oil_gas', 'iran', 'lifted', 'climate_change', 'outcome', 'spaces', 'producers', 'luxury', 'duration', 'therapy', 'holders', 'participate', 'sport', 'rental', 'invested', 'analytics', 'town', 'intends', 'temperature', 'answer', 'barrel', 'holidays', 'accused', 'enduse', 'apart', 'crude', 'processes', 'lowest', 'journal', 'utc', 'reform_act', 'overseas', 'published_content', 'ministers', 'exactly', 'grant', 'calculated', 'worker', 'wellbeing', 'closure', 'clinical_trial', 'encouraged', 'securities_litigation', 'aware', 'retailer', 'inperson', 'absolutely', 'engineering', 'buyers', 'lenders', 'tier', 'impairment', 'sufficient', 'carried', 'frontline', 'unaltered', 'aimed', 'centers_disease', 'cleaning', 'michigan', 'webcast', 'ventilators', 'reflected', 'disclosure', 'blue', 'recommendations', 'listen', 'proud', 'andrew', 'control_prevention', 'parliament', 'tom', 'general_administrative', 'predicted', 'copper', 'extraordinary', 'capital_expenditures', 'implement', 'declines', 'sort', 'obviously', 'mitigate', 'smith', 'suffering', 'fighting', 'leverage', 'maker', 'profile', 'category', 'hearing', 'easing', 'monitor', 'fallen', 'registration', 'components', 'martin', 'surprise', 'yearoveryear', 'gap', 'statistics', 'suffered', 'sept', 'adviser', 'maintaining', 'evaluate', 'chicago', 'logistics', 'remember', 'rare', 'aim', 'noncash', 'stopped', 'donald_trump', 'decide', 'valuation', 'names', 'preparing', 'preferred', 'holds', 'sustainability', 'usd', 'necessarily', 'maximum', 'attempt', 'normally', 'device', 'impossible', 'connected', 'adoption', 'records', 'ship', 'cast', 'version_businesswirecom', 'elections', 'auto', 'accelerate', 'powerful', 'eastern', 'jersey', 'cutting', 'resolution', 'nonessential', 'adults', 'reserve', 'arizona', 'accept', 'affecting', 'sharing', 'miles', 'equivalent', 'classes', 'knew', 'refer', 'mail', 'dangerous', 'factory', 'silver', 'guarantee', 'subsidiary', 'gross_margin', 'encouraging', 'merger', 'ifrs', 'everybody', 'tokyo', 'richard', 'upcoming', 'happens', 'easily', 'ratings', 'fine', 'steel', 'borders', 'experiences', 'expanding', 'assess', 'willing', 'heading', 'arrangements', 'passenger', 'prime', 'scope', 'conversation', 'protocols', 'dow', 'entering', 'william', 'covering', 'serving', 'reference', 'closer', 'criticism', 'floor', 'encourage', 'stood', 'emissions', 'worry', 'presidential', 'search', 'advised', 'causes', 'welcome', 'stands', 'boeing', 'attack', 'se', 'choose', 'context', 'depreciation_amortization', 'tracking', 'feature', 'globe_newswire', 'experiencing', 'thomas', 'daughter', 'cannabis', 'contracted', 'telling', 'outdoor', 'weak', 'victory', 'doubt', 'channels', 'easier', 'victoria', 'heavily', 'accelerated', 'friend', 'apps', 'square', 'pointed', 'pounds', 'degree', 'remotely', 'sea', 'citing', 'owns', 'ap', 'shock', 'medicines', 'toll', 'adds', 'intend', 'turning', 'instance', 'combat', 'spanish', 'reportedly', 'begun', 'votes', 'cap', 'comparison', 'vision', 'attacks', 'hospitality', 'surged', 'o', 'qualified', 'violence', 'protesters', 'storm', 'brown', 'eps', 'ideas', 'convention', 'sought', 'mike', 'mentioned', 'restart', 'runs', 'partially_offset', 'articles', 'st', 'tool', 'eye', 'efficiency', 'operator', 'integrated', 'distributed', 'israel', 'meat', 'judge', 'opposition', 'ensuring', 'recommended', 'jump', 'tensions', 'touch', 'resource', 'anticipate', 'britons', 'younger', '5g', 'realized', 'exports', 'form_10q', 'wear_masks', 'direction', 'responded', 'flow', 'strategist', 'card', 'minimum', 'crew', 'false', 'register', 'feels', 'streets', 'supplemental', 'reflecting', 'governors', 'flat', 'entry', 'founded', 'wake', 'trip', 'litigation', 'representative', 'pleased', 'bought', 'mandatory', 'jones', 'findings', 'permanent', 'meaningful', 'kim', 'forces', 'producer', 'halt', 'hoping', 'express', 'engagement', 'dealing', 'voice', 'walk', 'viewers', 'canceled', 'gaming', 'protecting', 'behalf', 'subscription', 'del', 'driver', 'image', 'fifth', 'survive', 'infectious_disease', 'modern', 'animals', 'extensive', 'differences', 'animal', 'packaging', 'sharply', 'external', 'technavio', 'entirely', 'organisation', 'hurt', 'operators', 'fellow', 'deputy', 'backed', 'twice', 'door', 'landscape', 'consideration', 'integration', 'box', 'dose', 'starts', 'sees', 'johns_hopkins', 'industrial_average', 'samples', 'heavy', 'traders', 'acting', 'fit', 'skills', 'file', 'english', 'proven', 'securities_laws', 'art', 'sending', 'secured', 'san_francisco', 'contribution', 'suggesting', 'agents', 'reductions', 'forward_looking', 'gov', 'shoppers', 'lab', 'obtain', 'viruses', 'audience', 'perform', 'movie', 'promising', 'infectious_diseases', 'weight', 'strongly', 'component', 'unemployment_benefits', 'adopted', 'grants', 'radio', 'missed', 'window', 'supporters', 'deposit', 'agent', 'winning', 'era', 'disaster', 'lee', 'elderly', 'prove', 'climbed', 'struggle', 'abroad', 'antibody', 'fleet', 'latin_america', 'secondquarter', 'ireland', 'implementation', 'economist', 'south_africa', 'chair', 'enhanced', 'publication', 'basis_points', 'author', 'therapies', 'responses', 'announce', 'metrics', 'toronto', 'depend', 'urgent', 'd', 'buildings', 'anxiety', 'carrying', 'arrived', 'depending', 'factories', 'q3', 'commented', 'consensus', 'interested', 'connect', 'electronic', 'bills', 'finished', 'foods', 'possibly', 'agenda', 'knows', 'solar', 'socalled', 'economics', 'chelsea', 'calendar', 'privacy', 'regularly', 'zone', 'wish', 'wind', 'perfect', 'overnight', 'parks', 'waste', 'proprietary', 'expressed_implied', 'talent', 'influence', 'offerings', 'daniel', 'centres', 'lows', 'taiwan', 'authorization', 'harder', 'optimism', 'occurred', 'sa', 'block', 'laid', 'george', 'aviation', 'commitments', 'etf', 'yields', 'strain', 'youtube', 'graphic', 'panel', 'urban', 'issuance', 'universities', 'product_candidates', 'screen', 'newly', 'regulators', 'collapse', 'similar_expressions', 'opec', 'handle', 'territory', 'iii', 'demands', 'wider', 'awards', 'brings', 'laboratory', 'sides', 'zacks', 'emerge', 'traded', 'estimates_projections', 'virtually', 'enhance', 'dead', 'church', 'province', 'excited', 'steady', 'resilience', 'definitely', 'zacks_rank', 'astrazeneca', 'reaching', 'scott', 'cabinet', 'unlike', 'visits', 'stockholders', 'diverse', 'efficacy', 'contribute', 'ill', 'fluctuations', 'wages', 'drug_administration', 'unfortunately', 'engaged', 'revised', 'expensive', 'train', 'aggregate', 'walmart', 'summary', 'steve', 'optimistic', 'limits', 'metal', 'contact_tracing', 'borrowing', 'set_forth', 'tweet', 'adjustment', 'monetary', 'messages', 'percentage_points', 'creative', 'bankruptcy', 'pennsylvania', 'attractive', 'disclosed', 'guide', 'pharmaceuticals', 'missing', 'polls', 'excess', 'ftse', 'q4', 'familiar', 'beauty', 'aggressive', 'sun', 'ends', 'deliveries', 'language', 'ad', 'humans', 'episode', 'categories', 'assurance', 'surface', 'freedom', 'protest', 'discovery', 'forms', 'images', 'reliable', 'broadcast', 't', 'equal', 'rival', 'intensive_care', 'client', 'removed', 'told_reporters', 'saudi_arabia', 'repeatedly', 'pair', 'ownership', 'bars', 'tonnes', 'earned', 'fraud', 'learned', 'gradually', 'plenty', 'contains', 'risen', 'baby', 'aged', 'cup', 'historically', 'aims', 'reaction', 'causing', 'sitting', 'protective', 'watched', 'supply_chains', 'premier', 'banned', 'volunteers', 'electricity', 'meals', 'associates', 'cruise', 'argued', 'referred', 'obtained', 'van', 'prevention', 'contrast', 'senator', 'coal', 'accurate', 'guarantees', 'shortages', 'scottish', 'sweden', 'lift', 'cycle', 'payroll', 'payable', 'targeting', 'exclusive', 'exit', 'surrounding', 'eased', 'accordingly', 'affordable', 'charles', 'stephen', 'performed', 'concluded', 'draw', 'required_law', 'charity', 'joe', 'screening', 'hygiene', 'thirdparty', 'demonstrated', 'tend', 'tenants', 'seriously', 'adapt', 'strengthen', 'las', 'difficulties', 'democrat', 'gathering', 'immune', 'retain', 'hancock', 'declining', 'h1', 'extreme', 'score', 'focusing', 'selected', 'replay', 'agm', 'prompted', 'efficient', 'v', 'incurred', 'checks', 'respective', 'dan', 'firstquarter', 'controls', 'evaluating', 'originally', 'obama', 'workplace', 'struck', 'roles', 'ohio', 'unclear', 'immunity', 'sky', 'producing', 'limitations', 'deemed', 'dates', 'blow', 'improvements', 'expecting', 'stakeholders', 'standing', 'precautions', 'therapeutic', 'elected', 'methods', 'flexible', 'settlement', 'salary', 'cold', 'politicians', 'edge', 'purchased', 'supreme_court', 'carefully', 'caught', 'discount', 'breaking', 'newsletter', 'journey', 'sound', 'resilient', 'guardian', 'bar', 'books', 'photo', 'remarks', 'rooms', 'voted', 'currencies', 'inventories', 'lots', 'vendors', 'leads', 'ppe', 'boss', 'hot', 'prison', 'powell', 'videos', 'priorities', 'station', 'ford', 'marked', 'amounted', 'carbon', 'productivity', 'method', 'duty', 'shortly', 'carrier', 'diversity', 'alliance', 'wearing_masks', 'export', 'prospect', 'requiring', 'maintained', 'manner', 'shanghai', 'objectives', 'consecutive', 'films', 'license', 'tackle', 'pound', 'powers', 'engage', 'readers', 'frequently', 'insisted', 'joining', 'suspension', 'chronic', 'constant', 'bear', 'n', 'worries', 'startup', 'al', 'hiring', 'severity', 'affairs', 'effectiveness', 'advisors', 'dozens', 'ads', 'struggled', 'fill', 'hair', 'favorable', 'tables', 'leases', 'editor', 'positioned', 'persons', 'eyes', 'substantially', 'differ', 'feet', 'cancel', 'explain', 'mps', 'acquire', 'shipping', 'deeply', 'depreciation', 'reviewed', 'sen', 'framework', 'slowdown', 'dated', 'bubble', 'authorized', 'institutional', 'finish', 'arm', 'corresponding', 'indoor', 'eat', 'airports', 'word', 'totaled', 'enjoy', 'yoy', 'tourists', 'pacific', 'bullish', 'informed', 'color', 'supports', 'williams', 'cooperation', 'farmers', 'beach', 'appeal', 'greatest', 'highlighted', 'award', 'rolling', 'partnerships', 'kevin', 'machines', 'instruments', 'panic', 'biotech', 'nba', 'spokeswoman', 'entities', 'afford', 'split', 'represented', 'row', 'contraction', 'peers', 'remdesivir', 'contributions', 'grown', 'ben', 'telephone', 'wedding', 'tournament', 'divided', 'stability', 'universal', 'para', 'criteria', 'announcing', 'arsenal', 'campus', 'devastating', 'truly', 'diagnosed', 'valuable', 'marks', 'camp', 'equities', 'replace', 'houston', 'yuan', 'inability', 'piece', 'stuck', 'comply', 'commissioner', 'slowly', 'venues', 'gmt', 'contains_forwardlooking', 'promote', 'doors', 'little_bit', 'thinks', 'sustained', 'x', 'travelers', 'boston', 'regardless', 'le', 'actively', 'function', 'mixed', 'shape', 'sit', 'argentina', 'foreign_currency', 'travellers', 'threats', 'garden', 'competitors', 'cares_act', 'requests', 'promised', 'profitable', 'wholesale', 'plastic', 'assist', 'army', 'matches', 'task_force', 'caution', 'absence', 'realize', 'arrival', 'strike', 'borrowings', 'simon', 'appointed', 'nfl', 'accounted', 'submitted', 'enterprises', 'behavior', 'visiting', 'layoffs', 'roll', 'serves', 'constitute', 'refused', 'heat', 'dozen', 'detail', 'unexpected', 'minority', 'transformation', 'supposed', 'ebit', 'wide', 'flying', 'shutdowns', 'immigration', 'facts', 'bodies', 'north_carolina', 'secondary', 'midmarch', 'safe_harbor', 'implications', 'crash', 'delhi', 'bloc', 'harry', 'specialty', 'creation', 'headquartered', 'vaccination', 'ounce', 'borrowers', 'fan', 'indonesia', 'signing', 'plays', 'j', 'feed', 'participation', 'counties', 'carriers', 'hitting', 'max', 'denied', 'collective', 'tomorrow', 'tiktok', 'stockbased_compensation', 'harris', 'pretax', 'treating', 'amended', 'newspaper', 'lake', 'listing', 'earth', 'port', 'netherlands', 'alex', 'navigate', 'promise', 'wisconsin', 'signal', 'involving', 'yearonyear', 'permitted', 'taylor', 'performance_achievements', 'notably', 'sars', 'nice', 'explains', 'covers', 'populations', 'tel', 'act_amended', 'injury', 'overview', 'congressional', 'weighted_average', 'super', 'anticipates', 'lewis', 'cautious', 'proposals', 'photos_novel', 'limiting', 'acknowledged', 'racial', 'remove', 'brian', 'poverty', 'tim', 'broke', 'crude_oil', 'emotional', 'turkey', 'coach', 'cited', 'quarantined', 'execution', 'controlled', 'computer', 'immune_system', 'unknown', 'uber', 'shortage', 'winner', 'condensed_consolidated', 'cope', 'titled', 'hospitalized', 'addressed', 'backlog', 'stars', 'mortality', 'unusual', 'annually', 'tied', 'truth', 'hoped', 'amendment', 'independence', 'tally', 'imagine', 'skin', 'tips', 'resurgence', 'civil', 'confirm', 'brussels', 'ruling', 'selfisolate', 'fitness', 'tells', 'text', 'adequate', 'partly', 'moody', 'conversion', 'sample', 'rights_reserved', 'collected', 'automation', 'oxygen', 'responding', 'beds', 'seats', 'recognition', 'puts', 'entitled', 'harm', 'stations', 'respondents', 'exceptional', 'introduction', 'personal_protective', 'racism', 'metals', 'indexes', 'interesting', 'alert', 'establish', 'chapter', 'critics', 'exclude', 'deficit', 'dramatic', 'rd', 'managing_director', 'rivals', 'measured', 'nasdaq_composite', 'racing', 'observed', 'similarly', 'timely', 'extending', 'birthday', 'indicators', 'coalition', 'consulting', 'reform', 'doubled', 'plunged', 'coast', 'requirement', 'implementing', 'intellectual_property', 'coffee', 'pull', 'farm', 'fun', 'excludes', 'fail', 'nuclear', 'rural', 'tariffs', 'spirit', 'relate', 'busy', 'catch', 'diagnostics', 'dramatically', 'hill', 'una', 'table_contents', 'jack', 'brazilian', 'manufacture', 'venture', 'pulled', 'drawn', 'labs', 'press_releases', 'nurses', 'stream', 'sessions', 'champion', 'scenarios', 'pending', 'transparency', 'collectively', 'preparation', 'enables', 'chances', 'advisor', 'suffer', 'governmental', 'stadium', 'ball', 'awareness', 'grand', 'studio', 'shipments', 'diagnosis', 'survival', 'utility', 'born', 'podcast', 'begins', 'nick', 'commodity', 'presents', 'renewed', 'alcohol', 'summit', 'disposal', 'finances', 'supplier', 'victims', 'fatalities', 'ice', 'referring', 'americas', 'addressing', 'ran', 'miller', 'protein', 'ffo', 'dying', 'cofounder', 'charged', 'agriculture', 'conversations', 'adult', 'arriving', 'accepted', 'sleep', 'imports', 'cards', 'unchanged', 'brain', 'marketplace', 'atlanta', 'intangible_assets', 'essentially', 'golf', 'spreads', 'asymptomatic', 'pool', 'century', 'crowds', 'petroleum', 'representatives', 'announces', 'pharma', 'directed', 'burden', 'incredibly', 'warrants', 'cultural', 'advisers', 'recognize', 'headquarters', 'chemical', 'slowing', 'fortune', 'falls', 'arrive', 'insider_monkey', 'danger', 'princess', 'manufacturer', 'melbourne', 'sunak', 'incorporated', 'pursue', 'crowd', 'instructions', 'greece', 'interviews', 'pause', 'employer', 'ipo', 'legacy', 'limitation', 'sanders', 'sydney', 'attended', 'place_undue', 'mobility', 'comfortable', 'appointment', 'championship', 'fly', 'sets', 'officially', 'conferences', 'enabling', 'earn', 'volatile', 'containing', 'academic', 'crises', 'picks', 'salaries', 'relation', 'temperatures', 'employed', 'clothing', 'pence', 'fox', 'ballots', 'trouble', 'recovering', 'crime', 'moments', 'secret', 'indicate', 'rich', 'proved', 'sir', 'bridge', 'hub', 'seasons', 'co_ltd', 'protected', 'ma', 'emirates', 'basic_diluted', 'islands', 'bookings', 'nonprofit', 'performing', 'deeper', 'dark', 'brother', 'stuff', 'switch', 'allies', 'adjust', 'resort', 'explore', 'dependent', 'travelling', 'hall', 'viewed', 'ok', 'attending', 'furlough', 'isolated', 'thailand', 'walking', 'incredible', 'evaluation', 'influenza', 'display', 'miami', 'subscribers', 'barcelona', 'joint_venture', 'itv', 'execute', 'failing', 'threatened', 'sudden', 'actor', 'houses', 'hits', 'reveal', 'slowed', 'claiming', 'obligation', 'chancellor', 'pro', 'web', 'manchester', 'regard', 'financing_activities', 'drill', 'aerospace', 'allocation', 'acute', 'understood', 'urging', 'amazing', 'speak_date', 'deployed', 'diagnostic', 'mcconnell', 'indication', 'ryan', 'specialist', 'technological', 'depends', 'dry', 'picked', 'impose', 'camera', 'rolled', 'suddenly', 'goldman_sachs', 'comfort', 'seasonal', 'leaves', 'excluded', 'shifts', 'cagr', 'vietnam', 'view_original', 'valued', 'noting', 'structural', 'reveals', 'nearby', 'broadly', 'rescue', 'matt', 'containment', 'reelection', 'stressed', 'routine', 'religious', 'proper', 'con', 'nursing', 'trades', 'acceptance', 'fundamental', 'grocery', 'eric', 'accelerating', 'hydroxychloroquine', 'underway', 'machine', 'kelly', 'saving', 'visited', 'infectious', 'contracting', 'hopefully', 'incident', 'regioncountry_table', 'di', 'iv', 'hole', 'milestone', 'purchasing', 'proportion', 'offshore', 'background', 'organisations', 'studied', 'face_coverings', 'continuity', 'rejected', 'inherent', 'submit', 'sarah', 'preventing', 'unions', 'stepped', 'eating', 'compete', 'upside', 'defence', 'packages', 'occupancy', 'slipped', 'mandate', 'vary', 'polling', 'participating', 'fullyear', 'bed', 'stem', 'republic', 'l', 'rock', 'convertible', 'funded', 'furloughed', 'historical_facts', 'thereof', 'pledged', 'planet', 'collect', 'assume', 'properly', 'democracy', 'campaigns', 'slump', 'accessible', 'seattle', 'opinions', 'gop', 'aspects', 'metres', 'lifting', 'appendix', 'prominent', 'voluntary', 'typical', 'plane', 'dynamic', 'suspend', 'chf', 'passing', 'broken', 'massachusetts', 'somewhat', 'shifted', 'weakness', 'laboratories', 'discovered', 'posts', 'recurring', 'segmentation', 'chains', 'attempts', 'requested', 'seeks', 'nevada', 'pictures', 'evolving', 'halted', 'diversified', 'journalists', 'weaker', 'inclusion', 'festival', 'hospitalizations', 'nearterm', 'unemployed', 'oral', 'utilities', 'cheap', 'surgery', 'startups', 'portfolios', 'li', 'style', 'celebrate', 'boosted', 'reporters', 'furthermore', 'ride', 'surveillance', 'lung', 'cancellation', 'trips', 'departments', 'billions', 'leisure', 'ecb', 'brief', 'objective', 'investing_activities', 'jim', 'interaction', 'patterns', 'nurse', 'links', 'resumed', 'handful', 'financially', 'des', 'obvious', 'f', 'variations', 'surveyed', 'stimulus_package', 'por', 'lawsuit', 'sister', 'pakistan', 'suspected', 'interactive', 'consolidation', 'bell', 'prospectus', 'prince', 'george_floyd', 'reverse', 'presidential_election', 'usage', 'assembly', 'guy', 'river', 'warnings', 'motor', 'demonstrate', 'complicated', 'operated', 'substitute', 'length', 'draft', 'accompanying', 'default', 'qualify', 'apartment', 'chaos', 'likes', 'careful', 'faith', 'soared', 'situations', 'remuneration', 'preserve', 'stayed', 'switzerland', 'identity', 'sanctions', 'advancing', 'bus', 'ticket', 'destinations', 'realtime', 'triggered', 'facilitate', 'administrative', 'electronics', 'wear_mask', 'yearago', 'forcing', 'followers', 'character', 'launching', 'criticized', 'donations', 'swiss', 'appearance', 'killing', 'g', 'basically', 'audio', 'slide', 'annualized', 'percentage_breakdown', 'allowance', 'downing_street', 'writes', 'episodes', 'stayathome', 'knowing', 'artists', 'virginia', 'regioncountry', 'consistently', 'database', 'talked', 'russell', 'wall', 'approaches', 'formal', 'marine', 'ecosystem', 'races', 'athletes', 'predictions', 'planes', 'moderate', 'etc', 'locked', 'drew', 'elements', 'academy', 'concept', 'introduce', 'wild', 'entity', 'replacement', 'behaviour', 'definition', 'crowded', 'movies', 'arrested', 'ballot', 'wage', 'lender', 'attributed', 'god', 'sparked', 'incentive', 'diabetes', 'rs_crore', 'heads', 'exhibit', 'touching_face', 'surging', 'procurement', 'prolonged', 'balances', 'alternatives', 'highs', 'approve', 'bps', 'impressive', 'revolving_credit', 'attorney', 'subscribe', 'recommendation', 'blame', 'highquality', 'approvals', 'continuous', 'favorite', 'route', 'pandemics', 'geographic', 'sensitive', 'engine', 'favor', 'conducting', 'declined_comment', 'abuse', 'misinformation', 'fx', 'surprised', 'format', 'enforcement', 'foot', 'debut', 'opposed', 'settings', 'replaced', 'physician', 'involves', 'accuracy', 'commerce', 'corporations', 'kill', 'franchise', 'governance', 'dog', 'hosted', 'female', 'cough', 'calculation', 'map', 'bengaluru_editing', 'undertakes_obligation', 'developers', 'mineral', 'ramp', 'cfo', 'chart', 'excellent', 'illegal', 'loved_ones', 'married', 'overwhelmed', 'overcome', 'belief', 'adopt', 'desire', 'upper', 'central_banks', 'inflammation', 'reporter', 'curve', 'indicates', 'attendance', 'arts', 'exist', 'activists', 'letters', 'keen', 'contractors', 'warns', 'mexican', 'squad', 'famous', 'ab', 'battery', 'superior', 'announcements', 'northern_ireland', 'modest', 'enormous', 'grateful', 'cure', 'experimental', 'jr', 'winners', 'alexander', 'mainland_china', 'bureau', 'dynamics', 'rush', 'severely', 'chemicals', 'ceremony', 'md', 'turns', 'colorado', 'exciting', 'footprint', 'insurers', 'safer', 'memory', 'esg', 'bet', 'reputation', 'pubs', 'minnesota', 'warehouse', 'intense', 'allocated', 'task', 'thoughts', 'remainder', 'filled', 'indoors', 'labor_department', 'partial', 'ties', 'resistance', 'expectation', 'cautioned', 'enforce', 'wins', 'theaters', 'attached', 'writer', 'truck', 'detection', 'malaysia', 'apparel', 'arising', 'liquid', 'pilot', 'lived', 'youth', 'desperate', 'resorts', 'guaranteed', 'vast', 'correct', 'tens_thousands', 'physicians', 'iphone', 'midst', 'pressures', 'swift', 'peace', 'genetic', 'unveiled', 'manchester_united', 'gm', 'variable', 'criminal', 'gather', 'apparent', 'affiliates', 'gloves', 'fairly', 'threemonth', 'protections', 'deployment', 'san', 'examples', 'accessed', 'dining', 'disrupted', 'dream', 'p', 'presidency', 'progressive', 'complications', 'ontario', 'barrels', 'rallied', 'breathing', 'milan', 'supplement', 'checking', 'makers', 'bulk', 'allegations', 'gains_losses', 'movements', 'teaching', 'educational', 'recording', 'partially', 'illinois', 'outlined', 'messaging', 'headache', 'medium', 'visa', 'lessons', 'distribute', 'ultimate', 'stages', 'resident', 'releases', 'magazine', 'impacting', 'required_applicable', 'replied', 'strictly', 'guys', 'wales', 'poland', 'intention', 'song', 'helpful', 'zacks_consensus', 'hurricane', 'royalty', 'rollout', 'hardware', 'betting', 'define', 'argue', 'jonathan', 'mode', 'protocol', 'adam', 'supermarkets', 'pm_et', 'isolate', 'scene', 'recommend', 'copy', 'harvard', 'conflict', 'inspired', 'advances', 'odds', 'continent', 'guard', 'lies', 'consent', 'institution', 'les', 'tickets', 'wireless', 'generating', 'receivables', 'lives_matter', 'importantly', 'stayathome_orders', 'enrollment', 'sek', 'yahoo_finance', 'supermarket', 'cargo', 'oh', 'contributing', 'clarity', 'alleged', 'settled', 'traveling', 'edition', 'description', 'welfare', 'oxford', 'kitchen', 'madrid', 'trusted', 'carnival', 'principles', 'minute', 'pelosi', 'results_differ', 'biotechnology', 'commentary', 'capture', 'hundreds_thousands', 'repurchase', 'ny', 'bounce', 'elevated', 'short_term', 'sizes', 'sustain', 'uptick', 'initiated', 'exceed', 'breaks', 'cross', 'corona', 'consists', 'fox_news', 'refund', 'prnewswire', 'fix', 'belgium', 'websites', 'patent', 'cybersecurity', 'freight', 'administered', 'shifting', 'premiums', 'boris', 'headed', 'assuming', 'valuations', 'highlight', 'wire', 'golden', 'lawyer', 'beating', 'pneumonia', 'branch', 'permanently', 'gender', 'gyms', 'guest', 'designated', 'awarded', 'sellers', 'glass', 'subsequently', 'plunge', 'bright', 'mp', 'theater', 'suite', 'hopeful', 'vice', 'tennis', 'christian', 'rs', 'veteran', 'hire', 'jason', 'headlines', 'manhattan', 'answers', 'trucks', 'delta', 'indications', 'witnessed', 'facebook_twitter', 'fires', 'conclusion', 'credit_facility', 'fields', 'expenditures', 'slower', 'selection', 'selloff', 'oncology', 'philadelphia', 'titles', 'gilead', 'hybrid', 'scrutiny', 'indicator', 'semiconductor', 'priced', 'absolute', 'creates', 'timeline', 'portugal', 'formed', 'whilst', 'separately', 'tonight', 'flagship', 'differently', 'theory', 'tight', 'huawei', 'teacher', 'controlling', 'departure', 'beaches', 'commodities', 'surpassed', 'hiv', 'fintech', 'anniversary', 'beautiful', 'commission_sec', 'nursing_homes', 'hosts', 'stone', 'mas', 'median', 'identifying', 'applying', 'gradual', 'onetime', 'sam', 'stick', 'ppp', 'compare', 'surprising', 'ingredients', 'choices', 'budgets', 'monetary_policy', 'abc', 'aside', 'capable', 'exceeded', 'wonder', 'schemes', 'undertake_obligation', 'detected', 'patrick', 'intervention', 'courts', 'largescale', 'vast_majority', 'goodwill', 'mcdonald', 'studios', 'arrangement', 'authors', 'drama', 'atlantic', 'breakthrough', 'depression', 'featured', 'mountain', 'loved', 'fy', 'shooting', 'bolsonaro', 'dr_anthony', 'controversial', 'tony', 'louisiana', 'acts', 'incremental', 'memorial', 'jurisdictions', 'weighed', 'drove', 'berlin', 'grades', 'law_enforcement', 'filming', 'ore', 'bonus', 'sex', 'rail', 'virgin', 'reit', 'achieving', 'keeps', 'dropping', 'notable', 'distributions', 'nigeria', 'cook', 'demanding', 'joseph', 'donated', 'form_8k', 'welcomed', 'pointing', 'tracks', 'united_arab', 'agricultural', 'senators', 'enabled', 'outlets', 'totally', 'praised', 'navy', 'nbc', 'refinitiv', 'destination', 'relying', 'wells', 'tons', 'floyd', 'stance', 'property_plant', 'twothirds', 'denmark', 'resolve', 'fulltime', 'article_originally', 'trigger', 'village', 'saved', 'interactions', 'duke', 'murphy', 'fishing', 'ships', 'gaining', 'ranging', 'kentucky', 'earning', 'licensed', 'pet', 'performances', 'gulf', 'packed', 'constantly', 'symbol', 'lawyers', 'detect', 'hollywood', 'gift', 'mistake', 'bags', 'kinds', 'processed', 'champions_league', 'posting', 'lay', 'philippines', 'certified', 'assumed', 'las_vegas', 'difficulty', 'duties', 'tsx', 'tremendous', 'questioned', 'discussion_analysis', 'bp', 'permission', 'shots', 'solve', 'oregon', 'dna', 'mechanism', 'physically', 'regulatory_approval', 'ventures', 'bay', 'liberal', 'smartphone', 'confusion', 'leveraging', 'syndrome', 'solidarity', 'proceedings', 'alphabet', 'gathered', 'booking', 'nose', 'attract', 'posed', 'repayment', 'policymakers', 'formula', 'pickup', 'andy', 'mrna', 'oklahoma', 'derivatives', 'environments', 'steep', 'vessels', 'de_blasio', 'minimize', 'legislative', 'structures', 'trajectory', 'journalist', 'drawing', 'towns', 'disappointed', 'corner', 'defeat', 'fy20', 'mild', 'considerable', 'calm', 'dance', 'permits', 'cambridge', 'laws_regulations', 'prospective', 'spoken', 'washington_dc', 'routes', 'yeah', 'publishing', 'frequent', 'benefited', 'bitcoin', 'shutting', 'clinics', 'considers', 'bpd', 'visibility', 'windows', 'girls', 'crown', 'booked', 'species', 'forget', 'chief_economist', 'barrels_day', 'internationally', 'chosen', 'jeff', 'moscow', 'lifestyle', 'proteins', 'personally', 'sixth', 'es', 'schedules', 'cumulative', 'museum', 'valley', 'pieces', 'da', 'programming', 'afraid', 'shortness_breath', 'h', 'depth', 'solely', 'covenants', 'sum', 'eliminate', 'wide_range', 'focuses', 'sells', 'retired', 'relied', 'translation', 'installed', 'morgan', 'likelihood', 'war_ii', 'exception', 'iowa', 'ruled', 'complaints', 'balance_sheets', 'brent_crude', 'diamond', 'courses', 'regioncountry_vs', 'chip', 'repeated', 'charlotte', 'beliefs', 'norway', 'membership', 'inclusive', 'cluster', 'sporting', 'ventilator', 'fired', 'chat', 'delivers', 'testing_kits', 'quiet', 'satisfaction', 'immune_response', 'birth', 'fallout', 'terrible', 'breakdown', 'outdoors', 'mines', 'selfisolation', 'filed_sec', 'easter', 'sorry', 'avoiding', 'lungs', 'relaxed', 'heightened', 'macron', 'programmes', 'lady', 'innovations', 'waters', 'functions', 'gauge', 'renewable_energy', 'mention', 'badly', 'suit', 'shuttered', 'audit', 'assessing', 'settle', 'pattern', 'south_carolina', 'thermal', 'plasma', 'horizon', 'prompting', 'investigations', 'convenience', 'wearing_mask', 'dire', 'donation', 'connectivity', 'popularity', 'surveys', 'audiences', 'nonifrs', 'north_korea', 'soccer', 'issuing', 'rises', 'landlords', 'scored', 'curb', 'assistant', 'regulator', 'zones', 'wore', 'acid', 'spectrum', 'southwest', 'poised', 'alibaba', 'foregoing', 'inequality', 'minor', 'autumn', 'prioryear', 'yeartodate', 'scores', 'label', 'actors', 'worrying', 'accommodation', 'topped', 'neighborhood', 'bob', 'casino', 'load', 'cbs', 'cheaper', 'connections', 'exploring', 'meaning_private', 'invited', 'touching_contaminated', 'detroit', 'broadband', 'competing', 'nationals', 'mar', 'putin', 'hand_sanitizer', 'nomination', 'coronavirusrelated', 'anger', 'dallas', 'reviews', 'paycheck_protection', 'asia_pacific', 'outperformed', 'free_sample', 'inform', 'somebody', 'scientist', 'morgan_stanley', 'comprised', 'incentives', 'regulated', 'barriers', 'strengthening', 'appetite', 'soft', 'favourite', 'wine', 'update_revise', 'lucky', 'pharmacy', 'molecular', 'native', 'derived', 'communicate', 'voter', 'expresscouk', 'directly_comparable', 'ratios', 'cancellations', 'promoting', 'spa', 'singer', 'licensing', 'error', 'threshold', 'gotten', 'undertake', 'climb', '10year', 'hosting', 'presenter', 'pledge', 'surgical', 'affects', 'kit', 'donate', 'wellness', 'band', 'constant_currency', 'automated', 'ticker', 'prof', 'postpone', 'wildlife', 'ebola', 'warrant', 'ideal', 'gross_domestic', 'appreciate', 'intent', 'rep', 'sweeping', 'placebo', 'sharebased_compensation', 'gasoline', 'statutory', 'matthew', 'charter', 'urge', 'transmitted', 'integrity', 'brooklyn', 'disclosures', 'circular', 'argument', 'termination', 'scenes', 'discussing', 'dial', 'practical', 'injection', 'turnaround', 'speculation', 'print', 'instruction', 'indigenous', 'broker', 'backing', 'snp', 'literally', 'cruises', 'olympic', 'leicester', 'release_contains', 'stringent', 'trained', 'selfemployed', 'austria', 'medicare', 'prepared_accordance', 'lng', 'brothers', 'classified', 'opposite', 'featuring', 'nv', 'physical_distancing', 'signals', 'accounting_principles', 'habits', 'caption', 'arms', 'everyday', 'laura', 'originated', 'artificial_intelligence', 'downside', 'na', 'factset', 'representation', 'placing', 'maryland', 'stakes', 'fines', 'curfew', 'jeremy', 'giants', 'attorney_general', 'warn', 'sounds', 'pitch', 'equally', 'soap', 'cable', 'discounts', 'sad', 'maria', 'comparisons', 'latin_american', 'ocean', 'vaccinated', 'indebtedness', 'magnitude', 'jordan', 'biontech', 'longerterm', 'oversight', 'picking', 'ordering', 'trailing', 'exists', 'lasting', 'jurisdiction', 'transit', 'wilson', 'declaration', 'locally', 'inbox', 'counter', 'seoul', 'guess', 'dutch', 'sanofi', 'repair', 'frank', 'heroes', 'sterling', 'highrisk', 'interventions', 'apparently', 'baker', 'staffing', 'criticised', 'regulatory_approvals', 'risky', 'ambitious', 'captain', 'autonomous', 'electrical', 'migrants', '1st', 'icu', 'cinemas', 'strongest', 'save_lives', 'inquiry', 'predicts', 'inevitable', 'news_publishing', 'clinic', 'ages', 'assessments', 'jun', 'weigh', 'swing', 'mainland', 'underground', 'minneapolis', 'wells_fargo', 'threatening', 'source_enp', 'morrison', 'drink', 'confirmation', 'c_electronic', 'newsom', 'delaware', 'enjoyed', 'tumbled', 'describe', 'sexual', 'longtime', 'chose', 'finds', 'fundraising', 'shadow', 'violent', 'tone', 'topic', 'footage', 'territories', 'counted', 'relief_package', 'deferred_tax', 'police_brutality', 'venue', 'capability', 'charities', 'hunt', 'emergencies', 'rice', 'cameras', 'master', 'leasing', 'receipt', 'mounting', 'intentions', 'biopharmaceutical', 'jets', 'failures', 'dad', 'pages', 'nike', 'classic', 'childcare', 'sba', 'pupils', 'att', 'baseball', 'dogs', 'exchanges', 'merchandise', 'derivative', 'disclaimer', 'subjects', 'tiny', 'transform', 'discontinued_operations', 'austin', 'ie', 'eager', 'regime', 'honest', 'irish', 'pivotal', 'federation', 'dancing', 'downward', 'rugby', 'jackson', 'palace', 'preclinical', 'relatives', 'homeless', 'philip', 'accrued', 'colleges', 'linkedin', 'speaks', 'minimal', 'alabama', 'nasa', 'totaling', 'turnover', 'raw_materials', 'washing_hands', 'anybody', 'ranked', 'indicating', 'edward', 'veterans', 'airbus', 'misleading', 'sore_throat', 'dispute', 'epicenter', 'contacted', 'sensors', 'treasury_secretary', 'mary', 'engaging', 'calculations_showed', 'boxes', 'till', 'folks', 'meal', 'reforms', 'memo', 'screens', 'boosting', 'generations', 'struggles', 'dependence', 'coupled', 'recommends', 'stretch', 'favour', 'sections', 'hamilton', 'statewide', 'amendments', 'developer', 'connecticut', 'tweets', 'acted', 'wood', 'nsw', 'mnuchin', 'theatre', 'forest', 'viable', 'metropolitan', 'lease_liabilities', 'historical_fact', 'snap', 'competitor', 'avenue', 'acceptable', 'roads', 'mall', 'mitigation', 'known_unknown', 'monkey', 'forever', 'proof', 'hate', 'macroeconomic', 'walker', 'applies', 'degrees', 'christopher', 'lock', 'cohen', 'aides', 'creditors', 'develops', 'associate', 'upgrade', 'breach', 'tourist', 'complaint', 'branded', 'overwhelming', 'groceries', 'postal_service', 'listening', 'arguing', 'man_utd', 'imported', 'escape', 'celebrity', 'analyze', '2q20', 'resolved', 'resumption', 'mood', 'conventional', 'deploy', 'adjusting', 'xi', 'sat', 'intel', 'funeral', 'indicative', 'graham', 'credit_card', 'su', 'restore', 'sight', 'districts', 'sugar', 'alive', 'cummings', 'onset', 'meghan', 'activist', 'beneficial', 'promises', 'grounds', 'basketball', 'estate', 'evolution', 'counts', 'circuit', 'exact', 'employs', 'arrest', 'disproportionately', 'excellence', 'chile', 'generally_accepted', 'branches', 'camps', 'neutral', 'fish', 'yearend', 'securing', 'israeli', 'phones', 'suitable', 'maturity', 'defend', 'traditionally', 'surfaces', 'advocates', 'backdrop', 'barely', 'frequency', 'waves', 'gear', '1q', 'slight', 'divisions', 'indices', 'accounts_receivable', 'cleared', 'reminder', 'owing', 'howard', 'voices', 'meantime', 'bolster', 'promotion', 'obtaining', 'sciences', 'brent', 'utilization', 'opens', 'automatically', 'norwegian', 'defended', 'blamed', 'south_korean', 'motley_fool', 'nervous', 'troops', 'clothes', 'slashed', 'determination', 'bipartisan', 'pop', 'cost_savings', 'positioning', 'marking', 'drives', 'alarm', 'frozen', 'dip', 'stark', 'disclose', 'mumbai', 'prefer', 'inflammatory', 'minus', 'capex', 'mouth', 'thrown', 'feedback', 'lord', 'ed', 'methodology', 'bloomberg_lp', 'element', 'australians', 'occurring', 'proceed', 'hand_washing', 'dave', 'achievement', 'enduse_vs', 'certainty', 'revise_forwardlooking', 'nominee', 'stepping', 'rallies', 'utah', 'accessories', 'completing', 'triple', 'beer', 'etfs', 'w', 'solskjaer', 'merck', 'credits', 'prince_william', 'ian', 'acknowledge', 'anxious', 'shrink', 'swedish', 'k', 'contagion', 'height', 'transferred', 'susan', 'entrepreneurs', 'undue_reliance', 'anthony', 'tap', 'municipal', 'consultant', 'evaluated', 'korea', 'insider', 'selfisolating', 'strange', 'tory', 'rest_asiapacific', 'accounts_payable', 'phd', 'converted', 'burn', 'davis', 'succeed', 'crazy', 'peer', 'hired', 'billions_dollars', '1q20', 'gun', 'enforced', 'boy', 'challenged', 'droplets', 'evans', 'surplus', 'bike', 'drops', 'licenses', 'exclusively', 'disorders', 'letting', 'mom', 'iconic', 'michelle', 'particles', 'frame', 'ubs', 'compromise', 'seconds', 'artist', 'du', 'engineers', 'repay', 'attendees', 'designer', 'neil', 'narrative', 'counsel', 'signature', 'dismissed', 'alaska', 'permit', 'refunds', 'wealthy', 'discover', 'kits', 'colombia', 'elite', 'concentration', 'audited', 'mineralization', 'strengthened', 'efficiently', 'procedure', 'steps_protect', 'sooner', 'dealers', 'ross', 'comedy', 'appointments', 'correction', 'lowered', 'raises', 'biological', 'feared', 'billionaire', 'empire', 'coaches', 'volunteer', 'leagues', 'blocked', 'marketwatch', 'sovereign', 'ge', 'racist', 'appearing', 'bailout', 'supportive', 'boom', 'flows', 'integrate', 'investigational', 'furniture', 'northeast', 'hardship', 'weakened', 'cooking', 'loyalty', 'jail', 'underwriting', 'transparent', 'sole', 'suspending', 'metro', 'modified', 'copies', 'quoted', 'cruise_ship', 'doubledigit', 'catching', 'f1', 'henry', 'lowincome', 'issuer', 'unfavorable', 'drinking', 'organized', 'dinner', 'collections', 'forum', 'josh', 'joint_ventures', 'steadily', 'severance', 'santa', 'vessel', 'coordinated', 'defensive', 'scared', 'starbucks', 'arise', 'pizza', 'appearances', 'pose', 'stopping', 'pa', 'liberty', 'slack', 'touched', 'regeneron', 'foreseeable_future', 'iot', 'tracing', 'restrict', 'commercialization', 'metric', 'convinced', 'recognised', 'residence', 'flag', 'doctors_nurses', 'longstanding', 'grim', 'reconciliations', 'gaps', 'emails', 'valid', 'c_edgar', 'source_glimpses', 'specified', 'collins', 'worsening', 'researcher', 'wang', 'computing', 'aiming', 'earliest', 'vacation', 'tennessee', 'commonly', 'imaging', 'definitive', 'publish', 'moore', 'consultation', 'bearish', 'farms', 'subsidies', 'kick', 'indiana', 'governing', 'shield', 'publicly_update', 'embrace', 'fundamentals', 'proactive', 'remarkable', 'angry', 'advantages', 'mike_pence', 'prize', 'fastest', 'lifetime', 'larry', 'gene', 'parttime', 'date_hereof', 'counting', 'lisa', 'police_officers', 'rounds', 'negotiating', 'closed_doors', 'recruitment', 'explanation', 'fiber', 'removing', 'hsbc', 'decreases', 'upward', 'difficulty_breathing', 'prince_charles', 'clock', 'walked', 'milk', 'appreciation', 'espn', 'synergies', 'reads', '3d', 'recoveries', 'calculate', 'greg', 'examine', 'pursuing', 'throw', 'cooper', 'forecasting', 'girl', 'responsibilities', 'attempting', 'noncontrolling_interests', 'amy', 'backlash', 'introducing', 'acceleration', 'ability_obtain', 'prince_harry', 'pti', 'studying', 'urgency', 'antiviral', 'designs', 'unnecessary', 'motion', 'mlb', 'minds', 'jobless', 'productive', 'pulling', 'investigating', 'customs', 'features_multimedia', 'healthcare_provider', 'warm', 'coronaviruses', 'satellite', 'mortgages', 'uae', 'penalty', 'woods', 'fall_ill', 'thirdquarter', 'immigrants', 'revisions', 'tangible', 'briefly', 'seemingly', 'colleague', 'measurement', 'midnight', 'direct_indirect', 'facebook_instagram', 'rank', 'lincoln', 'dating', 'economically', 'thanksgiving', 'origin', 'como', 'unrest', 'hedge', 'borrow', 'diesel', 'unknown_risks', 'singh', 'fiveyear', 'looming', 'judgment', 'withdrawal', 'trademarks', 'herd_immunity', 'meters', 'reasonably', 'wanting', 'disputes', 'mirror', 'injured', 'repeat', 'contest', 'airbnb', 'determining', 'ranks', 'non', 'onethird', 'bets', 'topics', 'expire', 'analyses', 'barr', 'medication', 'balanced', 'react', 'peru', 'pub', 'cool', 'produces', 'handed', 'tasks', 'abbott', 'royals', 'buyer', 'phil', 'calif', 'briefings', 'imf', 'privately', 'avoided', 'nationally', 'tower', 'boards', 'feelings', 'arrivals', 'organizers', 'baseline', 'lvmh', 'mistakes', 'advising', 'consequently', 'powered', 'eurozone', 'lawsuits', 'renewable', 'phoenix', 'randomized', 'ports', 'constraints', 'iraq', 'geography', 'ignore', 'mutual', 'finland', 'intelligent', 'unpaid', 'references', 'greatly', 'presenting', 'dress', 'painful', 'demand_patterns', 'aspect', 'reiterated', 'admission', 'incomes', 'involve_known', 'ignored', 'anderson', 'concert', 'actress', 'independently', 'telecom', 'perceived', 'ventilation', 'bars_restaurants', 'witness', 'soldiers', 'fruit', 'joy', 'compelling', 'shore', 'executive_summary', 'latestage', 'weighing', 'absent', 'samsung', 'provinces', 'investigate', 'ring', 'advise', 'recipients', 'west_texas', 'telehealth', 'preparedness', 'amc', 'approaching', 'abandoned', 'lineup', 'universal_credit', 'nonrecurring', 'incidents', 'aggressively', 'designation', 'mrs', 'neighbors', 'formally', 'subscribe_stay', 'gt', 'advises', 'vertical', 'visible', 'bush', 'ahead_trusted', 'source_c2020', 'narrow', 'pride', 'grid', 'orange', 'jamie', 'anne', 'partnered', 'classroom', 'passes', 'principle', 'tender', 'injuries', 'choosing', 'sense_taste', 'barclays', 'heritage', 'trains', 'pmi', 'financials', 'concrete', 'trader', 'willingness', 'acquiring', 'blog', 'pilots', 'pro_forma', 'prudent', 'fatigue', 'attempted', 'orlando', 'moon', 'enrolled', 'sp_spx', 'jan', 'wash_hands', 'exemption', 'reviewing', 'opted', 'turmoil', 'rome', 'destruction', 'cricket', 'refining', 'bag', 'debts', 'chips', 'touching', 'evolve', 'imposing', 'frustration', 'symptoms_appear', 'comparing', 'junior', 'soil', 'battling', 'headline', 'contingent', 'buses', 'muscle_pain', 'headwinds', 'confirms', 'refers', 'simultaneously', 'fury', 'champions', 'swiftly', 'decisionmaking', 'merchants', 'boe', 'reluctant', 'breathe', 'rick', 'politically', 'facetoface', 'queensland', 'conjunction', 'mandates', 'msci', 'resolutions', 'lie', 'discrimination', 'tree', 'lucrative', 'jet', 'macy', 'ambassador', 'milestones', 'jennifer', 'emphasis', 'rated', 'section_21e', 'par', 'workplaces', 'capital_expenditure', 'speaker', 'noninterest', 'smoke', 'skilled', 'terminal', 'quote', 'si', 'tribute', 'softbank', 'brokerage', 'thrive', 'handled', 'id', 'rmb', 'rarely', 'tougher', 'acquisitionrelated', 'revolution', 'pays', 'delaying', 'crop', 'disappointing', 'safeguard', '2q', 'accurately', 'tumor', 'engines', 'cyber', 'distress', 'victim', 'humanitarian', 'rain', 'digital_transformation', 'credit_ratings', 'slid', 'characters', 'automakers', 'blocks', 'accumulated', 'onsite', 'responders', 'interior', 'arena', 'impairment_charges', 'import', 'gupta', 'honor', 'pressing', 'soaring', 'murder', 'rents', 'marriage', 'canada_newswire', 'inhibitor', 'inmates', 'dubai', 'retention', 'continuously', 'albeit', 'greek', 'precision', 'elizabeth', 'ha', 'caring', 'boys', 'merkel', 'novavax', 'demanded', 'nonetheless', 'khan', 'olympics', 'bankers', 'exams', 'migration', 'mount', 'clusters', 'swap', 'san_diego', 'prosecutors', 'equipped', 'prioritize', 'persistent', 'deterioration', 'citizen', 'tissue', 'curb_spread', 'gp', 'pack', 'charitable', 'tries', 'taxes_depreciation', 'male', 'removal', 'highlighting', 'pc', 'chiefs', 'recalled', 'marathon', 'undertaken', 'celebrated', 'ferguson', 'rebounded', 'fever_dry', 'manufactured', 'ethnic', 'fantastic', 'minerals', 'catastrophic', 'tip', 'prevented', 'plot', 'liver', 'easyjet', 'rob', 'commit', 'hp', 'hero', 'rest_latin', 'hands_clean', 'silence', 'concentrated', 'charging', 'distributors', 'addresses', 'paused', 'systemic', 'affiliate', 'negotiate', 'unity', 'utilizing', 'recognise', 'reconciliation_nongaap', 'lunch', 'documentary', 'collateral', 'reversal', 'gym', 'dealt', 'consisting', 'ryanair', 'fragile', 'exacerbated', 'naturally', 'alberta', 'administrators', 'trace', 'commodity_prices', 'promoted', 'yang', 'sixmonth', '3m', 'spikes', 'hard_surfaces', 'altogether', 'separation', 'knee', 'forefront', 'highprofile', 'frustrated', 'wonderful', 'sourcing', 'judges', 'rushed', 'reduces', 'fy2020', 'infect', 'economic_fallout', 'cafes', 'array', 'contents', 'incs', 'cdc_recommends', 'hungary', 'shelter', 'demonstrations', 'humanity', 'lists', 'damaged', 'twoweek', 'quarantines', 'collapsed', 'paragraph', 'warren', 'men_women', 'taxpayers', 'efficiencies', 'lp', 'costa', 'graduate', 'journalism', 'assumption', 'relax', 'legally', 'diluted_eps', 'ni', 'broadcaster', 'fatal', 'referendum', 'enacted', 'drastic', 'reactions', 'bn', 'disposable', 'quest', 'postponement', 'prisons', 'monitored', 'cough_fatigue', 'striking', 'distancing', 'au', 'drinks', 'consist', 'ward', 'holes', 'tradition', 'reimbursement', 'fueled', 'window_seat', 'instrument', 'threatens', 'euro_zone', 'birmingham', 'steven', 'difficult_predict', 'latest_recommendations', 'noticed', 'yellow', 'secretary_matt', 'electoral', 'presentations', 'hard_nonporous', 'dean', 'undermine', 'louis', 'compound', 'cautionary_statement', '13f_portfolio', 'potentially_infecting', 'fake', 'fluid', 'manages', 'fca', 'decisive', 'epidemics', 'place_sit', 'wipes_clean', 'compares', 'potentially_sick', 'identification', 'important_wash', 'caps', 'collaborations', 'accompanied', 'bonuses', 'connecting', 'tea', 'techniques', 'tailored', 'slated', 'fabric', 'issuers', 'perception', 'withdraw', 'washington_post', 'symptoms_overlap', 'use_disinfecting', 'certification', 'nutrition', 'cough_difficulty', 'relies', 'papers', 'hardest_hit', 'dialing', 'assessed', 'satisfy', 'smell_symptoms', 'spots', 'doubling', 'catalyst', 'exempt', 'parking', 'noi', 'saudi', 'capitalization', 'plague', 'canadians', 'sitting_window', 'hidden', 'hands_stop', 'possible_choose', 'surfaces_seat', 'implied', 'making_detection', 'athletic', 'gov_andrew', 'season_safest', 'plane_window', 'upholstered_seats', 'germs_killing', 'delighted', 'travel_unavoidable', 'seats_contact', 'screen_seat', 'lead_wet', 'collecting', 'theatres', 'missouri', 'servicing', 'foster', 'consumer_confidence', 'added_chills', 'study_emory', 'disinfect_hard', 'head_arm', 'wipe_wipes', 'transfers', 'noses_stuffy', 'sinuses_common', 'rest_seatbelt', 'buckle_remote', 'pocket_tray', 'leather_pleather', 'seat_spreading', 'breathing_doctor', 'telegraph', 'belt', 'difficult_runny', 'mineral_resources', 'accounting_policies', 'considerably', 'disorder', 'launches', 'visit_bloombergcom', 'bull', 'commissions', 'whatsapp', 'magic', 'costly', 'cautionary', 'neck', 'intended_identify', 'qualifying', 'tackling', 'mda', 'describes', 'weapons', 'definitions', 'installation', 'negatively', 'drag', 'tottenham', 'declare', 'musk', 'editorial', 'constitutional', '\\n', 'album', 'shelves', 'establishing', 'burning', 'dec', 'coordination', 'socialdistancing', 'breakfast', 'iron', 'unrealized', 'makeup', 'advocacy', 'prescription', 'receptor', 'ounces', 'holder', 'characteristics', 'assigned', 'optimization', 'slumped', 'equality', 'refuse', 'filling', 'additions', 'variant', 'data_compiled', 'atmosphere', 'cvs', 'ally', 'readers_cautioned', 'closest', 'self', 'zhang', 'pharmacies', 'receives', 'livelihoods', 'gary', 'intangibles', 'donors', 'shorter', 'quebec', 'versions', 'diplomatic', 'cramer', 'nancy_pelosi', 'common_stockholders', 'greenback', 'explaining', 'speakers', 'presidents', 'detention', 'suspect', 'freeze', 'spotlight', 'establishment', 'maturities', 'radical', 'calculations', 'curbs', 'generous', 'predicting', 'chicken', 'celebration', 'executed', 'constitution', 'spectators', 'boat', 'llp', 'familiar_matter', 'northwest', 'urgently', 'pleased_announce', 'anymore', 'protective_equipment', 'lights', 'clash', 'withdrawn', 'peaceful', 'djia', 'surely', 'divide', 'adapted', 'celebrities', 'symptom', 'deny', 'contactless', 'consequence', 'childhood', 'attracted', 'assay', 'prisoners', 'accepting', 'grounded', 'wishes', 'eligibility', 'bernie_sanders', 'ibm', 'tiffany', 'amd', 'allegedly', 'induced', 'needing', 'pensions', 'sage', 'comparative', 'macro', 'nicola_sturgeon', 'describing', 'flood', 'climbing', 'tonne', 'life_sciences', 'sony', 'antitrust', 'receivable', 'machinery', 'justice_department', 'bio', 'homeowners', 'disinfectant', 'mechanical', 'wear_cloth', 'jane', 'chamber', 'socially', 'analytical', 'captured', 'pediatric', 'seed', 'portland', 'replay_videos', 'indefinitely', 'auction', 'antigen', 'thereto', 'complained', 'term_defined', 'shipped', 'pollution', 'poses', 'contractual', 'dipped', 'nvidia', 'theme', 'steven_mnuchin', 'mississippi', 'pregnant', 'bacteria', 'lesson', 'specialized', 'nights', 'disrupt', 'maintains', 'jpmorgan', 'impairments', 'library', 'justin', 'alltime_high', 'verge', 'dominated', 'summarization_historic', 'accommodate', 'article_zackscom', 'friendly', 'optimize', 'illnesses', 'irs', 'smartphones', 'concentrate', 'discretionary', 'opt', 'defines', 'drugmaker', 'terminology', 'ba', 'dexamethasone', 'hardly', 'plans_objectives', 'psychological', 'align', 'murray', 'sits', 'relates', 'filings_sec', 'beef', 'takeover', 'susceptible', 'reader', 'royalties', 'guided', 'wondering', 'worn', 'institute_allergy', 'rough', 'averaged', 'churches', 'phases', 'kenya', 'tsx_venture', 'oneday', 'edged', 'provincial', 'grace', 'couples', 'attacked', 'orleans', 'ps1', 'disability', 'satisfied', 'bearing', 'revive', 'seniors', 'clinton', 'enhancing', 'mg', 'answered', 'rna', 'suggestions', 'commonwealth', 'consultants', 'lithium', 'makes_sense', 'stalled', 'sean', 'hotspots', 'advocate', 'enjoying', 'petition', 'sadly', 'considerations', 'great_depression', 'penalties', 'occurs', 'deferral', 'seventh', 'bold', 'damaging', 'alter', 'plummeted', 'hydrogen', 'natural_disasters', 'reversed', 'pr', 'temperature_degrees', 'lighting', 'roche', 'rebuild', 'crossing', 'geopolitical', 'senate_majority', 'furlough_scheme', 'telecommunications', 'involvement', 'contemplated', 'traveled', 'inadequate', 'consultancy', 'basin', 'casinos', 'hedging', 'phased', 'roger', 'deciding', 'repayments', 'meets', 'solicitation', 'bias', 'woodward', 'noise', 'gmb', 'negatively_impacted', 'ups', 'desk', 'gates', 'dealer', 'kicked', 'experiment', 'asks', 'dedication', 'creek', 'fraction', 'interact', 'zinc', 'positively', 'malls', 'nissan', 'pompeo', 'mills', 'column', 'aftermath', 'lauren', 'meaning_section', 'commenced', 'quantitative_demand', 'sophie', 'arguments', 'shale', 'ramping', 'basket', 'il', 'expression', 'ethical', 'songs', 'alarming', 'immediately_respond', 'tenant', 'reopenings', 'ken', 'asx', 'andrews', 'deserve', 'pioneer', 'quit', 'awaiting', 'house_speaker', 'assumes', 'sweet', 'tyson', 'safety_efficacy', 'staggering', 'outlet', 'jon', 'armed', 'praise', 'adversely_affect', 'maximize', 'upbeat', 'conservatives', 'roberts', 'jose', 'parliamentary', 'jp_morgan', 'ppp_loans', 'auditor', 'jeffrey', 'dental', 'benchmarks', 'ambition', 'profiles', 'yorkers', 'redemption', 'tends', 'submission', 'corruption', 'plastics', 'okay', 'ceos', 'gen', 'moratorium', 'explain_symptoms', 'unpredictable', 'regular_exercise', 'followup', 'epidemiologist', 'eg', 'vendor', 'warehouses', 'recycling', 'alan', 'marshall', 'counterparts', 'mind_chance', 'hawaii', 'medicalgrade_masks', 'pcr', 'sensitivity', 'taste', 'downtown', 'shoes', 'teach', 'brilliant', 'smooth', 'mandated', 'q1_q2', 'releasing', 'noncurrent_assets', 'checked', 'exposing_sick', 'fears_decide', 'asymptomatic_instance', 'stays', 'reliability', 'prediction', 'allen', 'vancouver', 'publicly_traded', 'stating', 'oliver', 'expiration', 'railway', 'varying', 'pure', 'refusing', 'mill', 'starmer', 'confined', 'filter', 'comprising', 'payout', 'refinancing', 'obligation_update', 'store_closures', 'destroyed', 'birx', 'leg', 'rigorous', 'command', 'interruption', 'craig', 'commons', 'outperform', 'collaborative', 'functioning', 'multiple_sources', 'depressed', 'circle', 'approached', 'stricter', 'dominant', 'nonoperating', 'behaviors', 'exceptions', 'banning', 'diana', 'patel', 'doubts', 'instances', 'populous', 'halfyear', 'tsxv', 'webinar', 'participant', 'suburban', 'breath', 'remind', 'fbi', 'doug', 'andrea', 'request_comment', 'kennedy', 'influential', 'preparations', 'brutal', 'fitch', 'perfectly', 'suburbs', 'geographies', 'jointly', 'longest', 'capitalized', 'intensity', 'furious', 'marc', 'youschina', 'blockchain', 'frankfurt', 'hunger', 'conservation', 'chase', 'vp', 'prevalence', 'passion', 'functional', 'jobless_claims', 'mum', 'obesity', 'census', 'demonstrating', 'aide', 'venezuela', 'fco', 'upset', 'mid', 'assured', 'contagious', 'recommended_americans', 'taught', 'walt_disney', 'comeback', 'isolating', 'wary', 'clip', 'harmful', 'cat', 'chest', 'signs_fever', 'der', 'civil_rights', 'discipline', 'client_base', 'stored', 'threaten', 'verizon', 'pressed', 'trends_drivers', 'bruce', 'southeast_asia', 'cohort', 'workers_desperately', 'twoyear', 'illness_caused', 'profound', 'workfromhome', 'tension', 'exceeding', 'fort', 'esports', 'pivot', 'crossed', 'premarket_trading', 'undergo', 'fought', 'inter', 'restructuring_charges', 'unsecured', 'guidance_reflecting', 'numbers_vary', 'benefiting', 'lowcost', 'devastated', 'sga', 'clearing', 'normal_temperature', 'stunning', 'mainstream', 'cinema', 'consortium', 'sick_coughing', 'vowed', 'mn', 'normalized', 'nickel', 'kidney', 'diversification', 'fahrenheit_higher', 'easy_sounds', 'preferences', 'occasion', 'legend', 'stockholm', 'patents', 'trees', 'usa_canada', 'masks_replace', 'ways_figure', 'ihs_markit', 'restated', 'retained', 'advised_ordinary', 'threeyear', 'tears', 'celebrations', 'tracker', 'anna', 'buyback', 'generally_eye', 'complications_cdc', 'reason_preserve', 'continuously_short', 'disinformation', 'renewal', 'thermometer_pricey', 'pump', 'demonstrates', 'emotions', 'replacing', 'tobacco', 'streak', 'licence', 'dive', 'yahoo', 'test_trace', 'fedex', 'eve', 'participated', 'laying', 'set_aside', 'wing', 'upgraded', 'restriction', 'citigroup', 'insufficient', 'accident', 'solo', 'expectations_beliefs', 'holidaymakers', 'input', 'catastrophe', 'egypt', 'survivors', 'visual', 'cardiovascular', 'buffett', 'safety_protocols', 'progression', 'discharged', 'root', 'experts_warn', 'partnering', 'campbell', 'certificate', 'eliminated', 'derek', 'preference', 'private_placement', 'rethink', 'sampling', 'tactics', 'museums', 'parallel', 'mechanisms', 'viewing', 'proposes', 'musical', 'hubei_province', 'keytruda', 'jessica', 'undertaking', 'mt', 'neighbours', 'karen', 'square_feet', 'ufc', 'barrier', 'standalone', 'neighborhoods', 'forbearance', 'refugees', 'jay', 'essentials', 'realty', 'ruth', 'dialogue', 'flooding', 'bosses', 'nasal', 'premises', 'scary', 'frankly', 'worldclass', 'faculty', 'mothers', 'carries', 'dreams', 'alike', 'blood_pressure', 'francis', 'advertisers', 'casual', 'contributor', 'archie', 'builds', 'bangladesh', 'old_trafford', 'incur', 'rishi_sunak', 'utilize', 'understands', 'argues', 'farming', 'travelled', 'careers', 'auditors', 'employ', 'gordon', 'sussex', 'undergoing', 'opponents', 'expenditure', 'medications', 'mailin_voting', 'payrolls', '1990s', 'berkshire', 'abortion', 'trail', 'reconciliation_gaap', 'meghan_markle', 'rounding', 'acres', 'displays', 'crimes', 'incoming', 'clinicians', 'hardhit', 'sentence', 'walks', 'tesco', 'android', 'expired', 'buybacks', 'convenient', 'shocking', 'shake', 'blocking', 'controversy', 'louise', 'coatings', 'aids', 'tan', 'retire', 'smell', 'winds', 'southeast', 'ytd', 'spotify', 'rubber', 'trending', 'notification', 'takeaway', 'comcast', 'sticking', 'emma', 'composite', 'onboard', 'motivated', 'designers', 'computers', 'moral', 'accusations', 'muslim', 'liu', 'internally', 'echoed', '10th', 'official_statistics', 'specialists', 'stockpile', 'tulsa', 'convert', 'notified', 'complexity', 'logo', 'battered', 'stadiums', 'prescribed', 'lowest_level', 'muscle', 'getty_images', 'rhetoric', 'stimulus_checks', 'proposed_transaction', 'fault', 'q', 'eviction', 'restrictive', 'tours', 'explosion', 'admit', 'vaccinations', 'caribbean', 'grab', 'embassy', 'commence', 'westminster', 'generic', 'aaron', 'resuming', 'compulsory', 'camilla', 'british_airways', 'investigators', 'riders', 'evident', 'downgraded', 'economists_forecast', 'renters', 'resigned', 'phenomenon', 'capped', 'spirits', 'fundamentally', 'singing', 'latino', 'structured', 'existence', 'cleaner', 'williamson', 'accessing', 'councils', 'newsletter_latest', 'productions', 'agile', 'bound', 'classrooms', 'hhs', 'chen', 'penetration', 'charlie', 'appeals', 'biology', 'frost', 'crews', 'mature', 'pm_eastern', 'menu', 'minimise', 'south_wales', 'fate', 'lifeline', 'airways', 'convince', 'xi_jinping', 'grappling', 'craft', 'trauma', 'inquiries', 'electric_vehicles', 'kid', 'merely', 'instore', 'ukraine', 'extends', 'house_representatives', 'violations', 'enthusiasm', 'ample', 'comprises', 'openings', 'imminent', 'prohibited', 'cancers', 'sustaining', 'lowering', 'encourages', 'topline', 'ambulance', 'fourthquarter', 'batteries', 'lengthy', 'holly', 'diet', 'matching', '2nd', 'confirming', 'tie', 'mineral_resource', 'heating', 'dairy', 'stockholders_equity', 'copyright', 'apac', 'corps', 'iron_ore', 'filmed', 'eurm', 'taxation', 'competitions', 'credit_suisse', 'milwaukee', 'policing', 'asthma', 'stemming', 'guilty', 'bailey', 'interpretation', 'scrambling', 'adopting', 'attributable_noncontrolling', 'aligned', 'bond_yields', 'wellknown', 'offline', 'rocket', 'percentages', 'cloudbased', 'tens_millions', 'robots', 'celebrating', 'cabin', 'cautions', 'striker', 'rachel', 'machine_learning', 'bases', 'trademark', 'thousand_enduse', 'firmly', 'mild_symptoms', 'reminded', 'cautionary_note', 'landing', 'shipment', 'automatic', 'entirety', 'interference', 'sophisticated', 'propose', 'influenced', 'shopify', 'affiliated', 'ga', 'ton', 'tracked', 'eliminating', 'concessions', 'adhere', 'conspiracy_theories', 'cleveland', 'athome', 'red_cross', 'england_wales', 'grand_prix', 'cushion', 'sap', 'cycling', 'hundreds_millions', 'realistic', 'excessive', 'test_kits', 'accountability', 'teammates', 'informal', 'lakh', 'stops', 'furloughs', 'assault', 'probable', 'brooks', 'filters', 'preceding', 'unified', 'lunar', 'dubbed', 'cellular', 'tiger', 'km', 'vegetables', '30th', 'slammed', 'pathogens', 'respiratory_illnesses', 'feeding', 'traction', 'wet', 'samestore_sales', 'attitude', 'postal', 'incorporated_reference', 'pork', 'shoot', 'hang_seng', 'soar', 'unconsolidated', 'early_stages', 'cycles', 'eagle', 'defending', 'carlos', 'radar', 'stranded', 'vi', 'hell', 'leveraged', 'suggestion', 'partisan', 'wildfires', 'terrorist', 'writers', 'oneoff', 'tragedy', 'midfielder', 'fy19', 'co2', 'ons', 'chef', 'wwwsedarcom', 'architecture', 'gps', 'vulnerability', 'towers', 'safehaven', 'realise', 'inaccurate', 'presented_accordance', 'exhibition', 'selfquarantine', 'attacking', 'distinct', 'prepandemic', 'translate', 'immense', 'worsened', 'flash', 'conference_webcast', 'marcus', 'adapting', 'wars', 'powder', 'suits', 'telemedicine', 'container', 'horse', 'throwing', 'custody', 'unfair', 'azar', 'deutsche_bank', 'decent', 'semester', 'networking', 'gowns', 'product_launches', 'touted', 'excuse', 'precisely', 'cotton', 'gmbh', 'bans', 'addressable', 'binding', 'landed', 'brink', 'confinement', 'daytoday', 'pools', 'korean', 'roy', 'denver', 'sacrifice', 'defer', 'expressly', 'adams', 'ev', 'tired', 'withdrew', 'proving', 'footwear', 'biologics', 'incumbent', 'consult', 'protective_gear', 'revealing', 'harvest', 'combine', 'listings', 'kingdom', 'scandal', 'alltime', 'hr', 'visas', 'iranian', 'engineer', 'circulating', 'listing_rules', 'tide', 'strains', 'portal', 'meaning_applicable', 'joins', 'elective', 'restricting', 'chevron', 'consulate', 'cisco', 'apartments', 'persist', 'payouts', 'quiz', 'coastal', 'survived', 'automaker', 'observe', 'duchess', 'admits', 'publications', 'shelters', 'fulfillment', 'string', 'subscriptions', 'finishing', 'adversely', 'lying', 'combining', 'lawrence', 'regards', 'reacted', 'qatar', 'swab', 'receipts', 'printing', 'breaches', 'waiver', 'organised', 'include_limitation', 'salt', 'emily', 'floating', 'transfer_window', 'sorts', 'assure', 'suicide', 'sheet', 'composition', 'tender_offer', 'monarch', 'loyal', 'strikes', 'statistical', 'photograph', 'silicon_valley', 'betterthanexpected', 'maine', 'volkswagen', 'breast_cancer', 'phase_iii', 'leader_mitch', 'distributing', 'occupied', 'spotted', 'compiled', 'inevitably', 'earnings_esp', 'afghanistan', 'joshua', 'engineered', 'geographic_region', 'legitimate', 'inspiration', 'strengths', 'motors', 'lately', 'personalized', 'brad', 'substance', 'postpandemic', 'strategists', 'prince_philip', '1h', 'emergence', 'occurrence', 'resignation', 'bengaluru', 'insiders', 'distributor', 'emphasized', 'kamala_harris', 'td', 'riding', 'errors', 'interviewed', 'containers', 'bone', 'tenet', 'lowe', 'arkansas', 'pets', 'goldman', 'impressed', 'normality', 'swimming', 'talented', 'ignoring', 'exhaustive', 'of\\nthe', 'contingencies', 'realised', 'conclusions', 'spiked', 'inflows', 'sanitation', 'inception', 'cyclical', 'development_commercialization', 'material_adverse', 'distant', 'bc', 'proactively', 'chartered', 'ranking', 'occasions', 'hudson', 'scrapped', 'spark', 'oxford_university', 'piers', '31st', 'hk', 'broadway', 'sensor', 'uncomfortable', 'healthier', 'disciplined', 'hubs', 'transcript', 'revise', 'va', 'inhouse', 'wise', 'lebanon', 'logistical', 'enemy', 'founders', 'ip', 'pursuit', 'disabilities', 'bottles', 'hispanic', 'lane', 'fails', 'dc', 'escalating', 'cameron', 'refinery', 'smes', 'increase_likelihood', 'timelines', 'referenced', 'endorsed', 'nm', 'ramped', 'duke_duchess', 'tui', 'disappear', 'stimulate', 'discretion', 'general_motors', 'singleday', 'notion', 'anticipation', 'sends', 'televised', 'nomination_committee', 'marijuana', 'collaborate', 'prevailing', 'certificates', 'epidemiology', 'fuels', 'capita', 'fortunate', 'interruptions', 'coughing', 'ted', 'jefferies', 'files', 'costco', 'campuses', 'capitol', 'comp', 'founding', 'demonstrators', 'jpmorgan_chase', 'shocked', 'complement', 'gardens', 'thin', 'generates', 'viability', 'conglomerate', 'assumes_obligation', 'grocery_stores', 'blanket', 'ethics', 'toxic', 'prompt', 'commenting', 'kansas', 'capitalize', 'charts', 'mm', 'robinson', 'opponent', 'barbara', 'sturgeon', 'leverage_ratio', 'graduates', 'grief', 'memories', 'pathogen', 'lufthansa', 'harsh', '1980s', 'countless', 'unacceptable', 'attributable_owners', 'bears', 'automobile', 'executing', 'coordinate', 'deferrals', 'enforcing', 'silent', 'recruit', 'inspire', 'unlimited', 'wiped', 'terrorism', 'columbia', 'minorities', 'toilet_paper', 'embedded', 'malaria', 'regarded', 'foreigners', 'refined', 'pit', 'lean', 'predominantly', 'damages', '15year_perspective', 'st_louis', 'senate_republicans', 'sell_solicitation', 'record_highs', 'metric_tons', 'initiate', 'sanchez', 'drastically', 'mailin_ballots', 'correspondent', 'jd', 'toyota', 'clearance', 'tel_email', 'decreasing', 'havoc', 'shocks', 'accountable', 'elimination', 'donating', 'movie_theaters', 'dublin', 'exam', 'don', 'wash', 'miners', 'roof', 'tropical', 'montreal', 'dual', 'restaurants_bars', 'takeout', 'upgrades', 'geneva', 'exemptions', 'revision', 'sp_etf', 'netanyahu', 'ferrari', 'cbd', 'commencement', 'conclude', 'wholly_owned', 'pregnancy', 'mason', 'jacob', 'fulfill', 'shaping', 'weird', 'bristol', 'grow_cagr', 'aging', 'podcasts', 'scaling', 'continuation', 'hugely', 'slash', 'midstream', 'mitchell', 'fat', 'brokers', 'kemp', 'airborne', 'pan', 'item_1a', 'national_institutes', 'violation', 'expect_intend', 'passage', 'days_onset', 'confused', 'cents_barrel', 'publisher', 'chairs', 'euronext', 'watchdog', '30year', 'colour', 'demographic', 'newcastle', 'characterized', 'walls', 'matt_hancock', 'grows', 'juventus', 'coping', 'waited', 'abe', 'refinance', 'chan', 'organizational', 'equity_method', 'sancho', 'realizing', 'density', 'predictive', 'renewables', 'yards', 'barred', 'optimal', 'wifi', 'formulation', 'pe', 'modelling', 'citi', 'oracle', 'log', 'backup', 'decree', 'worsen', 'scaled', 'twin', 'enroll', 'commercialize', 'borrowed', 'instant', 'upfront', 'shelf', 'amortization_intangible', 'clinically', 'probability', 'reaches', 'digitally', 'surges', 'encounter', 'coordinator', 'steam', 'rewards', 'spare', 'turkish', 'real_madrid', 'nascar', 'gt_au', 'preventive', 'jimmy', 'politician', 'exhibits', 'questioning', 'cnw', 'epic', 'est', 'pulmonary', 'standstill', 'transformed', 'rhinovirus', 'sedar_wwwsedarcom', 'desperately', 'stanford', 'editors', 'turnout', 'recreational', 'cardiac', 'separated', 'normalcy', 'newswire', 'ppp_loan', 'sequential', 'paint', 'burned', 'nifty', 'democratic_presidential', 'stateowned', 'probe', 'subscriber', 'explosive', 'performers', 'spanning_countries', 'fy2019', 'norms', 'covenant', 'offensive', 'franklin', 'told_expresscouk', 'japan_nikkei', 'peloton', 'mars', 'beverages', 'displayed', 'dangers', 'bats', 'globenewswire_inc', 'compounds', 'salons', 'significance', 'surgeries', 'declaring', 'par_value', 'debates', 'shortfall', 'surprisingly', 'clearer', 'stewart', '2q19', 'projection', 'stretched', 'hang', 'platinum', 'stroke', 'settlements', 'phillips', 'plea', 'centers_offices', 'thrilled', 'nj', 'grip', 'tenure', 'dialin', 'buckingham_palace', 'rig', 'hospitalization', 'communicated', 'conditional', 'blast', 'bunch', 'confidential', 'organisers', 'sky_sports', 'adverse_reactions', 'troubled', 'bench', 'staged', 'tune', 'poorly', 'pentagon', 'highend', 'custom', 'emailed', 'click_zacks', 'paramount', 'oxygen_ventilator', 'buys', 'achievements', 'infecting', 'han', 'muchneeded', 'hurting', 'assurances', 'totals', 'disparities', 'words_anticipate', 'newspapers', 'noah', '27a_securities', 'trade_receivables', 'detained', 'shaw', 'publichealth', 'accusing', 'overhead', 'negotiated', 'transforming', 'horror', 'improves', 'reid', 'growing_client', 'intact', 'corn', 'workouts', 'multiyear', 'authorised', 'nextgeneration', 'aurora', 'clark', 'quantities', 'luck', 'forecasted', 'precise', 'highgrade', 'nightmare', 'm2', 'measuring', 'accounting_standards', 'lifethreatening', 'surface_transmission', 'rio', 'funny', 'reward', 'cats', 'intermediate', 'reliant', 'examined', 'wong', 'sir_keir', 'seating', 'shoulder', 'forgiveness', 'organization_stated', 'comparability', 'honour', 'djokovic', 'ambitions', 'unite', 'eua', 'provides_actionable', 'hanging', 'incidence', 'blind', 'ali', 'raw_material', 'strategies_optimize', 'underperformed', 'catherine', 'takeda', 'tracked_insider', 'arguably', 'weakening', 'jumping', 'printed', 'likewise', 'conspiracy', 'oldest', 'bare', 'douglas', 'coverage_extensive', 'base_relies', 'studies_flu', 'routinely', 'insights_identify', 'staffers', 'walked_statement', 'temperature_checks', 'materialize', 'wti', 'inspection', 'balancing', 'tightening', 'positions_specialized', 'covering_technologies', 'lend', 'surfaces_particularly', 'strong_statistical', 'mass_protests', 'sensible', 'lo', 'library_consists', 'consists_enterprises', 'cited_paper', 'blood_linked', 'reed', 'repurchased', 'reports_counting', 'technavio_comprehensive', 'research_actionable', 'assess_competitive', 'positions_changing', 'scientists_document', 'recommending', 'manufactures', 'evidence_widely', 'throughput', 'link_genetic', 'stanley', 'nominated', 'wallace', 'appealing', 'violating', 'cruz', 'germs_typically', 'spreads_happen', 'microbes_shown', 'rare_later', 'blair', 'divestitures', 'objects_infecting', 'headcount', 'sponsors', 'panels', 'bbc_breakfast', 'shrinking', 'insurer', 'instructed', 'emea', 'covid19related', 'battles', 'swabs', 'spray', 'ar', 'hbo', 'unlock', '12month', 'maritime', 'antibody_tests', 'layer', 'forth', 'hills', 'piers_morgan', 'behavioral', 'bird', 'bay_area', 'gsk', 'investor_letters', 'scenarios_view', 'stock_pitches', 'labels', 'rate_dipped', 'durable', 'exercises', 'source_version', 'invisible', 'applicants', 'parameters', 'masked', 'kumar', 'fantasy', 'landscape_vendor', 'deploying', 'mile', 'barrett', 'pour', 'searching', 'insisting', 'cement', 'aboard', 'finale', 'documents_filed', 'periodic', 'hourly', 'gig', 'ebay', 'broadcasting', 'mckinsey', 'taxable', 'maps', 'associations', 'worlds', 'rogers', 'tricky', 'consumer_behavior', 'faster_economists', 'bleak', 'deepest', 'beverage', 'best_shorting', 'disruptive', 'selective', 'technavio_subscription', 'genuine', 'biosciences', 'seamless', 'chemotherapy', 'midwest', 'expires', 'scoring', 'unilever', 'integral', 'robotics', 'justify', 'dilution', 'en_el', 'manual', 'significance_investors', 'airs', 'recruiting', 'thomson_reuters', 'instead_employers', 'exhausted', 'unexpected_improvement', 'commercially', 'hiring_rebounded', 'associate_professor', 'pogba', 'midapril', 'utilized', 'rigs', '9m', 'goodbye', 'bath', 'dear', 'defender', 'accepts_responsibility', 'kt', 'conflicts', 'swept', 'draws', 'respected', 'killer', 'spurred', 'babies', 'casting', 'permitting', 'beaten', 'favourable', 'weddings', 'empower', 'eventual', 'forthcoming', 'glad', 'bundesliga', 'senior_secured', 'strip', 'university_oxford', 'neighboring', 'spencer', 'mercedes', 'montana', 'adequately', 'documentation', 'edinburgh', 'urges', 'navigating', 'roster', 'british_columbia', 'honestly', 'sus', 'vein', 'victorian', 'alerts', 'hunter', 'gain_instant', 'bread', 'biomedical', 'paypal', 'gratitude', 'outrage', 'gay', 'ondemand', 'pandemicrelated', 'symptomatic', 'threw', 'rolls', 'altered', 'castle', 'placement', 'assists', 'clause', 'defaults', 'archived', 'fy21', 'batch', 'supplements', 'christine', 'leased', 'gilead_sciences', 'nelson', 'attachment', 'sealed', 'rides', 'instability', 'vacuum', 'margaret', 'vicepresident', 'sponsor', 'concerts', 'flip', 'hampshire', 'gambling', 'judicial', 'carter', 'roots', 'beloved', 'considered_isolation', 'analyzed', 'misscoronavirus', 'reserved', 'recall', 'principally', 'averages', 'synthetic', 'signaled', 'crunch', 'biopharma', 'thousand_regioncountry', 'weekly_newsletter', 'firsthalf', 'boots', 'formation', 'geological', 'aired', 'testimony', 'blackrock', 'defining', 'das', 'baltimore', 'poorest', 'tighter', 'initiation', 'undoubtedly', 'chemistry', 'terminated', 'demonstration', 'noninterest_expense', 'intensified', 'readily', 'parade', 'chancellor_rishi', 'phillip', 'liabilities_stockholders', 'random', 'leeds', 'pradesh', 'technavio_indepth', 'destroy', 'precaution', 'hot_spots', 'morningstar', 'tencent', 'joke', 'anonymous', 'benjamin', '18th', 'daughters', 'mw', 'hungry', 'warming', 'masters', 'interestbearing', 'dejoy', 'leaked', 'recovers', 'whitmer', 'conference_id', 'admissions', 'empathy', 'precovid', 'von', 'migrant', 'jewish', 'brett', 'confront', 'penn', 'skill', 'mindset', 'withstand', 'pathway', 'storms', 'nhl', 'tata', 'thai', 'expressions', 'creativity', 'scrap', 'aggregate_principal', 'legislature', 'owed', 'jab', 'flew', 'vat', 'migrant_workers', 'q3_q4', 'investigated', 'invitation', 'stabilize', 'seller', 'duo', 'crops', 'the\\ncompany', 'adequacy_accuracy', 'continental', 'precious_metals', 'tournaments', 'likeforlike', 'reservations', 'escalation', 'pt', 'dosing', 'qanon', 'loose', 'staples', 'sons', 'aluminum', 'societies', 'firsttime', 'compensate', 'norm', 'cheese', 'qa', 'renew', 'prepares', 'universe', 'taxpayer', 'bbc_radio', 'sporting_events', 'et_al', 'disabled', 'pullback', 'kroger', 'donald', 'macau', 'hillary_clinton', 'millennials', 'uniquely', 'premature', 'think_tank', 'pockets', 'hammered', 'lesser', 'neighbouring', 'website_wwwsecgov', 'poorer', 'sleeping', 'modeling', 'capitol_hill', 'challenger', 'bolton', 'burger', 'micro', 'reset', 'lag', 'modifications', 'relaxing', 'disastrous', 'food_beverage', 'playoff', 'bullish_positions', 'spell', 'overhaul', 'peaked', 'merchant', 'consisted', 'expressing', 'national_guard', 'setup', 'corporate_governance', 'evictions', 'wipes', 'forgotten', 'reinsurance', 'remote_learning', 'gamble', 'walgreens', 'dividing', 'youngest', 'unavailable', 'tablets', 'dijo', 'switching', 'liked', 'reorganization', 'preexisting', 'cease', 'necessity', 'gate', 'grocery_store', 'elon_musk', 'freedoms', 'cet', 'lovely', 'disappointment', 'attorneys', 'vigilant', 'wheat', 'barron', 'reflection', 'zoom_iconarrows', 'pointing_outwards', 'older_adults', 'repaid', 'meghan_harry', 'eighth', 'smallcap', 'lifesaving', 'appoint', 'halls', 'corbyn', 'eggs', 'pink', 'committees', 'rightwing', 'molecules', 'quicker', 'triggering', 'imperative', 'relatively_bullish', 'privilege', 'pittsburgh', 'archive', 'ranges', 'cox', 'ms_sturgeon', 'ann', 'muslims', 'borrower', 'welsh', 'midmay', 'refugee', 'contractor', 'mutations', 'rushing', 'keith', 'condemned', 'personality', 'spy_percentage', 'fights', 'returned_outperformed', 'toilet', 'wound', 'z', 'incorporate', 'ticker_hfs', 'value_hf', 'positions_x1000', 'change_hf', 'experience_formatting', 'popular_bullish', 'landmark', 'optical', 'verified', 'henderson', 'guards', 'embraced', 'expects_anticipates', 'engagements', 'span', 'queens', 'metastatic', 'prepandemic_levels', 'hightech', 'outperformance', 'clarke', 'rural_areas', 'judgments', 'runway', 'mike_pompeo', 'katie', 'calculating', 'individually', 'reassure', 'youn', 'obstacles', 'bluechip', 'sequentially', 'medicaid', 'knight', 'portfolio_weights', 'influx', 'kent', 'mineral_reserves', 'helen', 'smoking', 'assigned_position', 'allocated_biggest', '13f_equity', 'ninth', 'continually', 'tragic', 'spinoff', 'mini', 'supplied', 'spacex', 'slot', 'uefa', 'logic', 'restarting', 'wu', 'dementia', 'relaxation', 'eugenie', 'royal_caribbean', 'grave', 'brady', 'install', 'rid', 'contrary', 'burns', 'sebastian', 'secondlargest', 'insists', 'codes', 'excitement', 'retrospective', 'gray', 'lyft', 'piling', 'maskwearing', 'premiere', 'onshore', 'treaty', 'genome', 'broad_range', 'anthem', 'proxies', 'indirect', 'variation', 'disproportionate', 'crossborder', '14day_quarantine', 'blunt', 'autonomy', 'cosmetics', 'advancement', 'dax', 'renault', 'aug', 'evolved', 'bin', 'dominate', 'mayors', 'smile', 'ticked', 'catering', 'anticipating', 'origins', 'analyzing', 'combines', 'industryleading', 'green_light', 'otc', 'fortnight', 'algorithms', 'integrating', 'bruno', 'extensions', 'beliefs_expectations', 'freely', 'foundations', 'playoffs', 'disputed', 'midday', 'diplomats', 'nonprofits', 'bit_bit', 'precedent', 'interested_parties', 'flags', 'technique', 'home_depot', 'shrank', 'pp', 'mayor_bill', 'tariff', 'hughes', '1q19', 'rescheduled', 'nashville', 'regain', 'successor', 'pot', 'carbon_emissions', 'quarantining', 'halting', 'vermont', 'rand', 'brits', 'messi', 'tuition', 'domain', 'amidst', 'fixtures', 'agility', 'windsor', 'upended', 'wolf', 'resign', 'sponsored', 'islamic', 'wright', 'reopens', 'prove_accurate', 'pubs_restaurants', 'vocal', 'extraction', 'columnist', 'nikkei', 'agrees', 'creators', 'encountered', 'inner', 'trips_outside', 'ray', '\\n\\r\\n', 'julie', 'obrien', 'boats', 'entrepreneur', 'nicholas', 'phrases', 'cocacola', 'intangible', 'lancet', 'fred', 'bankruptcies', 'implied_forwardlooking', 'alignaligncenter', 'stevens', 'unforeseen', 'thompson', 'fare', 'conte', 'salesforce', 'verification', 'puerto_rico', 'fortunately', 'theatrical', 'endtoend', 'oneyear', 'cry', 'berkshire_hathaway', 'backgrounds', 'hotspot', 'yoga', 'dominic_cummings', 'corners', 'cautioned_place', 'marlins', 'blues', 'kansas_city', 'premarket', 'nearest', 'jadon_sancho', 'warranty', 'campaigning', 'hogan', 'amanda', 'rehabilitation', 'sequence', 'disclaim', 'operation_warp', 'hong', 'handwashing', 'wellpositioned', 'plantbased', 'skeptical', 'todd', 'atlas', 'pronounced', 'harrison', 'passcode', 'possibilities', 'curtailed', 'supplying', 'predecessor', 'cares', 'exercised', 'coaching', 'prepaid', 'openly', 'treasuries', 'quantitative', 'chloroquine', 'hackers', 'leaving_decision', 'commissioned', 'ron', 'pumps', 'requesting', 'signaling', 'bail', 'drilled', 'bmw', 'amsterdam', 'ani', 'hubei', 'journeys', 'cuttingedge', 'explores', 'refusal', 'annum', 'confusing', 'resisted', 'alleviate', 'paths', 'crackdown', 'dame', 'marketed', 'yorkshire', 'constitutes', 'plunging', 'progressing', 'mixing', 'pope', 'protects', 'weighted', 'cooling', 'locals', 'agreeing', '401k', 'inequalities', 'bounced', 'attracting', 'latent_demand', 'robot', 'geographical', '3rd', 'mere', 'hearts', 'live_blog', 'idea_limit', 'president_barack', 'switched', 'ind', 'domestically', 'municipalities', 'indepth', 'precious', 'flowers', 'gallery', 'identify_advance', 'warren_buffett', 'samuel', 'ensures', 'intensive', 'heels', 'awardwinning', 'largely_leaving', 'reuters_poll', 'outright', 'wechat', 'bottle', 'epidemiologists', 'mulan', 'negotiation', 'trophy', 'linda', 'varied', 'merger_agreement', 'reeling', 'chaotic', 'gold_silver', 'hertz', 'forecast_scenarios', 'entrance', 'durham', 'saas', 'assisted', 'anchor', 'organizing', 'beatrice', 'matched', 'hardest', 'deutsche', 'exposures', 'explicitly', 'lens', 'mess', 'adj', 'carers', 'bikes', 'lam', 'edited', 'rankings_video', 'activated', 'kane', 'exposing', 'grandmother', 'differentiated', 'supervisory_board', 'labour_leader', 'fierce', 'shame', 'electric_vehicle', 'fisheries', 'navarro', 'frustrating', 'fla', 'shenzhen', 'pero', 'harvey', 'documented', 'outreach', 'realization', 'circulation', 'syria', 'cafe', 'tightened', 'feb', 'stressful', 'czech_republic', 'afp', 'ct', 'ole_gunnar', 'beta', 'diligence', 'ghebreyesus', 'prosperity', 'courtesy', 'awful', 'socially_distanced', 'regret', 'rotation', 'rumours', 'innovate', 'accidents', 'redundancies', 'patience', 'ashley', 'pipelines', 'directive', 'monitors', 'salon', 'ps2', 'landlord', 'mccarthy', 'optimistic_probable', 'theories', 'bilateral', 'exclusion', 'devastation', 'exceeds', 'catholic', 'button', 'hat', 'ancient', 'boxing', 'table_argentinean', 'strategically', 'beneficiaries', 'expose', 'abandon', 'grandparents', 'cognitive', 'positives', 'plug', 'administer', 'gearing', 'snow', 'fiat_chrysler', 'hey', 'observers', 'leap', 'stephanie', 'instituted', 'problematic', 'reception', 'ir', 'canceling', 'tissues', 'rightofuse_assets', 'ps', 'mitigating', 'kay', 'closes', 'aforementioned', 'chairman_jerome', 'streets_cities', 'sec_filings', 'shelterinplace', 'peoples', 'phe', 'jpy', 'told_marketwatch', 'conviction', 'click_q1', 'intraday', 'administrator', 'postponing', 'julia', 'directions', 'marco', 'amazoncom_inc', 'edwards', 'proxy_materials', 'grain', 'robin', 'form_20f', 'greenhouse_gas', 'held_outdoors', 'spite', 'albert', 'trailer', 'flower', 'shanghai_composite', 'promotional', 'whatsoever', 'south_dakota', 'hurdles', 'sued', 'realities', 'nail', 'raising_specter', 'lobbying', 'cliff', 'yy', 'potent', 'voluntarily', 'welcoming', 'averaging', 'small_mediumsized', 'wwwsecgov', 'dragged', 'exponential', 'mastercard', 'championships', 'bubbles', 'noncurrent', 'debentures', 'cruise_ships', 'weaken', 'appropriately', 'cancelling', 'shah', 'delegates', 'loves', 'nearing', 'comparable_gaap', 'spin', 'nc', 'assume_obligation', 'cloud_computing', 'withdrawing', 'quietly', 'speeches', 'tranche', '1970s', 'prepaid_expenses', 'ability_attract', 'lingering', 'raw', 'directorgeneral', 'granting', 'proximity', 'slots', 'antonio', 'juan', 'negotiator', 'responsibly', 'tape', 'updating', 'trapped', 'hardesthit', 'sounded', 'birds', 'workout', 'disinfection', 'severely_ill', 'allocate', 'lobby', 'finalized', 'disasters', 'themes', 'unanticipated', 'omnichannel', 'dbrs_morningstar', 'prop', 'guns', 'esta', 'graph', 'penny', 'delta_air', 'speeds', 'predictable', 'aftermarket', 'invite', 'und', 'preserving', 'weekends', 'clarify', 'bathroom', 'toys', 'dispositions', 'customary', 'face_shields', 'booming', 'poised_grow', 'mers', 'spur', 'credit_cards', 'deficiency', 'steal', 'highway', 'trusts', 'roadmap', 'glasgow', 'overweight', 'stockpiles', 'voiced', 'adjacent', 'rage', 'unexpectedly', 'ebit_margin', 'southern_california', 'muted', 'thanked', 'establishments', 'sizing_forces', 'hailed', 'firing', 'deliberately', 'franchisees', 'promptly', 'succession', 'topping', 'outbreaks_prompting', 'passport', 'siemens', 'grubhub', 'spoilers', 'urged_demonstrators', 'invests', 'reuters_tally', 'watson', 'colin', 'jul_pti', 'technically', 'showcase', 'fined', 'verify', 'iceland', 'elect', 'jc_penney', 'uranium', 'caregivers', 'dies', 'hedges', 'suppress', 'jul', 'recipe', 'offsetting', 'air_settings', 'festive', 'mgm', 'societal', 'protesting', 'pessimistic_considering', 'leaders_physicians', 'protesters_express', 'experts_reassured', 'costeffective', 'n95_masks', 'equipment_ppe', 'crowds_surge', 'travel_bans', 'restarted', 'screened', 'leaders_affirmed', 'streams', 'scam', 'flagged', 'tube', 'redfield', 'filtration', 'timely_manner', 'musicians', 'afloat', 'transformative', 'multinational', 'quotes', 'ios', 'implies', 'crystal', 'recessions', 'stacey', 'sedar', 'respiratory_syndrome', 'turner', 'drugmakers', 'tedros_adhanom', 'qantas', 'rapidly_evolving', 'gottlieb', 'lien', 'compensation_expense', 'minimum_wage', 'server', 'portable', 'disclaims_obligation', 'notices', 'hide', 'resumes', 'nominal', 'totalled', 'objects', 'routines', 'heartbreaking', 'goodwill_intangible', 'datadriven', 'pocket', 'ghost', 'n95', 'hyundai', 'equitable', 'technavio_suggests', 'sank', 'terminate', 'read_conjunction', 'libor', '24hour', 'deadlines', 'nominees', 'schumer', 'impression', 'flowing', 'scott_morrison', 'ardern', 'windsor_castle', 'examination', 'listeners', 'sharma', 'odd', 'firefighters', 'iag', 'timetable', 'reinforce', 'answer_questions', 'echo', '3q', 'hospital_beds', 'condensed', 'wears', 'ugly', 'hahn', 'exercising', 'tmobile', 'outsourcing', 'practicing', 'acknowledging', 'gifts', 'civic', 'diversify', 'sand', 'soul', 'phrase', 'discounted', 'forming', 'stockholder', 'share_repurchases', 'blake', 'perry', 'policies_tsx', 'bridges', 'crack', 'directing', 'aum', 'uncover', 'styles', 'maharashtra', 'lucifer', 'experiments', 'theme_parks', 'condition_anonymity', 'garcia', 'morris', 'spdr', 'stuart', 'revival', 'modi', 'subscribe_cnbc', 'greater_manchester', 'favored', 'compounded', 'tankers', 'villages', 'alternate', 'immigrant', 'psg', 'slides', 'wwe', 'credibility', 'transmit', 'cincinnati', 'surrounded', 'critically', 'educators', 'impeachment', 'berkeley', 'readiness', 'sorrento', 'reits', 'irresponsible', 'unfortunate', 'barry', 'ridge', 'mediumterm', 'respects', 'measurements', 'air_pollution', 'variations_words', 'spike_protein', 'reject', 'trends_impacting', 'rub', 'retained_earnings', 'justices', 'starter', 'stockpiling', 'arranged', 'accumulated_comprehensive', 'ellis', 'jetblue', 'loneliness', 'pleaded', 'negotiators', 'holy', 'luis', 'sands', 'boundaries', 'innings', 'feasible', 'convertible_notes', 'billings', 'visitor', 'spy', 'parker', 'oversees', 'communicating', 'searches', 'perspectives', 'antibiotics', 'oversee', 'exporting_countries', 'functionality', 'offers_uptodate', 'niche', 'subway', 'livestock', 'quarterback', 'queue', 'attitudes', 'walter', '13f_filings', 'earlystage', 'insightcoronavirus', 'retreat', 'doordash', 'downturns', 'bat', 'brickandmortar', 'outflows', 'cape', 'house_commons', 'savers', 'designing', 'dos', 'donor', 'discontinued', 'scams', 'study_identifies', 'reasons_driving', 'fits', 'scalable', 'diamond_princess', 'caroline', 'riskier', 'tale', 'counterpart', 'thankfully', 'enclosed', 'correctly', 'seafood', 'holland', 'collaborating', 'pulse', 'rallying', 'bracing', 'lacking', 'enduring', 'widening', 'owning', 'buffer', 'tommy', 'malta', 'pressured', 'witnessing', 'ex', 'blockbuster', 'mac', 'prayers', 'venture_exchange', 'laugh', 'inputs', 'job_retention', 'risking', 'unitholders', 'presents_detailed', 'slate', 'pfizer_biontech', 'study_synthesis', 'summation_data', 'midlands', 'strained', 'sacrifices', 'inspiring', 'sullivan', 'tire', 'classification', 'communist_party', 'overseeing', 'derby', 'haul', 'prioritizing', 'specializes', 'sur', 'amassed', 'lined', 'boarding', 'opener', 'weapon', 'crashed', 'complementary', 'opera', 'resiliency', 'comprise', 'pact', 'recognizing', 'quartz', 'furnished', 'lombardy', 'supervision', 'dominance', 'fool', 'idaho', 'deteriorated', 'hbo_max', 'ce', 'angel', 'streamline', 'unrelated', 'parcel', 'jake', 'matrix', 'realworld', 'fc', 'school_districts', 'hello', 'critic', 'majors', 'ethanol', 'huffpost', 'fame', 'dressed', 'jury', 'shielding', 'pregnant_women', 'treasury_yields', 'horrible', 'dgap', 'sao_paulo', 'obama_administration', 'citizenship', 'comparable_similarly', 'hearings', 'shy', 'consumed', 'publishers', 'wastewater', 'bizarre', 'danish', 'speculative', 'nav', 'covidrelated', 'cashflow', 'yu', 'organization_petroleum', 'serie', 'uniform', 'theft', 'rebecca', 'glimpse', 'cloth', 'infusion', 'flulike', 'defendants', 'anticipate_believe', 'traced', 'barack_obama', 'dominic_raab', 'determined_accordance', 'lasted', 'lightning', 'impaired', 'queen_elizabeth', 'mi', 'festivals', 'eur1', 'asiapacific_latin', '4q', 'slip', 'seized', 'carl', 'nebraska', 'croatia', 'costcutting', 'wipe', 'privatesector', 'ottawa', 'autoimmune', 'whollyowned_subsidiary', 'governor_andrew', 'blog_post', 'prospectus_supplement', 'bancorp', 'alignment', 'educate', 'sheer', 'languages', 'aftertax', '14day', 'magnetic', 'algorithm', 'constituents', 'amounting', 'indians', 'sourced', 'philosophy', 'rbi', 'financed', 'nintendo', 'interrupted', 'patrons', 'heathrow', 'informing', 'oppose', 'marriott', 'ioc', 'bof', 'xinjiang', 'porter', 'progressing_cagr', 'scheduling', 'incorrect', 'vendors_focus', 'influencers', 'forbes', 'isin', 'emerges', 'prevalent', 'roman', 'casualty', 'subsidy', 'unsure', 'contacting', 'fernandes', 'exploit', 'weightedaverage', 'segments_maintaining', 'xbox', 'appreciated', 'promotions', 'nonyous', 'technavio_monitoring', 'mystery', 'highspeed', 'respirators', 'resistant', 'griffin', 'prospects_fastgrowing', 'conscious', 'screenings', 'dried', 'answering', 'brunt', 'grand_slam', 'boj', 'replicate', 'retrospect', 'multifamily', 'seal', 'warner', 'luke', 'the\\ncompanys', 'brookfield', 'purely', 'missions', 'zuckerberg', 'scope_technavio', 'rentals', 'enters', 'tripled', 'insist', 'assisting', 'unaudited_condensed', 'walsh', 'bayer', 'ft', 'sunshine', 'yale', 'oz', 'arrives', 'accretion', 'strictly_come', 'hepatitis', 'swung', 'industrials', 'japanese_yen', 'fastest_growing', 'kilometres', 'cole', 'atrisk', 'trudeau', 'passionate', 'allied', 'schneider', 'jared', 'fraudulent', 'ginsburg', 'landscape_geographic', 'presidentelect_joe', 'recycled', 'safest', 'downgrade', 'nordic', 'thorough', 'arrests', 'devoted', 'deteriorating', 'collaborators', 'midjune', 'disposition', '11th', 'skip', 'consultations', 'enquiries', 'socioeconomic', 'filed_bankruptcy', 'timeframe', 'bargain', 'terrifying', 'sing', 'adversely_affected', 'pathways', 'repurchase_program', 'calculated_accordance', 'usps', 'lands', 'prc', 'martinez', 'assays', 'b2b', 'cytokine', 'surviving', 'credited', 'reasonable_assumptions', 'austerity', 'curbside_pickup', 'sparks', 'vitamin', 'suppression', 'interestingly', 'dawn', 'terminals', 'directives', 'teleconference', 'amgen', 'academics', 'construed', 'tasked', 'follow_yahoo', 'seeds', 'foremost', 'veterinary', 'bump', 'relentless', 'near_zero', 'concepts', 'audio_webcast', 'vitamin_d', 'jacksonville', 'submissions', 'endpoints', 'teenagers', 'healing', 'competitiveness', 'adequacy', 'gabriel', 'appliances', 'chocolate', 'mounted', 'elliott', 'santander', 'liz', 'myanmar', 'outperforming', 'kushner', 'issuer_solely', 'downs', 'straightforward', 'packaged', 'peaks', 'api', 'lasts', 'unlawful', 'franchises', 'offbalance_sheet', 'restructure', 'complying', 'suga', 'bernstein', 'sin', 'noncontrolling_interest', 'revolving', 'tighten', 'directly_indirectly', 'wrap', 'distressed', 'succeeded', 'adaptive', 'authorisation', 'hike', 'attributes', 'noncore', 'oakland', 'violated', 'knocked', 'convicted', 'worsthit', 'youturn', 'recalls', 'barnier', 'positions_slowgrowing', 'joked', 'youks', 'discrete', 'mapping', 'cocktail', 'nash', 'north_korean', 'biodiversity', 'raab', 'seasonally_adjusted', 'compassion', 'ghana', 'ideally', 'warner_bros', 'league_baseball', 'jobkeeper', 'info', 'curtail', 'metre', 'honeywell', 'motivation', 'sisters', 'swings', 'ncis', 'worship', 'shirt', 'troubling', 'dealerships', 'reddit', 'venice', 'compromised', '12th', 'enduser', 'calgary', 'facial', 'smallest', 'chambers', 'ing', 'twoday', 'tense', 'deserves', 'words_phrases', 'ards', 'contingent_consideration', 'throat', 'immunization', 'wrapped', 'outline', 'combating', 'holmes', 'defeated', 'claimants', 'president_emmanuel', 'pegged', 'debit', 'roosevelt', 'testament', 'harassment', 'regimen', '19th', 'grey', 'supporter', 'strive', 'varies', 'assistant_professor', 'grapple', 'evacuation', 'stoxx_europe', 'reproduction', 'mit', 'amplified', 'bestinclass', 'romania', 'builders', 'colony', 'discharge', 'reply', 'drones', 'lethal', 'laptop', 'contemporary', 'democrats_republicans', 'mindful', 'directtoconsumer', 'measles', 'unwell', 'staterun', 'researching', 'consistency', 'pile', 'endless', 'class_b', 'endorsement', 'noble', 'town_hall', 'spends', 'polish', 'credible', 'running_mate', 'repairs', 'richest', 'teenager', 'accomplished', 'sara', 'petrol', 'fossil_fuels', 'crushed', 'legs', 'fearful', 'assembled', 'deficits', 'ridiculous', 'thoroughly', 'drone', 'brave', 'unsafe', 'gene_therapy', 'g20', 'video_conferencing', 'resins', 'feel_comfortable', 'kudlow', 'hand_sanitiser', 'artificial', 'prayer', 'owe', 'icon', 'starring', 'costar', 'ema', 'sequencing', 'noon', 'epicentre', 'occasionally', 'postcovid', 'playing_field', 'endured', 'newest', 'epidemiological', 'lgbtq', 'absorb', 'bolstered', 'disappeared', 'scan', 'libraries', 'blaming', 'ingredient', 'pfe', 'accrued_expenses', 'toughest', 'psa', 'domestic_violence', 'hospitalised', 'fueling', 'john_lewis', 'hm', 'opting', 'surgical_masks', 'medium_term', 'siriusxm', 'renowned', 'loses', 'cac', 'clues', 'fake_news', 'vouchers', 'counterparties', 'bulls', 'discovering', 'examining', 'dust', 'hiatus', 'nordstrom', 'setback', 'west_coast', 'capacities', 'tract', 'precautionary_measures', 'rhode_island', 'blood_vessels', 'shaped', 'jurgen_klopp', 'falsely', 'reds', 'key_topics', 'confronted', 'abu_dhabi', 'recreation', 'footing', 'zoo', 'clinicalstage', 'os', 'payables', 'undermining', 'pete', 'bse', 'logged', 'honored', 'upstream', 'exceptionally', 'restored', 'portions', 'pros', 'administrative_expenses', 'transplant', 'hypertension', 'wartime', 'raging', 'iphones', 'propaganda', 'justified', 'preclinical_studies', 'trends_vendor', 'painted', 'quantum', 'yemen', 'psychology', 'nerve', 'qualitative', 'absentee_ballots', 'fintech_times', 'phone_calls', 'feet_apart', 'rodriguez', 'primaries', 'competitive_landscape', 'divestiture', 'inspector_general', 'egg', 'organ', 'expressly_qualified', 'modification', 'validation', 'werner', 'slew', 'busiest', 'fled', 'backs', 'prove_correct', 'downstream', 'madison', 'bryant', 'intervene', 'steering', 'stabilized', 'jazz', 'copyright_c', 'reflective', 'marketable_securities', 'cyprus', 'mcenany', 'erupted', 'overwhelmingly', 'northeastern', 'judiciary', 'allowances', 'nathan', 'intimate', 'carrie', 'habit', 'denial', 'in\\nthe', 'yankees', 'reelected', 'repurchases', 'unusually', 'sierra', 'laptops', 'thriving', 'metallurgical', 'proves', 'hinted', 'disneyland', 'philippe', 'belgian', 'tiers', 'farmer', 'reinforced', 'pessimistic', 'maxwell', 'purchasing_managers', 'mountains', 'disadvantaged', 'overly', 'carol', 'vii', 'scare', 'photographs', 'centered', 'enhancement', 'sprint', 'floors', 'den', 'invasive', 'honda', 'munich', 'recognizes', 'hazard', 'hereof', 'swaps', 'plate', 'woes', 'spurs', 'prescriptions', 'unaltered_utc', 'ash', 'jesus', 'respiratory_illness', 'crashes', 'registering', 'happiness', 'bluetooth', 'nok', 'ecuador', 'rashford', 'junk', 'lyon', 'op', 'apollo', 'baking', 'legal_proceedings', 'laser', 'national_instrument', 'anytime_soon', 'scramble', 'ishares', 'lodging', 'wto', 'hug', 'memorandum', 'mutation', 'merit', 'table_iranian', 'galaxy', 'levy', 'stolen', 'hit_hardest', 'ana', 'nova', 'noncurrent_liabilities', 'audit_committee', 'rounded', 'makeshift', 'dennis', 'loud', 'observation', 'germs', 'courage', 'benzinga', 'tapped', 'handing', 'poster', 'peerreviewed', 'retaining', 'loads', 'breadth', 'ear', 'girlfriend', 'orbit', 'pillar', 'existed', 'carmaker', 'catalysts', 'worstcase_scenario', 'novartis', 'lilly', 'embracing', 'temple', 'shine', 'lacked', 'ralph', 'saudi_arabian', 'stranger', 'ace', 'processors', 'retiring', 'churchill', 'math', 'steroid', 'bytedance', 'southampton', 'commercializing', 'nhs_heroes', 'bahrain', 'tendered', 'teens', 'scarce', 'policy_makers', 'finals', 'partners_lp', 'coating', 'tax_credits', 'fidelity', 'bitter', '15th', 'subdued', 'north_dakota', 'interpreted', 'empowering', 'luxembourg', 'bangkok', 'kyle', 'rover', 'diplomat', 'wayne', 'drivethru', 'evacuated', 'jill', 'bowl', 'homelessness', 'imagined', 'validated', 'west_virginia', 'watches', 'survey_conducted', 'flipboard', 'restoration', 'fund_managers', 'apr', 'stoxx', 'abruptly', 'red_devils', 'friendship', 'schooling', 'adaptation', 'seize', 'reagents', 'provisional', 'valueadded', 'gig_economy', 'deloitte', 'hurricanes', 'dana', 'painting', 'ncaa', 'barring', 'prosecutor', 'resist', 'inhibitors', 'abide', 'seismic', 'rationale', 'fernandez', 'nonrecurring_items', 'amend', 'ravaged', 'alexandra', 'handles', 'reckless', 'displaying', 'shortened', 'tipped', 'pioneering', 'angela_merkel', 'amounted_eur', 'q120', 'methodologies', 'translated', 'bofa', 'unused', 'sue', 'hamper', 'flynn', 'meadows', 'wisdom', 'wheel', 'connects', 'college_football', 'fairness', 'finger', 'cleaned', 'successive', 'accordance_gaap', 'refractory', 'lynch', 'segmented_learn', 'mice', 'diy', 'tollfree', 'chuck', 'briefed', 'constitute_offer', 'bout', 'creator', 'periods_presented', 'angela', 'dirty', 'hedged', 'suited', 'patented', 'extinguishment_debt', 'pedro', 'dig', 'progressed', 'lion', 'reclassified', 'vr', 'need_instantly', 'nih', 'originally_scheduled', 'dr_sanjay', 'report_awardwinning', 'solution_reportlinker', 'finds_organizes', 'imperial_college', 'columbus', 'preseason', 'decides', 'organize', '2020s', 'harry_meghan', 'bernard', 'vulnerabilities', 'steps_ease', 'escalated', 'slashing', 'customized', 'wildfire', 'precarious', 'recipient', 'viewer', 'michel', 'flown', 'costing', 'floods', 'bradley', 'religion', 'validly', 'affo', 'kospi', 'curious', 'meur', 'haven', 'mourinho', 'desired', 'contend', 'consolidate', 'appealed', 'void', 'origination', 'tangible_common', 'tank', '4th', 'reconsider', 'positivity', 'leave_stone', 'exporters', 'cornerstone', 'goodwill_impairment', 'buoyed', 'bloom', 'playbook', 'claire', 'console', 'preventative', 'banner', 'modules', 'bidding', 'seasonality', 'highly_uncertain', 'disrupting', 'endure', 'duchess_cambridge', 'dortmund', 'coordinating', 'clashes', 'hammer', 'underserved', 'appeared_huffpost', 'weakest', 'immunology', 'reinvent', 'disposals', 'nodeal', 'tipranks', 'sufficiently', 'heavyweight', 'grandchildren', 'contributes', 'borussia_dortmund', 'massively', 'bankrupt', 'helicopter', 'passive', 'trough', 'concession', 'exacerbate', 'chris_whitty', 'identical', 'notwithstanding', 'obliged', 'keys', 'pentup_demand', 'dans', 'surpassing', 'index_spx', 'fiction', 'flooded', 'deck', 'crying', 'pat', 'wow', 'julian', 'taxi', 'congestion', 'uncertainty_surrounding', 'reversing', 'literature', 'nightclubs', 'rescue_package', 'affair', 'sevenday', 'dish', 'proposing', 'underwriters', 'unfolding', 'remembered', 'fitzgerald', 'pleasure', 'cooperate', 'jurisdiction_offer', 'sparking', 'retaliation', 'variables', 'previously_disclosed', 'heal', 'sheriff', 'alternatively', 'belarus', 'heights', 'prodemocracy', 'practically', 'expands', 'divorce', 'kaiser', 'staggered', 'mad', 'epa', 'daily_beast', 'underscored', 'kenneth', 'sovereignty', 'presidential_candidate', 'flattening', 'civilian', 'hefty', 'susanna', 'conceded', 'ought', 'disturbing', 'neurological', 'pursued', 'close_proximity', 'contested', '1960s', 'northwestern', 'loop', 'rocky', 'alison', 'qualcomm', 'subordinated', 'leo', 'bullet', 'newswires', 'meaningfully', 'twist', 'understandable', 'davies', 'diminished', 'foreseeable', 'civil_war', 'nigerian', 'ski', 'breakout', 'hay', 'serbia', 'richardson', 'mediterranean', 'depletion', 'billy', 'hockey', 'threequarters', 'ronaldo', '3q19', 'genetics', 'lloyd', 'prevents', 'commander', 'technicians', 'brighton', 'chang', 'systemic_racism', 'otcqb', 'stateoftheart', 'bmo', 'personas', 'mentally', 'criminals', 'springs', 'gavin', '17th', 'sq', 'waivers', 'unturned_looking', 'forgiven', 'refineries', 'burst', 'comedian', 'losers', 'ensured', 'disagree', 'quantity', 'consensus_estimate', 'kate_middleton', 'restoring', 'rookie', 'rivers', 'cake', 'constructive', 'arthur', 'narendra_modi', 'servers', 'lopez_obrador', 'uneven', 'amazoncom', 'oxide', 'jewelry', 'severe_acute', 'klopp', 'placebocontrolled', 'desantis', 'unveil', 'blasted', 'prioritise', 'coworkers', 'chargeoffs', 'distraction', 'communal', 'published_insider', 'timothy', 'imperial', 'contingency', 'addiction', 'heated', 'newer', 'order_intake', 'facts_figures', 'terror', 'cio', 'coauthor', 'disinfecting', 'object', 'fema', 'rb', 'ineffective', 'sake', 'rebounding', 'companyfollowemail_disclosure', 'cos', 'myers', 'funerals', 'lopez', 'hilton', 'serum', 'k12', 'speedy', 'vshaped_recovery', 'weekdays', 'hmrc', 'tanks', 'biogen', 'browser', 'unmet_medical', 'louisville', 'fronts', 'laundry', 'jean', 'cyber_security', 'standpoint', 'investigator', 'loaded', 'insulin', 'bronx', 'mario', 'commencing', 'nielsen', 'cattle', 'proceeding', 'jv', 'boycott', 'impairment_charge', 'lawmaker', 'fifa', 'reusable', 'omx', 'leipzig', 'h2', 'msft', 'aluminium', 'sally', 'kremlin', 'lululemon', 'crypto', '\\n\\n\\n\\n\\n\\n\\r\\n\\r\\n', '10year_treasury', 'thick', 'kohl', 'vanguard', 'hostile', 'inconsistent', 'fa', 'periodic_reports', 'dissemination', 'aggregated', 'asc', 'smoothly', 'apology', 'alliances', 'substitutes', 'taskforce', 'systematic', 'sheffield', 'reynolds', 'wards', 'prestigious', 'oecd', 'asda', 'sidelines', 'emission', 'onwards', 'gov_gavin', 'robinhood', 'gravity', 'bargaining', 'travis', 'presidentelect', 'poultry', 'outdated', 'austrian', 'unreasonable', 'melissa', 'michel_barnier', 'trade_payables', 'snacks', 'believing', 'smarter', 'robotic', 'anticipates_believes', 'victor', 'businesswirecom_contacts', 'hugh', 'lagged', 'fossil_fuel', 'supplementary', 'electronically', 'layers', 'withholding', 'tehran', 'centuries', 'compassionate'])"
      ]
     },
     "execution_count": 22,
     "metadata": {},
     "output_type": "execute_result"
    }
   ],
   "source": [
    "dictionary.keys()"
   ]
  },
  {
   "cell_type": "code",
   "execution_count": 23,
   "id": "914f292c-2e44-45ba-99fa-70a95629dcfc",
   "metadata": {
    "tags": []
   },
   "outputs": [
    {
     "data": {
      "text/plain": [
       "1143"
      ]
     },
     "execution_count": 23,
     "metadata": {},
     "output_type": "execute_result"
    }
   ],
   "source": [
    "dictionary['supply_chain']"
   ]
  },
  {
   "cell_type": "code",
   "execution_count": null,
   "id": "e517032c-c9b4-47c8-a915-eb09009cec2b",
   "metadata": {},
   "outputs": [
    {
     "name": "stdout",
     "output_type": "stream",
     "text": [
      "381329638\n"
     ]
    }
   ],
   "source": [
    "process = True\n",
    "window_size = 3\n",
    "\n",
    "if process:\n",
    "    # ~30 mins to run\n",
    "    word_target, word_context, labels = word2vec.get_training_data(data, window_size)\n",
    "    np.save('word_target', word_target)\n",
    "    np.save('word_context', word_context)\n",
    "    np.save('labels', labels)\n",
    "else:\n",
    "    word_target = np.load('word_target.csv.npy')\n",
    "    word_context = np.load('word_context.csv.npy')\n",
    "    labels = np.load('labels.csv.npy')\n",
    "    \n",
    "print(len(word_target))\n",
    "print(len(word_context))\n",
    "print(len(labels))"
   ]
  },
  {
   "cell_type": "code",
   "execution_count": 29,
   "id": "a3e03a80-aa71-43e6-ab4f-d70bd693872d",
   "metadata": {},
   "outputs": [
    {
     "name": "stdout",
     "output_type": "stream",
     "text": [
      "[1371  178 2317  352 1146]\n",
      "[9860 1223  328   16 1834]\n",
      "[0 1 0 1 1]\n"
     ]
    }
   ],
   "source": [
    "print(word_target[:5])\n",
    "print(word_context[:5])\n",
    "print(labels[:5])"
   ]
  },
  {
   "cell_type": "markdown",
   "id": "85554903-04ea-489c-8c91-e75ab5a13f3c",
   "metadata": {},
   "source": [
    "### Parameter Notes\n",
    "\n",
    "BATCH SIZE ADJ  \n",
    "20210414-082710 - shows training improvement from 0.69 to 0.43 loss  \n",
    "aritcles 50,000  \n",
    "batch_size 1000  \n",
    "epochs 5000  \n",
    "\n",
    "ARTICLES PROCESSED ADJ   \n",
    "20210413-204616 - shows training improvement from 0.69 to 0.52 loss  \n",
    "aritcles 20,000  \n",
    "batch_size 100  \n",
    "epochs 5000 \n",
    "\n",
    "LEARNING RATE ADJ  \n",
    "20210413-161618 - shows training improvement from 0.69 to 0.68 loss  \n",
    "aritcles 50,000  \n",
    "batch_size 100  \n",
    "epochs 5000\n",
    "learning rate = 1e-4 (normally 1e-3)"
   ]
  },
  {
   "cell_type": "code",
   "execution_count": null,
   "id": "8b6be98e-81dd-46b8-9c55-46d645a08d2e",
   "metadata": {},
   "outputs": [],
   "source": [
    "epochs = 2000\n",
    "batch_size = 1024\n",
    "buffer_size = 10000\n",
    "\n",
    "# Configure dataset as tf dataset to improve performance\n",
    "dataset = tf.data.Dataset.from_tensor_slices(((word_target, word_context), labels))\n",
    "dataset = dataset.shuffle(buffer_size).batch(batch_size, drop_remainder=True)\n",
    "print(dataset)"
   ]
  },
  {
   "cell_type": "code",
   "execution_count": null,
   "id": "c69d4f67-7ac1-498a-b7e7-c8b83e6f540d",
   "metadata": {},
   "outputs": [],
   "source": [
    "dataset = dataset.cache().prefetch(buffer_size=AUTOTUNE)\n",
    "print(dataset)"
   ]
  },
  {
   "cell_type": "code",
   "execution_count": 39,
   "id": "50c02538-a735-4479-9257-cb6200150eb2",
   "metadata": {},
   "outputs": [
    {
     "ename": "KeyboardInterrupt",
     "evalue": "",
     "output_type": "error",
     "traceback": [
      "\u001b[0;31m---------------------------------------------------------------------------\u001b[0m",
      "\u001b[0;31mKeyboardInterrupt\u001b[0m                         Traceback (most recent call last)",
      "\u001b[0;32m<ipython-input-39-73c259a6e253>\u001b[0m in \u001b[0;36m<module>\u001b[0;34m\u001b[0m\n\u001b[1;32m      4\u001b[0m \u001b[0mlogger\u001b[0m\u001b[0;34m.\u001b[0m\u001b[0minfo\u001b[0m\u001b[0;34m(\u001b[0m\u001b[0;34m\"Training model with {} epochs\"\u001b[0m\u001b[0;34m.\u001b[0m\u001b[0mformat\u001b[0m\u001b[0;34m(\u001b[0m\u001b[0mepochs\u001b[0m\u001b[0;34m)\u001b[0m\u001b[0;34m)\u001b[0m\u001b[0;34m\u001b[0m\u001b[0;34m\u001b[0m\u001b[0m\n\u001b[1;32m      5\u001b[0m \u001b[0;34m\u001b[0m\u001b[0m\n\u001b[0;32m----> 6\u001b[0;31m \u001b[0mmodel\u001b[0m \u001b[0;34m=\u001b[0m \u001b[0mword2vec\u001b[0m\u001b[0;34m.\u001b[0m\u001b[0mtrain_model\u001b[0m\u001b[0;34m(\u001b[0m\u001b[0mepochs\u001b[0m\u001b[0;34m,\u001b[0m \u001b[0mbatch_size\u001b[0m\u001b[0;34m,\u001b[0m \u001b[0mword_target\u001b[0m\u001b[0;34m,\u001b[0m \u001b[0mword_context\u001b[0m\u001b[0;34m,\u001b[0m \u001b[0mlabels\u001b[0m\u001b[0;34m)\u001b[0m\u001b[0;34m\u001b[0m\u001b[0;34m\u001b[0m\u001b[0m\n\u001b[0m",
      "\u001b[0;32m<ipython-input-37-588ddc91df0a>\u001b[0m in \u001b[0;36mtrain_model\u001b[0;34m(self, epochs, batch_size, word_target, word_context, labels)\u001b[0m\n\u001b[1;32m    171\u001b[0m \u001b[0;34m\u001b[0m\u001b[0m\n\u001b[1;32m    172\u001b[0m         \u001b[0;32mfor\u001b[0m \u001b[0mi\u001b[0m \u001b[0;32min\u001b[0m \u001b[0mrange\u001b[0m\u001b[0;34m(\u001b[0m\u001b[0mepochs\u001b[0m\u001b[0;34m)\u001b[0m\u001b[0;34m:\u001b[0m\u001b[0;34m\u001b[0m\u001b[0;34m\u001b[0m\u001b[0m\n\u001b[0;32m--> 173\u001b[0;31m             \u001b[0midx\u001b[0m \u001b[0;34m=\u001b[0m \u001b[0mnp\u001b[0m\u001b[0;34m.\u001b[0m\u001b[0mrandom\u001b[0m\u001b[0;34m.\u001b[0m\u001b[0mchoice\u001b[0m\u001b[0;34m(\u001b[0m\u001b[0mlist\u001b[0m\u001b[0;34m(\u001b[0m\u001b[0mrange\u001b[0m\u001b[0;34m(\u001b[0m\u001b[0mlen\u001b[0m\u001b[0;34m(\u001b[0m\u001b[0mlabels\u001b[0m\u001b[0;34m)\u001b[0m\u001b[0;34m)\u001b[0m\u001b[0;34m)\u001b[0m\u001b[0;34m,\u001b[0m \u001b[0msize\u001b[0m\u001b[0;34m=\u001b[0m\u001b[0mbatch_size\u001b[0m\u001b[0;34m,\u001b[0m \u001b[0mreplace\u001b[0m\u001b[0;34m=\u001b[0m\u001b[0;32mFalse\u001b[0m\u001b[0;34m)\u001b[0m\u001b[0;34m\u001b[0m\u001b[0;34m\u001b[0m\u001b[0m\n\u001b[0m\u001b[1;32m    174\u001b[0m             \u001b[0marr_1\u001b[0m\u001b[0;34m[\u001b[0m\u001b[0;34m:\u001b[0m\u001b[0;34m]\u001b[0m \u001b[0;34m=\u001b[0m \u001b[0mnp\u001b[0m\u001b[0;34m.\u001b[0m\u001b[0marray\u001b[0m\u001b[0;34m(\u001b[0m\u001b[0;34m[\u001b[0m\u001b[0mword_target\u001b[0m\u001b[0;34m[\u001b[0m\u001b[0mi\u001b[0m\u001b[0;34m]\u001b[0m \u001b[0;32mfor\u001b[0m \u001b[0mi\u001b[0m \u001b[0;32min\u001b[0m \u001b[0midx\u001b[0m\u001b[0;34m]\u001b[0m\u001b[0;34m)\u001b[0m\u001b[0;34m\u001b[0m\u001b[0;34m\u001b[0m\u001b[0m\n\u001b[1;32m    175\u001b[0m             \u001b[0marr_2\u001b[0m\u001b[0;34m[\u001b[0m\u001b[0;34m:\u001b[0m\u001b[0;34m]\u001b[0m \u001b[0;34m=\u001b[0m \u001b[0mnp\u001b[0m\u001b[0;34m.\u001b[0m\u001b[0marray\u001b[0m\u001b[0;34m(\u001b[0m\u001b[0;34m[\u001b[0m\u001b[0mword_context\u001b[0m\u001b[0;34m[\u001b[0m\u001b[0mi\u001b[0m\u001b[0;34m]\u001b[0m \u001b[0;32mfor\u001b[0m \u001b[0mi\u001b[0m \u001b[0;32min\u001b[0m \u001b[0midx\u001b[0m\u001b[0;34m]\u001b[0m\u001b[0;34m)\u001b[0m\u001b[0;34m\u001b[0m\u001b[0;34m\u001b[0m\u001b[0m\n",
      "\u001b[0;31mKeyboardInterrupt\u001b[0m: "
     ]
    }
   ],
   "source": [
    "epochs = 2000\n",
    "batch_size = 1000\n",
    "\n",
    "logger.info(\"Training model with {} epochs\".format(epochs))\n",
    "\n",
    "#model = word2vec.train_model(epochs, batch_size, word_target, word_context, labels)\n",
    "model = word2vec.train_model(epochs, batch_size, dataset)\n"
   ]
  },
  {
   "cell_type": "code",
   "execution_count": null,
   "id": "desperate-mining",
   "metadata": {},
   "outputs": [],
   "source": []
  },
  {
   "cell_type": "markdown",
   "id": "c60828d0-644a-46eb-bb07-ebcd587166e9",
   "metadata": {},
   "source": [
    "# Document Vectors and Topic Modelling"
   ]
  },
  {
   "cell_type": "code",
   "execution_count": null,
   "id": "7c337980-49f6-4707-88b1-75fe5b92d135",
   "metadata": {},
   "outputs": [],
   "source": [
    "from gensim.models.doc2vec import Doc2Vec, TaggedDocument\n",
    "#import umap\n",
    "import umap.umap_ as umap\n",
    "import hdbscan\n",
    "from sklearn.preprocessing import normalize\n",
    "from sklearn.cluster import dbscan"
   ]
  },
  {
   "cell_type": "code",
   "execution_count": 14,
   "id": "1bffda0d-a537-4478-a2bf-8740aeb5028d",
   "metadata": {},
   "outputs": [
    {
     "ename": "NameError",
     "evalue": "name 'model' is not defined",
     "output_type": "error",
     "traceback": [
      "\u001b[0;31m---------------------------------------------------------------------------\u001b[0m",
      "\u001b[0;31mNameError\u001b[0m                                 Traceback (most recent call last)",
      "\u001b[0;32m<ipython-input-14-5f288050c95a>\u001b[0m in \u001b[0;36m<module>\u001b[0;34m\u001b[0m\n\u001b[0;32m----> 1\u001b[0;31m \u001b[0mword_embeddings\u001b[0m \u001b[0;34m=\u001b[0m \u001b[0mget_word_vectors\u001b[0m\u001b[0;34m(\u001b[0m\u001b[0mmodel\u001b[0m\u001b[0;34m)\u001b[0m\u001b[0;34m\u001b[0m\u001b[0;34m\u001b[0m\u001b[0m\n\u001b[0m\u001b[1;32m      2\u001b[0m \u001b[0mprint\u001b[0m\u001b[0;34m(\u001b[0m\u001b[0mlen\u001b[0m\u001b[0;34m(\u001b[0m\u001b[0mword_embeddings\u001b[0m\u001b[0;34m)\u001b[0m\u001b[0;34m)\u001b[0m\u001b[0;34m\u001b[0m\u001b[0;34m\u001b[0m\u001b[0m\n\u001b[1;32m      3\u001b[0m \u001b[0mword_embeddings\u001b[0m\u001b[0;34m\u001b[0m\u001b[0;34m\u001b[0m\u001b[0m\n",
      "\u001b[0;31mNameError\u001b[0m: name 'model' is not defined"
     ]
    }
   ],
   "source": [
    "word_embeddings = get_word_vectors(model)\n",
    "print(len(word_embeddings))\n",
    "word_embeddings"
   ]
  },
  {
   "cell_type": "code",
   "execution_count": 48,
   "id": "2747796d-e1c2-438d-8abe-77c021105685",
   "metadata": {},
   "outputs": [],
   "source": [
    "documents = df['content_processed'][:50000]"
   ]
  },
  {
   "cell_type": "code",
   "execution_count": 49,
   "id": "35ddcf7d-83ea-48da-8246-8abb9de73ba1",
   "metadata": {},
   "outputs": [
    {
     "name": "stdout",
     "output_type": "stream",
     "text": [
      "<class 'numpy.ndarray'>\n",
      "<class 'pandas.core.series.Series'>\n",
      "<class 'dict'>\n"
     ]
    }
   ],
   "source": [
    "print(type(word_embeddings))\n",
    "print(type(documents))\n",
    "print(type(reversed_dictionary))"
   ]
  },
  {
   "cell_type": "code",
   "execution_count": 73,
   "id": "e12ed6e8-bbaf-4632-b803-2c402bdaea00",
   "metadata": {},
   "outputs": [],
   "source": [
    "class Doc2VecCustom:\n",
    "    \"\"\"\n",
    "    apply doc2vec to text\n",
    "    \"\"\"\n",
    "\n",
    "    def __init__(self, logger, documents, reversed_dictionary, word_embeddings):\n",
    "        \"\"\"\n",
    "        Args:\n",
    "        \"\"\"\n",
    "        self.logger = logger        \n",
    "        self.documents = documents\n",
    "        self.index_to_word_dict = reversed_dictionary\n",
    "        self.word_embeddings = word_embeddings\n",
    "\n",
    "        logger.info('Pre-processing documents for training')\n",
    "\n",
    "        train_corpus = [TaggedDocument(doc, [i]) for i, doc in enumerate(documents)]\n",
    "        \n",
    "        logger.info('Creating joint document/word embedding')\n",
    "        #self.model = Doc2Vec(**doc2vec_args)\n",
    "        self.model = Doc2Vec(vector_size = 250,\n",
    "                min_count = 50, # ignores words with total frequency lower than this\n",
    "                window = 15, # maximum distance between the current and predicted word within a sentence\n",
    "                sample = 1e-5, # threshold for configuring which higher frequency words are randomly downsampled\n",
    "                workers = 8, # CPU's to use\n",
    "                negative = 0, # 0 = no negative sampling\n",
    "                hs = 1, # 1 = hierarchical softmax, 0 + neg non-zero = negative sampling\n",
    "                epochs = 200,\n",
    "                dm = 0, # 0 = Distributed bag of words (PV_DBOW), 1 = Distributed memory (PV-DM)\n",
    "                dbow_words = 0, # 1 = train word-vecctors, 0 = only train doc-vectors\n",
    "                documents = train_corpus)\n",
    "        \n",
    "        print('point 1')\n",
    "        \n",
    "        \n",
    "        # create 5D embeddings of documents\n",
    "        logger.info('Creating lower dimension embedding of documents')\n",
    "        \n",
    "        umap_args = {'n_neighbors': 15,\n",
    "                     'n_components': 5,\n",
    "                     'metric': 'cosine'}\n",
    "        \n",
    "        umap_model = umap.UMAP(**umap_args).fit(self._get_document_vectors(norm=False))\n",
    "\n",
    "        # find dense areas of document vectors\n",
    "        logger.info('Finding dense areas of documents')\n",
    "        \n",
    "        hdbscan_args = {'min_cluster_size': 15,\n",
    "                         'metric': 'euclidean',\n",
    "                         'cluster_selection_method': 'eom'}\n",
    "\n",
    "        cluster = hdbscan.HDBSCAN(**hdbscan_args).fit(umap_model.embedding_)\n",
    "        \n",
    "        # calculate topic vectors from dense areas of documents\n",
    "        logger.info('Finding topics')\n",
    "\n",
    "        # create topic vectors\n",
    "        self._create_topic_vectors(cluster.labels_)\n",
    "\n",
    "        # deduplicate topics\n",
    "        self._deduplicate_topics()\n",
    "\n",
    "        # find topic words and scores\n",
    "        self.topic_words, self.topic_word_scores = self._find_topic_words_and_scores(topic_vectors=self.topic_vectors)\n",
    "        \n",
    "        # assign documents to topic\n",
    "        self.doc_top, self.doc_dist = self._calculate_documents_topic(self.topic_vectors,\n",
    "                                                                      self._get_document_vectors())\n",
    "\n",
    "        # calculate topic sizes\n",
    "        self.topic_sizes = self._calculate_topic_sizes(hierarchy=False)\n",
    "\n",
    "        # re-order topics\n",
    "        self._reorder_topics(hierarchy=False)\n",
    "        \n",
    "    @staticmethod\n",
    "    def _l2_normalize(vectors):\n",
    "\n",
    "        if vectors.ndim == 2:\n",
    "            return normalize(vectors)\n",
    "        else:\n",
    "            return normalize(vectors.reshape(1, -1))[0]\n",
    "    \n",
    "    def _get_document_vectors(self, norm=True):\n",
    "\n",
    "        if norm:\n",
    "            #self.model.dv.init_sims()\n",
    "            #return self.model.dv.vectors_docs_norm\n",
    "            return self.model.dv.get_normed_vectors()\n",
    "        else:\n",
    "            return self.model.dv.vectors\n",
    "    \n",
    "    def _create_topic_vectors(self, cluster_labels):\n",
    "\n",
    "        unique_labels = set(cluster_labels)\n",
    "        if -1 in unique_labels:\n",
    "            unique_labels.remove(-1)\n",
    "        self.topic_vectors = self._l2_normalize(\n",
    "            np.vstack([self._get_document_vectors(norm=False)[np.where(cluster_labels == label)[0]]\n",
    "                      .mean(axis=0) for label in unique_labels]))\n",
    "\n",
    "    def _deduplicate_topics(self):\n",
    "        core_samples, labels = dbscan(X=self.topic_vectors,\n",
    "                                      eps=0.1,\n",
    "                                      min_samples=2,\n",
    "                                      metric=\"cosine\")\n",
    "\n",
    "        duplicate_clusters = set(labels)\n",
    "\n",
    "        if len(duplicate_clusters) > 1 or -1 not in duplicate_clusters:\n",
    "\n",
    "            # unique topics\n",
    "            unique_topics = self.topic_vectors[np.where(labels == -1)[0]]\n",
    "\n",
    "            if -1 in duplicate_clusters:\n",
    "                duplicate_clusters.remove(-1)\n",
    "\n",
    "            # merge duplicate topics\n",
    "            for unique_label in duplicate_clusters:\n",
    "                unique_topics = np.vstack(\n",
    "                    [unique_topics, self._l2_normalize(self.topic_vectors[np.where(labels == unique_label)[0]]\n",
    "                                                       .mean(axis=0))])\n",
    "\n",
    "            self.topic_vectors = unique_topics\n",
    "            \n",
    "    def _index2word(self, index):\n",
    "        return self.index_to_word_dict[index]\n",
    "\n",
    "    def _get_word_vectors(self):\n",
    "        return self.word_embeddings\n",
    "            \n",
    "    def _find_topic_words_and_scores(self, topic_vectors):\n",
    "        topic_words = []\n",
    "        topic_word_scores = []\n",
    "\n",
    "        res = np.inner(topic_vectors, self._get_word_vectors())\n",
    "        top_words = np.flip(np.argsort(res, axis=1), axis=1)\n",
    "        top_scores = np.flip(np.sort(res, axis=1), axis=1)\n",
    "\n",
    "        for words, scores in zip(top_words, top_scores):\n",
    "            topic_words.append([self._index2word(i) for i in words[0:50]])\n",
    "            topic_word_scores.append(scores[0:50])\n",
    "\n",
    "        topic_words = np.array(topic_words)\n",
    "        topic_word_scores = np.array(topic_word_scores)\n",
    "\n",
    "        return topic_words, topic_word_scores\n",
    "    \n",
    "    @staticmethod\n",
    "    def _calculate_documents_topic(topic_vectors, document_vectors, dist=True):\n",
    "        batch_size = 10000\n",
    "        doc_top = []\n",
    "        if dist:\n",
    "            doc_dist = []\n",
    "\n",
    "        if document_vectors.shape[0] > batch_size:\n",
    "            current = 0\n",
    "            batches = int(document_vectors.shape[0] / batch_size)\n",
    "            extra = document_vectors.shape[0] % batch_size\n",
    "\n",
    "            for ind in range(0, batches):\n",
    "                res = np.inner(document_vectors[current:current + batch_size], topic_vectors)\n",
    "                doc_top.extend(np.argmax(res, axis=1))\n",
    "                if dist:\n",
    "                    doc_dist.extend(np.max(res, axis=1))\n",
    "                current += batch_size\n",
    "\n",
    "            if extra > 0:\n",
    "                res = np.inner(document_vectors[current:current + extra], topic_vectors)\n",
    "                doc_top.extend(np.argmax(res, axis=1))\n",
    "                if dist:\n",
    "                    doc_dist.extend(np.max(res, axis=1))\n",
    "            if dist:\n",
    "                doc_dist = np.array(doc_dist)\n",
    "        else:\n",
    "            res = np.inner(document_vectors, topic_vectors)\n",
    "            doc_top = np.argmax(res, axis=1)\n",
    "            if dist:\n",
    "                doc_dist = np.max(res, axis=1)\n",
    "\n",
    "        if dist:\n",
    "            return doc_top, doc_dist\n",
    "        else:\n",
    "            return doc_top\n",
    "        \n",
    "    def _calculate_topic_sizes(self, hierarchy=False):\n",
    "        if hierarchy:\n",
    "            topic_sizes = pd.Series(self.doc_top_reduced).value_counts()\n",
    "        else:\n",
    "            topic_sizes = pd.Series(self.doc_top).value_counts()\n",
    "\n",
    "        return topic_sizes\n",
    "    \n",
    "    def _reorder_topics(self, hierarchy=False):\n",
    "\n",
    "        if hierarchy:\n",
    "            self.topic_vectors_reduced = self.topic_vectors_reduced[self.topic_sizes_reduced.index]\n",
    "            self.topic_words_reduced = self.topic_words_reduced[self.topic_sizes_reduced.index]\n",
    "            self.topic_word_scores_reduced = self.topic_word_scores_reduced[self.topic_sizes_reduced.index]\n",
    "            old2new = dict(zip(self.topic_sizes_reduced.index, range(self.topic_sizes_reduced.index.shape[0])))\n",
    "            self.doc_top_reduced = np.array([old2new[i] for i in self.doc_top_reduced])\n",
    "            self.hierarchy = [self.hierarchy[i] for i in self.topic_sizes_reduced.index]\n",
    "            self.topic_sizes_reduced.reset_index(drop=True, inplace=True)\n",
    "        else:\n",
    "            self.topic_vectors = self.topic_vectors[self.topic_sizes.index]\n",
    "            self.topic_words = self.topic_words[self.topic_sizes.index]\n",
    "            self.topic_word_scores = self.topic_word_scores[self.topic_sizes.index]\n",
    "            old2new = dict(zip(self.topic_sizes.index, range(self.topic_sizes.index.shape[0])))\n",
    "            self.doc_top = np.array([old2new[i] for i in self.doc_top])\n",
    "            self.topic_sizes.reset_index(drop=True, inplace=True)"
   ]
  },
  {
   "cell_type": "code",
   "execution_count": 74,
   "id": "172ca1b4-e9ce-42ce-abbb-058eabb9a19e",
   "metadata": {},
   "outputs": [
    {
     "name": "stdout",
     "output_type": "stream",
     "text": [
      "point 1\n"
     ]
    }
   ],
   "source": [
    "doc2vec = Doc2VecCustom(logger, documents, reversed_dictionary, word_embeddings)"
   ]
  },
  {
   "cell_type": "code",
   "execution_count": 75,
   "id": "e0f3dc85-6331-474f-81a5-48cbb3064f09",
   "metadata": {},
   "outputs": [
    {
     "name": "stdout",
     "output_type": "stream",
     "text": [
      "183\n"
     ]
    },
    {
     "data": {
      "text/plain": [
       "array([['hiring rebounded faster', 'making detection difficult', 'rel=',\n",
       "        ..., 'cabinet', 'regulation services provider', 'dermatologists'],\n",
       "       ['tsx', 'company', 'cnw/', ..., 'greenback', 'equity $',\n",
       "        'gas stations'],\n",
       "       ['equity $', 'jamie freed', 'total liabilities', ...,\n",
       "        'people republic', 'listing rules', 'investment properties'],\n",
       "       ...,\n",
       "       ['ordered', 'businesses', 'service', ..., 'impacting',\n",
       "        'resilience', 'mortgages'],\n",
       "       ['contact', 'circular', 'accuracy', ..., 'http', 'tissues',\n",
       "        'cnw/'],\n",
       "       ['time', 'highest', 'reduction', ..., 'previous year', 'notes',\n",
       "        'repayable']], dtype='<U90')"
      ]
     },
     "execution_count": 75,
     "metadata": {},
     "output_type": "execute_result"
    }
   ],
   "source": [
    "print(len(doc2vec.topic_words))\n",
    "doc2vec.topic_words"
   ]
  },
  {
   "cell_type": "code",
   "execution_count": 76,
   "id": "a943a4f9-3d26-4da0-83a3-818d13e02e3a",
   "metadata": {},
   "outputs": [
    {
     "data": {
      "text/plain": [
       "array(['hiring rebounded faster', 'making detection difficult', 'rel=',\n",
       "       'gives small employers significant leeway',\n",
       "       'international financial reporting standards', 'symptoms overlap',\n",
       "       'constitution', 'mark heinrich', 'disinfect hard surfaces',\n",
       "       'unexpected improvement', 'unedited', 'deny leave', 'uefa',\n",
       "       'proposed', 'coronavirus symptoms',\n",
       "       'consolidated financial statements', 'irrational panic shoppers]',\n",
       "       'declare', 'larry king', 'include toe lesions', 'bats',\n",
       "       'damp conditions', 'nonporous', 'union', 'finance leases', 'nhl',\n",
       "       'meeting', 'geneva', 'international olympic committee',\n",
       "       'accepts responsibility', 'ias', 'http', 'new standard',\n",
       "       'investor relations', 'financing activities', 'nofollow',\n",
       "       'stay-at-home mandates began', 'secretary', 'form 10-q',\n",
       "       'paragraph', 'like part-time', 'surface transmission',\n",
       "       'non-ifrs measures', 'general meeting', 'measure excludes',\n",
       "       'visit http', 'psychology', 'cabinet',\n",
       "       'regulation services provider', 'dermatologists'], dtype='<U90')"
      ]
     },
     "execution_count": 76,
     "metadata": {},
     "output_type": "execute_result"
    }
   ],
   "source": [
    "doc2vec.topic_words[0]"
   ]
  },
  {
   "cell_type": "code",
   "execution_count": 77,
   "id": "4166560f-ce10-400e-9d1a-18d83ba33a91",
   "metadata": {},
   "outputs": [
    {
     "data": {
      "text/plain": [
       "array(['stand ready', 'charities', 'essential travel', 'sun',\n",
       "       'february reported losing', 'studio', 'sick pay', 'foreign',\n",
       "       'currently working', 'quarantined', 'association',\n",
       "       'text-decoration', 'watching', 'clip', 'world', 'email', 'coffee',\n",
       "       'co', 'trains', 'stockholm', 'commonwealth office',\n",
       "       'coronavirus lockdown', 'britain brave nhs heroes', 'showing',\n",
       "       'self-isolate', 'cyprus', 'welcoming', 'childcare', 'school',\n",
       "       'issues', 'live blog', 'welcomed', 'quote', 'settled', 'ended —',\n",
       "       'pakistan', 'thank', 'tom hanks', 'monaco', 'furloughed',\n",
       "       'workers living', 'self-employed people', 'actors', 'like', 'boat',\n",
       "       'migration', 'come home', 'australians', 'flight attendants',\n",
       "       'wednesday afternoon'], dtype='<U90')"
      ]
     },
     "execution_count": 77,
     "metadata": {},
     "output_type": "execute_result"
    }
   ],
   "source": [
    "doc2vec.topic_words[10]"
   ]
  },
  {
   "cell_type": "code",
   "execution_count": 80,
   "id": "70eb20c3-d802-4018-87c7-256d4747d7c5",
   "metadata": {},
   "outputs": [
    {
     "data": {
      "text/plain": [
       "array(['total liabilities', 'up-to-the-minute coverage',\n",
       "       'share attributable', 'use disinfecting wipes', 'rmb2',\n",
       "       'total current liabilities', 'non-current',\n",
       "       'disinfect hard surfaces', 'potentially sick people', 'seat',\n",
       "       'accrued expenses', 'hands', 'ordinary shareholders', 'compared',\n",
       "       'allocation', 's$', 'repayable', 'total assets', 'mouth',\n",
       "       'non-controlling interest', 'un agency advises people', 'equity $',\n",
       "       'breadth', 'owners', 'payables', 'authorisation', 'rmb',\n",
       "       'specific cure', 'mainly attributable', 'changyou',\n",
       "       'restricted cash', 'new shares', 'turnover', 'ordinary shares',\n",
       "       'money markets', 'rmb3', 'directors', 'mortgage-backed securities',\n",
       "       'advances', 'rmb0', 'properties', 'household earning', 'net sales',\n",
       "       'unaudited', 'coronavirus symptoms', 'billion yuan', 'primarily',\n",
       "       'oral statements', 'dispose', 'like part-time'], dtype='<U90')"
      ]
     },
     "execution_count": 80,
     "metadata": {},
     "output_type": "execute_result"
    }
   ],
   "source": [
    "doc2vec.topic_words[75]"
   ]
  },
  {
   "cell_type": "code",
   "execution_count": 81,
   "id": "768c4614-8c8c-4419-803c-f87a496e2799",
   "metadata": {},
   "outputs": [
    {
     "data": {
      "text/plain": [
       "array([[-0.08656428, -0.10526719, -0.00490898, ...,  0.07338336,\n",
       "        -0.07652663, -0.04370673],\n",
       "       [ 0.0728389 ,  0.03991343,  0.01279974, ...,  0.07452159,\n",
       "        -0.06001463, -0.0064584 ],\n",
       "       [-0.07564057,  0.13048364,  0.07646126, ...,  0.005602  ,\n",
       "        -0.04271905,  0.05587185],\n",
       "       ...,\n",
       "       [ 0.05725852, -0.06412213, -0.06018567, ..., -0.03334264,\n",
       "        -0.05080355,  0.02289374],\n",
       "       [ 0.15514138, -0.11167125, -0.00980208, ..., -0.0782685 ,\n",
       "         0.00740562, -0.03646227],\n",
       "       [ 0.1544364 , -0.11470329, -0.10446167, ..., -0.02850814,\n",
       "         0.03240791,  0.01526658]], dtype=float32)"
      ]
     },
     "execution_count": 81,
     "metadata": {},
     "output_type": "execute_result"
    }
   ],
   "source": [
    "doc2vec.topic_vectors"
   ]
  },
  {
   "cell_type": "code",
   "execution_count": 3,
   "id": "2f0f96f0-1831-4456-8245-67a9a1007947",
   "metadata": {},
   "outputs": [
    {
     "name": "stdout",
     "output_type": "stream",
     "text": [
      "<class 'tuple'> (56, 67, 87)\n",
      "(65, 76, 78)\n"
     ]
    }
   ],
   "source": [
    "tuples_test = [(56,65), (67,76), (87,78)]\n",
    "tuples_test_col1, tuples_test_col2 = zip(*tuples_test) \n",
    "print(type(tuples_test_col1), tuples_test_col1)\n",
    "print(tuples_test_col2)"
   ]
  },
  {
   "cell_type": "code",
   "execution_count": null,
   "id": "b6e66822-1722-4b0b-a752-86f29ddfa88a",
   "metadata": {},
   "outputs": [],
   "source": []
  }
 ],
 "metadata": {
  "kernelspec": {
   "display_name": "Python 3",
   "language": "python",
   "name": "python3"
  },
  "language_info": {
   "codemirror_mode": {
    "name": "ipython",
    "version": 3
   },
   "file_extension": ".py",
   "mimetype": "text/x-python",
   "name": "python",
   "nbconvert_exporter": "python",
   "pygments_lexer": "ipython3",
   "version": "3.8.0"
  }
 },
 "nbformat": 4,
 "nbformat_minor": 5
}
