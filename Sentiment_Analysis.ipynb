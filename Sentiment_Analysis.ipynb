{
 "cells": [
  {
   "cell_type": "code",
   "execution_count": 1,
   "id": "8c4ecd23-e0ac-4dc8-8228-66f199535acf",
   "metadata": {},
   "outputs": [],
   "source": [
    "import pandas as pd\n",
    "import os\n",
    "import csv\n",
    "import logging\n",
    "import numpy as np\n",
    "import datetime as datetime\n",
    "import pickle\n",
    "from tqdm import tqdm\n",
    "\n",
    "from happytransformer import HappyTextClassification # https://happytransformer.com/\n",
    "from sklearn.metrics import confusion_matrix\n",
    "from transformers import pipeline\n",
    "from transformers import AutoTokenizer, AutoModelForSequenceClassification"
   ]
  },
  {
   "cell_type": "code",
   "execution_count": 2,
   "id": "3507c2bb-2708-4a22-9f3a-ab802d13d6df",
   "metadata": {},
   "outputs": [
    {
     "data": {
      "text/plain": [
       "365200"
      ]
     },
     "execution_count": 2,
     "metadata": {},
     "output_type": "execute_result"
    }
   ],
   "source": [
    "df = pd.read_pickle('./data/df_processed.pickle')\n",
    "len(df)"
   ]
  },
  {
   "cell_type": "code",
   "execution_count": 3,
   "id": "c33c5271-371c-4960-b080-0096fc9fd43c",
   "metadata": {},
   "outputs": [
    {
     "data": {
      "text/html": [
       "<div>\n",
       "<style scoped>\n",
       "    .dataframe tbody tr th:only-of-type {\n",
       "        vertical-align: middle;\n",
       "    }\n",
       "\n",
       "    .dataframe tbody tr th {\n",
       "        vertical-align: top;\n",
       "    }\n",
       "\n",
       "    .dataframe thead th {\n",
       "        text-align: right;\n",
       "    }\n",
       "</style>\n",
       "<table border=\"1\" class=\"dataframe\">\n",
       "  <thead>\n",
       "    <tr style=\"text-align: right;\">\n",
       "      <th></th>\n",
       "      <th>author</th>\n",
       "      <th>date</th>\n",
       "      <th>domain</th>\n",
       "      <th>title</th>\n",
       "      <th>url</th>\n",
       "      <th>content</th>\n",
       "      <th>topic_area</th>\n",
       "      <th>content_processed</th>\n",
       "    </tr>\n",
       "  </thead>\n",
       "  <tbody>\n",
       "    <tr>\n",
       "      <th>0</th>\n",
       "      <td>Thomas Hughes</td>\n",
       "      <td>2020-01-02</td>\n",
       "      <td>marketbeat</td>\n",
       "      <td>Three Industrial Giants You Should Own In 2020</td>\n",
       "      <td>https://www.marketbeat.com/originals/three-ind...</td>\n",
       "      <td>With the end of the year just around the corne...</td>\n",
       "      <td>business</td>\n",
       "      <td>end year corner past time think positioning fo...</td>\n",
       "    </tr>\n",
       "    <tr>\n",
       "      <th>369046</th>\n",
       "      <td>NaN</td>\n",
       "      <td>2020-12-31</td>\n",
       "      <td>marketscreener</td>\n",
       "      <td>FTSE 100 wraps up worst year since 2008 financ...</td>\n",
       "      <td>https://www.marketscreener.com/quote/index/FTS...</td>\n",
       "      <td>The FTSE 100 lost 1.5%, with consumer stocks, ...</td>\n",
       "      <td>business</td>\n",
       "      <td>ftse lost consumer stocks mainly unilever diag...</td>\n",
       "    </tr>\n",
       "  </tbody>\n",
       "</table>\n",
       "</div>"
      ],
      "text/plain": [
       "               author       date          domain  \\\n",
       "0       Thomas Hughes 2020-01-02      marketbeat   \n",
       "369046            NaN 2020-12-31  marketscreener   \n",
       "\n",
       "                                                    title  \\\n",
       "0          Three Industrial Giants You Should Own In 2020   \n",
       "369046  FTSE 100 wraps up worst year since 2008 financ...   \n",
       "\n",
       "                                                      url  \\\n",
       "0       https://www.marketbeat.com/originals/three-ind...   \n",
       "369046  https://www.marketscreener.com/quote/index/FTS...   \n",
       "\n",
       "                                                  content topic_area  \\\n",
       "0       With the end of the year just around the corne...   business   \n",
       "369046  The FTSE 100 lost 1.5%, with consumer stocks, ...   business   \n",
       "\n",
       "                                        content_processed  \n",
       "0       end year corner past time think positioning fo...  \n",
       "369046  ftse lost consumer stocks mainly unilever diag...  "
      ]
     },
     "execution_count": 3,
     "metadata": {},
     "output_type": "execute_result"
    }
   ],
   "source": [
    "df.head(1).append(df.tail(1))"
   ]
  },
  {
   "cell_type": "markdown",
   "id": "7ee4e924-c97e-4cf6-9622-8992e81fc191",
   "metadata": {},
   "source": [
    "# Distilbert\n",
    "https://huggingface.co/distilbert-base-uncased-finetuned-sst-2-english"
   ]
  },
  {
   "cell_type": "code",
   "execution_count": 4,
   "id": "e4c52fc1-6bf6-4bc4-b211-ecf1825dd372",
   "metadata": {},
   "outputs": [
    {
     "name": "stderr",
     "output_type": "stream",
     "text": [
      "08/27/2021 20:29:36 - INFO - happytransformer.happy_transformer -   Using model: cuda\n"
     ]
    }
   ],
   "source": [
    "distilbert = HappyTextClassification(\"DISTILBERT\", \"distilbert-base-uncased-finetuned-sst-2-english\", num_labels=2)\n",
    "\n",
    "df['distilbert'] = ''\n",
    "col_num = df.columns.get_loc('distilbert')\n",
    "\n",
    "for idx, title in tqdm(enumerate(df['title'])):\n",
    "    if not pd.isnull(title):\n",
    "        if len(title.split(\" \")) < 512:\n",
    "            label = distilbert.classify_text(title).label\n",
    "            df.iloc[idx, col_num] = label\n",
    "        else:\n",
    "            df.iloc[idx, col_num] = \"TOO_LONG\"\n",
    "    else:\n",
    "        df.iloc[idx, col_num] = \"\""
   ]
  },
  {
   "cell_type": "code",
   "execution_count": 5,
   "id": "78f044b5-6769-4a6b-ae91-233c701dc664",
   "metadata": {},
   "outputs": [
    {
     "name": "stdout",
     "output_type": "stream",
     "text": [
      "TextClassificationResult(label='POSITIVE', score=0.9037488102912903)\n",
      "TextClassificationResult(label='POSITIVE', score=0.9998459815979004)\n",
      "TextClassificationResult(label='NEGATIVE', score=0.9976422190666199)\n"
     ]
    }
   ],
   "source": [
    "print(distilbert.classify_text(\"I am blue\"))\n",
    "print(distilbert.classify_text(\"I love candy\"))\n",
    "print(distilbert.classify_text(\"I hate candy\"))"
   ]
  },
  {
   "cell_type": "markdown",
   "id": "68b5d387-f13c-4bcc-ab0f-9500750c1e17",
   "metadata": {},
   "source": [
    "# Finbert\n",
    "https://huggingface.co/ProsusAI/finbert"
   ]
  },
  {
   "cell_type": "code",
   "execution_count": 10,
   "id": "da0300dd-45cf-40e6-959b-775bdf95f4e3",
   "metadata": {},
   "outputs": [
    {
     "name": "stderr",
     "output_type": "stream",
     "text": [
      "08/27/2021 21:16:51 - INFO - happytransformer.happy_transformer -   Using model: cuda\n",
      "365200it [1:06:07, 92.05it/s] \n"
     ]
    }
   ],
   "source": [
    "finbert = HappyTextClassification(\"FINBERT\", \"ProsusAI/finbert\", num_labels=3)\n",
    "\n",
    "df['finbert'] = ''\n",
    "col_num = df.columns.get_loc('finbert')\n",
    "\n",
    "for idx, title in tqdm(enumerate(df['title'])):\n",
    "    if not pd.isnull(title):\n",
    "        if len(title.split(\" \")) < 512:\n",
    "            label = finbert.classify_text(title).label\n",
    "            df.iloc[idx, col_num] = label\n",
    "        else:\n",
    "            df.iloc[idx, col_num] = \"TOO_LONG\"\n",
    "    else:\n",
    "        df.iloc[idx, col_num] = \"\""
   ]
  },
  {
   "cell_type": "markdown",
   "id": "079859f9-7ced-4f6e-9ffc-1f020395de8b",
   "metadata": {},
   "source": [
    "# Roberta\n",
    "https://huggingface.co/roberta-large-mnli"
   ]
  },
  {
   "cell_type": "code",
   "execution_count": 9,
   "id": "45ece02b-e9f5-497e-98d6-f5d7334aa5e5",
   "metadata": {},
   "outputs": [
    {
     "name": "stderr",
     "output_type": "stream",
     "text": [
      "08/28/2021 16:56:33 - INFO - happytransformer.happy_transformer -   Using model: cuda\n",
      "365200it [1:54:58, 52.94it/s]\n"
     ]
    }
   ],
   "source": [
    "roberta = HappyTextClassification(\"ROBERTA\", \"siebert/sentiment-roberta-large-english\", num_labels=2)\n",
    "\n",
    "df['roberta'] = ''\n",
    "col_num = df.columns.get_loc('roberta')\n",
    "\n",
    "for idx, title in tqdm(enumerate(df['title'])):\n",
    "    if not pd.isnull(title):\n",
    "        if len(title.split(\" \")) < 512:\n",
    "            label = roberta.classify_text(title).label\n",
    "            df.iloc[idx, col_num] = label\n",
    "        else:\n",
    "            df.iloc[idx, col_num] = \"TOO_LONG\"\n",
    "    else:\n",
    "        df.iloc[idx, col_num] = \"\""
   ]
  },
  {
   "cell_type": "code",
   "execution_count": 19,
   "id": "4541068c-a131-4a5c-8674-d3be98e1b449",
   "metadata": {},
   "outputs": [],
   "source": []
  },
  {
   "cell_type": "raw",
   "id": "c09a257f-2ae5-4b31-92d8-8b1b2476f343",
   "metadata": {},
   "source": [
    "# Preprocessing titles\n",
    "\n",
    "# drop nan\n",
    "titles = df['title'].dropna()\n",
    "# drop long\n",
    "titles = titles[titles.str.count(\" \") < 512]"
   ]
  },
  {
   "cell_type": "raw",
   "id": "ef1a6969-0ad6-4fea-898e-49d1660c49a4",
   "metadata": {},
   "source": [
    "#tokenizer = AutoTokenizer.from_pretrained(\"roberta-large-mnli\")\n",
    "#model = AutoModelForSequenceClassification.from_pretrained(\"roberta-large-mnli\")\n",
    "#pipe = pipeline(task=\"sentiment-analysis\", model=\"roberta-large-mnli\", return_all_scores=True)\n",
    "\n",
    "roberta = pipeline(\"sentiment-analysis\",model=\"siebert/sentiment-roberta-large-english\")\n",
    "\n",
    "df['roberta'] = ''\n",
    "col_num = df.columns.get_loc('roberta')\n",
    "\n",
    "labels = roberta(list(titles)) # takes too much memory, will need to batch it\n",
    "\n",
    "for idx, label in tqdm(enumerate(labels)):\n",
    "    df.iloc[idx, col_num] = label['label']"
   ]
  },
  {
   "cell_type": "markdown",
   "id": "45137077-11b5-4a33-a867-4d4de55dada1",
   "metadata": {},
   "source": [
    "### Save/Load Sentiment Rankings"
   ]
  },
  {
   "cell_type": "code",
   "execution_count": 97,
   "id": "2bab9367-8bc2-4907-a454-95d322b67637",
   "metadata": {},
   "outputs": [
    {
     "name": "stdout",
     "output_type": "stream",
     "text": [
      "365200\n"
     ]
    }
   ],
   "source": [
    "process_sentiment = False\n",
    "\n",
    "if process_sentiment:\n",
    "    df.to_pickle('./data/df_sentiment.pickle')\n",
    "else:\n",
    "    df = pd.read_pickle('./data/df_sentiment.pickle')\n",
    "    df['finbert'] = df['finbert'].str.upper()\n",
    "    print(len(df))"
   ]
  },
  {
   "cell_type": "code",
   "execution_count": 98,
   "id": "74463742-d4b1-4440-a182-b70d898c451b",
   "metadata": {},
   "outputs": [
    {
     "data": {
      "text/html": [
       "<div>\n",
       "<style scoped>\n",
       "    .dataframe tbody tr th:only-of-type {\n",
       "        vertical-align: middle;\n",
       "    }\n",
       "\n",
       "    .dataframe tbody tr th {\n",
       "        vertical-align: top;\n",
       "    }\n",
       "\n",
       "    .dataframe thead th {\n",
       "        text-align: right;\n",
       "    }\n",
       "</style>\n",
       "<table border=\"1\" class=\"dataframe\">\n",
       "  <thead>\n",
       "    <tr style=\"text-align: right;\">\n",
       "      <th></th>\n",
       "      <th>author</th>\n",
       "      <th>date</th>\n",
       "      <th>domain</th>\n",
       "      <th>title</th>\n",
       "      <th>url</th>\n",
       "      <th>content</th>\n",
       "      <th>topic_area</th>\n",
       "      <th>content_processed</th>\n",
       "      <th>distilbert</th>\n",
       "      <th>finbert</th>\n",
       "      <th>roberta</th>\n",
       "    </tr>\n",
       "  </thead>\n",
       "  <tbody>\n",
       "    <tr>\n",
       "      <th>0</th>\n",
       "      <td>Thomas Hughes</td>\n",
       "      <td>2020-01-02</td>\n",
       "      <td>marketbeat</td>\n",
       "      <td>Three Industrial Giants You Should Own In 2020</td>\n",
       "      <td>https://www.marketbeat.com/originals/three-ind...</td>\n",
       "      <td>With the end of the year just around the corne...</td>\n",
       "      <td>business</td>\n",
       "      <td>end year corner past time think positioning fo...</td>\n",
       "      <td>POSITIVE</td>\n",
       "      <td>NEUTRAL</td>\n",
       "      <td>POSITIVE</td>\n",
       "    </tr>\n",
       "    <tr>\n",
       "      <th>369046</th>\n",
       "      <td>NaN</td>\n",
       "      <td>2020-12-31</td>\n",
       "      <td>marketscreener</td>\n",
       "      <td>FTSE 100 wraps up worst year since 2008 financ...</td>\n",
       "      <td>https://www.marketscreener.com/quote/index/FTS...</td>\n",
       "      <td>The FTSE 100 lost 1.5%, with consumer stocks, ...</td>\n",
       "      <td>business</td>\n",
       "      <td>ftse lost consumer stocks mainly unilever diag...</td>\n",
       "      <td>NEGATIVE</td>\n",
       "      <td>NEGATIVE</td>\n",
       "      <td>NEGATIVE</td>\n",
       "    </tr>\n",
       "  </tbody>\n",
       "</table>\n",
       "</div>"
      ],
      "text/plain": [
       "               author       date          domain  \\\n",
       "0       Thomas Hughes 2020-01-02      marketbeat   \n",
       "369046            NaN 2020-12-31  marketscreener   \n",
       "\n",
       "                                                    title  \\\n",
       "0          Three Industrial Giants You Should Own In 2020   \n",
       "369046  FTSE 100 wraps up worst year since 2008 financ...   \n",
       "\n",
       "                                                      url  \\\n",
       "0       https://www.marketbeat.com/originals/three-ind...   \n",
       "369046  https://www.marketscreener.com/quote/index/FTS...   \n",
       "\n",
       "                                                  content topic_area  \\\n",
       "0       With the end of the year just around the corne...   business   \n",
       "369046  The FTSE 100 lost 1.5%, with consumer stocks, ...   business   \n",
       "\n",
       "                                        content_processed distilbert  \\\n",
       "0       end year corner past time think positioning fo...   POSITIVE   \n",
       "369046  ftse lost consumer stocks mainly unilever diag...   NEGATIVE   \n",
       "\n",
       "         finbert   roberta  \n",
       "0        NEUTRAL  POSITIVE  \n",
       "369046  NEGATIVE  NEGATIVE  "
      ]
     },
     "execution_count": 98,
     "metadata": {},
     "output_type": "execute_result"
    }
   ],
   "source": [
    "df.head(1).append(df.tail(1))"
   ]
  },
  {
   "cell_type": "code",
   "execution_count": 102,
   "id": "b7e3f147-5d7c-4664-bcb5-29e9be5311f6",
   "metadata": {},
   "outputs": [],
   "source": [
    "df_cm = df[(df['distilbert'] != \"\") & (df['distilbert'] != \"TOO_LONG\") & (df['distilbert'] != \"too_long\")]"
   ]
  },
  {
   "cell_type": "code",
   "execution_count": 103,
   "id": "2097cf92-b90b-4317-a36f-3499d5c48b92",
   "metadata": {},
   "outputs": [
    {
     "name": "stdout",
     "output_type": "stream",
     "text": [
      "NEGATIVE    233689\n",
      "POSITIVE    131425\n",
      "Name: distilbert, dtype: int64 \n",
      "\n",
      "NEUTRAL     198364\n",
      "NEGATIVE    105979\n",
      "POSITIVE     60771\n",
      "Name: finbert, dtype: int64 \n",
      "\n",
      "POSITIVE    202051\n",
      "NEGATIVE    163063\n",
      "Name: roberta, dtype: int64\n"
     ]
    }
   ],
   "source": [
    "print(df_cm['distilbert'].value_counts(), '\\n')\n",
    "print(df_cm['finbert'].value_counts(), '\\n')\n",
    "print(df_cm['roberta'].value_counts())"
   ]
  },
  {
   "cell_type": "code",
   "execution_count": 105,
   "id": "0b2ad9ed-5413-4528-b530-135882785d01",
   "metadata": {},
   "outputs": [
    {
     "data": {
      "text/html": [
       "<div>\n",
       "<style scoped>\n",
       "    .dataframe tbody tr th:only-of-type {\n",
       "        vertical-align: middle;\n",
       "    }\n",
       "\n",
       "    .dataframe tbody tr th {\n",
       "        vertical-align: top;\n",
       "    }\n",
       "\n",
       "    .dataframe thead th {\n",
       "        text-align: right;\n",
       "    }\n",
       "</style>\n",
       "<table border=\"1\" class=\"dataframe\">\n",
       "  <thead>\n",
       "    <tr style=\"text-align: right;\">\n",
       "      <th></th>\n",
       "      <th>NEGATIVE</th>\n",
       "      <th>POSITIVE</th>\n",
       "      <th>NEUTRAL</th>\n",
       "      <th>TOTAL</th>\n",
       "    </tr>\n",
       "  </thead>\n",
       "  <tbody>\n",
       "    <tr>\n",
       "      <th>NEGATIVE</th>\n",
       "      <td>98357</td>\n",
       "      <td>7622</td>\n",
       "      <td>0</td>\n",
       "      <td>105979</td>\n",
       "    </tr>\n",
       "    <tr>\n",
       "      <th>POSITIVE</th>\n",
       "      <td>24353</td>\n",
       "      <td>36418</td>\n",
       "      <td>0</td>\n",
       "      <td>60771</td>\n",
       "    </tr>\n",
       "    <tr>\n",
       "      <th>NEUTRAL</th>\n",
       "      <td>110979</td>\n",
       "      <td>87385</td>\n",
       "      <td>0</td>\n",
       "      <td>198364</td>\n",
       "    </tr>\n",
       "    <tr>\n",
       "      <th>TOTAL</th>\n",
       "      <td>233689</td>\n",
       "      <td>131425</td>\n",
       "      <td>0</td>\n",
       "      <td>365114</td>\n",
       "    </tr>\n",
       "  </tbody>\n",
       "</table>\n",
       "</div>"
      ],
      "text/plain": [
       "          NEGATIVE  POSITIVE  NEUTRAL   TOTAL\n",
       "NEGATIVE     98357      7622        0  105979\n",
       "POSITIVE     24353     36418        0   60771\n",
       "NEUTRAL     110979     87385        0  198364\n",
       "TOTAL       233689    131425        0  365114"
      ]
     },
     "execution_count": 105,
     "metadata": {},
     "output_type": "execute_result"
    }
   ],
   "source": [
    "cm = pd.DataFrame(confusion_matrix(df_cm['finbert'], df_cm['distilbert'], labels=['NEGATIVE', 'POSITIVE', 'NEUTRAL']), \n",
    "             columns=['NEGATIVE', 'POSITIVE', 'NEUTRAL'],\n",
    "             index=['NEGATIVE', 'POSITIVE', 'NEUTRAL'])\n",
    "cm['TOTAL'] = cm.sum(axis=1)\n",
    "cm.loc['TOTAL']= cm.sum()\n",
    "cm"
   ]
  },
  {
   "cell_type": "code",
   "execution_count": 106,
   "id": "3f5d6b67-76e8-42f0-97ad-a267584e1459",
   "metadata": {},
   "outputs": [
    {
     "data": {
      "text/html": [
       "<div>\n",
       "<style scoped>\n",
       "    .dataframe tbody tr th:only-of-type {\n",
       "        vertical-align: middle;\n",
       "    }\n",
       "\n",
       "    .dataframe tbody tr th {\n",
       "        vertical-align: top;\n",
       "    }\n",
       "\n",
       "    .dataframe thead th {\n",
       "        text-align: right;\n",
       "    }\n",
       "</style>\n",
       "<table border=\"1\" class=\"dataframe\">\n",
       "  <thead>\n",
       "    <tr style=\"text-align: right;\">\n",
       "      <th></th>\n",
       "      <th>NEGATIVE</th>\n",
       "      <th>POSITIVE</th>\n",
       "      <th>NEUTRAL</th>\n",
       "      <th>TOTAL</th>\n",
       "    </tr>\n",
       "  </thead>\n",
       "  <tbody>\n",
       "    <tr>\n",
       "      <th>NEGATIVE</th>\n",
       "      <td>90854</td>\n",
       "      <td>15125</td>\n",
       "      <td>0</td>\n",
       "      <td>105979</td>\n",
       "    </tr>\n",
       "    <tr>\n",
       "      <th>POSITIVE</th>\n",
       "      <td>8011</td>\n",
       "      <td>52760</td>\n",
       "      <td>0</td>\n",
       "      <td>60771</td>\n",
       "    </tr>\n",
       "    <tr>\n",
       "      <th>NEUTRAL</th>\n",
       "      <td>64198</td>\n",
       "      <td>134166</td>\n",
       "      <td>0</td>\n",
       "      <td>198364</td>\n",
       "    </tr>\n",
       "    <tr>\n",
       "      <th>TOTAL</th>\n",
       "      <td>163063</td>\n",
       "      <td>202051</td>\n",
       "      <td>0</td>\n",
       "      <td>365114</td>\n",
       "    </tr>\n",
       "  </tbody>\n",
       "</table>\n",
       "</div>"
      ],
      "text/plain": [
       "          NEGATIVE  POSITIVE  NEUTRAL   TOTAL\n",
       "NEGATIVE     90854     15125        0  105979\n",
       "POSITIVE      8011     52760        0   60771\n",
       "NEUTRAL      64198    134166        0  198364\n",
       "TOTAL       163063    202051        0  365114"
      ]
     },
     "execution_count": 106,
     "metadata": {},
     "output_type": "execute_result"
    }
   ],
   "source": [
    "cm = pd.DataFrame(confusion_matrix(df_cm['finbert'], df_cm['roberta'], labels=['NEGATIVE', 'POSITIVE', 'NEUTRAL']), \n",
    "             columns=['NEGATIVE', 'POSITIVE', 'NEUTRAL'],\n",
    "             index=['NEGATIVE', 'POSITIVE', 'NEUTRAL'])\n",
    "cm['TOTAL'] = cm.sum(axis=1)\n",
    "cm.loc['TOTAL']= cm.sum()\n",
    "cm"
   ]
  },
  {
   "cell_type": "code",
   "execution_count": 107,
   "id": "3b8132a9-faf1-49e0-8962-570f55906cd6",
   "metadata": {},
   "outputs": [
    {
     "data": {
      "text/html": [
       "<div>\n",
       "<style scoped>\n",
       "    .dataframe tbody tr th:only-of-type {\n",
       "        vertical-align: middle;\n",
       "    }\n",
       "\n",
       "    .dataframe tbody tr th {\n",
       "        vertical-align: top;\n",
       "    }\n",
       "\n",
       "    .dataframe thead th {\n",
       "        text-align: right;\n",
       "    }\n",
       "</style>\n",
       "<table border=\"1\" class=\"dataframe\">\n",
       "  <thead>\n",
       "    <tr style=\"text-align: right;\">\n",
       "      <th></th>\n",
       "      <th>NEGATIVE</th>\n",
       "      <th>POSITIVE</th>\n",
       "      <th>TOTAL</th>\n",
       "    </tr>\n",
       "  </thead>\n",
       "  <tbody>\n",
       "    <tr>\n",
       "      <th>NEGATIVE</th>\n",
       "      <td>145922</td>\n",
       "      <td>87767</td>\n",
       "      <td>233689</td>\n",
       "    </tr>\n",
       "    <tr>\n",
       "      <th>POSITIVE</th>\n",
       "      <td>17141</td>\n",
       "      <td>114284</td>\n",
       "      <td>131425</td>\n",
       "    </tr>\n",
       "    <tr>\n",
       "      <th>TOTAL</th>\n",
       "      <td>163063</td>\n",
       "      <td>202051</td>\n",
       "      <td>365114</td>\n",
       "    </tr>\n",
       "  </tbody>\n",
       "</table>\n",
       "</div>"
      ],
      "text/plain": [
       "          NEGATIVE  POSITIVE   TOTAL\n",
       "NEGATIVE    145922     87767  233689\n",
       "POSITIVE     17141    114284  131425\n",
       "TOTAL       163063    202051  365114"
      ]
     },
     "execution_count": 107,
     "metadata": {},
     "output_type": "execute_result"
    }
   ],
   "source": [
    "cm = pd.DataFrame(confusion_matrix(df_cm['distilbert'], df_cm['roberta'], labels=['NEGATIVE', 'POSITIVE']), \n",
    "             columns=['NEGATIVE', 'POSITIVE'],\n",
    "             index=['NEGATIVE', 'POSITIVE'])\n",
    "cm['TOTAL'] = cm.sum(axis=1)\n",
    "cm.loc['TOTAL']= cm.sum()\n",
    "cm"
   ]
  },
  {
   "cell_type": "code",
   "execution_count": 108,
   "id": "850cb174-5e2f-49ca-8e65-682dcc1d3363",
   "metadata": {},
   "outputs": [
    {
     "name": "stdout",
     "output_type": "stream",
     "text": [
      "365200\n"
     ]
    }
   ],
   "source": [
    "df_topics = pd.read_pickle(\"./data/df_with_topics\")\n",
    "print(len(df_topics))"
   ]
  },
  {
   "cell_type": "code",
   "execution_count": 113,
   "id": "818bd58f-60f3-4854-a165-cf335608c680",
   "metadata": {},
   "outputs": [],
   "source": [
    "df_combined = pd.merge(df, df_topics[df_topics['topic_label'] != \"\"][['topic_id', 'topic_label']], how='left', left_index=True, right_index=True)"
   ]
  },
  {
   "cell_type": "code",
   "execution_count": 114,
   "id": "30040985-5779-428b-bad1-a354d9aa030e",
   "metadata": {},
   "outputs": [],
   "source": [
    "sentiment_match = np.array(df_combined[['finbert', 'distilbert', 'roberta']])\n",
    "sentiment_match = np.all(np.equal(sentiment_match, sentiment_match[:,:1]), axis=1)\n",
    "df_combined['sentiment_match'] = sentiment_match"
   ]
  },
  {
   "cell_type": "code",
   "execution_count": 116,
   "id": "6e1f9ed9-156d-4558-a292-e2fc88e9efff",
   "metadata": {},
   "outputs": [],
   "source": [
    "df_sent_match = df_combined[df_combined['sentiment_match'] == True]"
   ]
  },
  {
   "cell_type": "code",
   "execution_count": 150,
   "id": "60bcb381-bb1d-4f9f-b4b5-94c6db2fab14",
   "metadata": {},
   "outputs": [
    {
     "name": "stdout",
     "output_type": "stream",
     "text": [
      "Burberry Closes US Warehouse After Workers Test Positive\n",
      "NEGATIVE\n",
      "['employees', 'amazon', 'warehouse', 'unsafe']\n",
      "News & Analysis A total of three employees tested positive for the virus, and the facility will be closed indefinitely. VINELAND, New Jersey — The luxury brand Burberry is famed for plaid scarves and $1,800 trench coats. But for employees at its only warehouse in the US — operating as an “essential business” during the pandemic — daily standard issue in the time of Covid-19 is this: one surgical mask, one disinfectant wipe. For weeks, employees have been growing increasingly anxious about working conditions at the New Jersey facility, the British company’s gateway to the US market. This past weekend, they found out that a total of three workers had tested positive for the virus, according to a memo sent to employees and viewed by Bloomberg News. The facility will be shut indefinitely. The 300 employees at the warehouse in Vineland are among the many thousands of mostly low-paid workers across the economy keeping retailers afloat. While steps taken to contain the coronavirus have resulted in shuttered shops nationwide, warehouse workers continue to fill online orders. Concerns about their safety persist. Employees at retailers that stock general goods such as Amazon.com Inc. and Walmart Inc. have become sick even as other businesses, deemed non-essential, remain closed. Several Burberry warehouse workers said they felt unsafe at work. They said social distancing was difficult to practice and that equipment was shared. A Burberry spokesperson said the New Jersey location had reduced capacity by splitting the workforce into separate shifts, each fewer than 50 employees, down from between 150 and 300. The company said it provided hand sanitiser, wipes and surgical masks. Workers continue to receive full wages. Confidential Hotline “Throughout, we have closely followed government and health authority guidelines and put in place measures aligned with these that are designed to help prevent the spread of the virus and ensure everyone’s safety and well-being,” the company said in a statement. “We have a confidential hotline for employees to share any concerns they may have. If anyone is uncomfortable for any reason, we are allowing them to stay home on full pay until further notice.” Workers said the company began taking their temperatures when they arrived for their shifts last week, nearly two months after the pandemic struck New Jersey. But the procedure was stopped several days later due to a faulty thermometer, the workers said. “We are currently exploring having a third-party on site to provide temperature checks when we eventually reopen,” the company said. Issuing Paychecks Unlike most retailers, Burberry has not placed employees on furlough and continues to issue paychecks to its 10,000 workers in the US and abroad. Executives took a 20 percent pay cut into June and the company has said it won’t accept government money to pay staff. Burberry warehouse employees said that after the first employee contracted the virus, the company distributed a memo. However, rumours persisted about the illness of two additional employees. Warehouse workers said they were told about these two cases only after Bloomberg News asked Burberry to comment. Burberry disputed this, saying it informed workers each time an employee became ill. Essential Employees A prolonged closing of the New Jersey warehouse, 40 miles south of Philadelphia, would extend shipping times for shoppers. The company, for whom the Americas are responsible for more than one-fifth of annual sales, said it has no current plans to shut down its US e-commerce site and will warn customers of delays. The company said its sales may have fallen as much as 80 percent in the final weeks of March, and workers said orders were down noticeably. Burberry said the warehouse had remained in operation because it met the requirements for an essential business set by New Jersey Governor Phil Murphy. The company provided workers with an essential-employee letter signed by Ashley Peña, a human-resources official. The document, dated March 23, was shown to Bloomberg News by an employee who said they were told to carry it on their way to work. “Please accept this letter as confirmation that this employee is a warehouse worker at the Burberry (Wholesale) Limited distribution center,” it read. “As a warehouse worker, this employee needs to be physically present at the work site in order to perform their duties.” Stagger Shifts One employee, convinced the warehouse was not doing essential business, reported the company to state authorities. Murphy’s office declined to comment on whether the facility is essential, referring questions to state Attorney General Gurbir Grewal. A representative of Grewal’s office said it was looking into the matter. Most US apparel warehouses have remained open during the pandemic. They’ve been classified as essential logistics operations. In an April 8 executive order, Murphy mandated that warehouse operators must stagger shifts and lunch breaks, limit sharing of tools, provide hand sanitiser and sanitizing wipes, clean and disinfect according to Centers for Disease Control and Prevention guidelines, and promptly notify workers if someone in the workplace tests positive for Covid-19. Companies have a legal duty to tell employees about positive tests, said Aaron Olsen, a partner at the Haeggquist & Eck law firm focused on employment law. “If they’re not doing that, employees have a right to complain to” the US Occupational Safety and Health Administration, or OSHA, Olsen said. “Even at businesses that are truly essential, they need to be creating a safe environment.” By Kim Bhasin, Anders Melin and Polly Mosendz Gucci Just Left the Fashion Calendar Behind. Who Will Follow?\n"
     ]
    }
   ],
   "source": [
    "idx = 400\n",
    "print(df_sent_match[~df_sent_match['topic_label'].isna()].iloc[idx]['title'])\n",
    "print(df_sent_match[~df_sent_match['topic_label'].isna()].iloc[idx]['distilbert'])\n",
    "print(df_sent_match[~df_sent_match['topic_label'].isna()].iloc[idx]['topic_label'])\n",
    "print(df_sent_match[~df_sent_match['topic_label'].isna()].iloc[idx]['content'])"
   ]
  },
  {
   "cell_type": "code",
   "execution_count": null,
   "id": "755b7dca-ed8a-4d29-9bde-4a37cf980777",
   "metadata": {},
   "outputs": [],
   "source": []
  },
  {
   "cell_type": "code",
   "execution_count": 140,
   "id": "5664b319-553f-4dfa-9703-96e0853fed56",
   "metadata": {},
   "outputs": [],
   "source": [
    "#df_ner = pd.read_pickle('./data/df_ner_210717.pickle')"
   ]
  },
  {
   "cell_type": "code",
   "execution_count": 139,
   "id": "98309fd6-23b1-494e-aa2c-51cbc44c0235",
   "metadata": {},
   "outputs": [],
   "source": [
    "#df_ner"
   ]
  },
  {
   "cell_type": "code",
   "execution_count": null,
   "id": "d2647233-6ce4-4c3f-a647-98a15aa0f469",
   "metadata": {},
   "outputs": [],
   "source": []
  }
 ],
 "metadata": {
  "kernelspec": {
   "display_name": "Python 3 (ipykernel)",
   "language": "python",
   "name": "python3"
  },
  "language_info": {
   "codemirror_mode": {
    "name": "ipython",
    "version": 3
   },
   "file_extension": ".py",
   "mimetype": "text/x-python",
   "name": "python",
   "nbconvert_exporter": "python",
   "pygments_lexer": "ipython3",
   "version": "3.8.0"
  }
 },
 "nbformat": 4,
 "nbformat_minor": 5
}
